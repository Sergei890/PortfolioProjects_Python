{
 "cells": [
  {
   "cell_type": "markdown",
   "id": "0e499f0d",
   "metadata": {},
   "source": [
    "<h1> <div style=\"text-align: center\"> <font color=darkblue> <ins> Portfolio (Python): <font color=black> Project 1</font> </div> <ins>"
   ]
  },
  {
   "cell_type": "markdown",
   "id": "287cf529",
   "metadata": {},
   "source": [
    "<h2> Welcome"
   ]
  },
  {
   "cell_type": "markdown",
   "id": "12766da7",
   "metadata": {},
   "source": [
    "- In this short Python Project I went through one of my real job tasks that I did some time ago. \n",
    "- (The Data however was drastically reduced and changed for confidentiality reasons). \n",
    "- The project is aimed to demonstrate my knowledge of Python and the respective libraries."
   ]
  },
  {
   "cell_type": "markdown",
   "id": "33bc7ebb",
   "metadata": {},
   "source": [
    "<h1> <div style=\"text-align: right\"> <font color=brown> <ins> Setup Working Environment </font> </div> <ins>"
   ]
  },
  {
   "cell_type": "code",
   "execution_count": 1,
   "id": "662fc1e4",
   "metadata": {},
   "outputs": [],
   "source": [
    "import pandas as pd\n",
    "import numpy as np\n",
    "\n",
    "import warnings\n",
    "warnings.filterwarnings('ignore')\n",
    "\n",
    "import missingno\n",
    "\n",
    "import seaborn as sns\n",
    "import matplotlib.pyplot as plt\n",
    "\n",
    "from IPython.display import display as dsp"
   ]
  },
  {
   "cell_type": "code",
   "execution_count": 2,
   "id": "0560dbe7",
   "metadata": {},
   "outputs": [],
   "source": [
    "PATH = \"/Users/stard/Desktop/Python_Portfolio/\""
   ]
  },
  {
   "cell_type": "code",
   "execution_count": 3,
   "id": "d594baf4",
   "metadata": {},
   "outputs": [],
   "source": [
    "class bcolors:\n",
    "    BOLD = '\\033[1m'\n",
    "    UNDERLINE = '\\033[4m'\n",
    "    WARNING = '\\033[93m'"
   ]
  },
  {
   "cell_type": "code",
   "execution_count": 4,
   "id": "d78d5bc8",
   "metadata": {},
   "outputs": [],
   "source": [
    "styles = [dict(selector=\"caption\", \n",
    "    props=[(\"text-align\", \"center\"),\n",
    "    (\"font-size\", \"125%\"),\n",
    "    (\"color\", 'black')])] "
   ]
  },
  {
   "cell_type": "markdown",
   "id": "05415683",
   "metadata": {},
   "source": [
    "<h1> <div style=\"text-align: center\"> <font color=darkblue> <ins> Part 1 <font color=black> Import, Read and Modify Data </font> </div> <ins>"
   ]
  },
  {
   "cell_type": "code",
   "execution_count": 5,
   "id": "e634bdcc",
   "metadata": {
    "scrolled": true
   },
   "outputs": [],
   "source": [
    "data1 = pd.read_csv(PATH + \"portfolio_data1.csv\")\n",
    "data2 = pd.read_csv(PATH + \"portfolio_data2.csv\")\n",
    "data3 = pd.read_csv(PATH + \"portfolio_data3.csv\")"
   ]
  },
  {
   "cell_type": "code",
   "execution_count": 6,
   "id": "51c1e3f0",
   "metadata": {},
   "outputs": [],
   "source": [
    "float_format_data1 = dict.fromkeys(data1.select_dtypes('float').columns, \"{:1}\")\n",
    "float_format_data2 = dict.fromkeys(data2.select_dtypes('float').columns, \"{:1}\")\n",
    "float_format_data3 = dict.fromkeys(data3.select_dtypes('float').columns, \"{:1}\")"
   ]
  },
  {
   "cell_type": "markdown",
   "id": "c193d559",
   "metadata": {},
   "source": [
    "<h3> Preview of data"
   ]
  },
  {
   "cell_type": "code",
   "execution_count": 7,
   "id": "b7be73b8",
   "metadata": {},
   "outputs": [
    {
     "data": {
      "text/html": [
       "<style  type=\"text/css\" >\n",
       "    #T_c30cd_ caption {\n",
       "          text-align: center;\n",
       "          font-size: 125%;\n",
       "          color: black;\n",
       "    }</style><table id=\"T_c30cd_\" ><caption>Data 1 Preview</caption><thead>    <tr>        <th class=\"col_heading level0 col0\" >k01</th>        <th class=\"col_heading level0 col1\" >k21</th>        <th class=\"col_heading level0 col2\" >k31</th>        <th class=\"col_heading level0 col3\" >k71</th>        <th class=\"col_heading level0 col4\" >k81</th>        <th class=\"col_heading level0 col5\" >year</th>        <th class=\"col_heading level0 col6\" >ID</th>    </tr></thead><tbody>\n",
       "                <tr>\n",
       "                                <td id=\"T_c30cd_row0_col0\" class=\"data row0 col0\" >3.0</td>\n",
       "                        <td id=\"T_c30cd_row0_col1\" class=\"data row0 col1\" >2.0</td>\n",
       "                        <td id=\"T_c30cd_row0_col2\" class=\"data row0 col2\" >3.0</td>\n",
       "                        <td id=\"T_c30cd_row0_col3\" class=\"data row0 col3\" >7.0</td>\n",
       "                        <td id=\"T_c30cd_row0_col4\" class=\"data row0 col4\" >98.0</td>\n",
       "                        <td id=\"T_c30cd_row0_col5\" class=\"data row0 col5\" >2019</td>\n",
       "                        <td id=\"T_c30cd_row0_col6\" class=\"data row0 col6\" >19988054</td>\n",
       "            </tr>\n",
       "            <tr>\n",
       "                                <td id=\"T_c30cd_row1_col0\" class=\"data row1 col0\" >2.0</td>\n",
       "                        <td id=\"T_c30cd_row1_col1\" class=\"data row1 col1\" >1.0</td>\n",
       "                        <td id=\"T_c30cd_row1_col2\" class=\"data row1 col2\" >3.0</td>\n",
       "                        <td id=\"T_c30cd_row1_col3\" class=\"data row1 col3\" >21.0</td>\n",
       "                        <td id=\"T_c30cd_row1_col4\" class=\"data row1 col4\" >6.0</td>\n",
       "                        <td id=\"T_c30cd_row1_col5\" class=\"data row1 col5\" >2019</td>\n",
       "                        <td id=\"T_c30cd_row1_col6\" class=\"data row1 col6\" >19988054</td>\n",
       "            </tr>\n",
       "            <tr>\n",
       "                                <td id=\"T_c30cd_row2_col0\" class=\"data row2 col0\" >1.0</td>\n",
       "                        <td id=\"T_c30cd_row2_col1\" class=\"data row2 col1\" >2.0</td>\n",
       "                        <td id=\"T_c30cd_row2_col2\" class=\"data row2 col2\" >1.0</td>\n",
       "                        <td id=\"T_c30cd_row2_col3\" class=\"data row2 col3\" >49.0</td>\n",
       "                        <td id=\"T_c30cd_row2_col4\" class=\"data row2 col4\" >5.0</td>\n",
       "                        <td id=\"T_c30cd_row2_col5\" class=\"data row2 col5\" >2019</td>\n",
       "                        <td id=\"T_c30cd_row2_col6\" class=\"data row2 col6\" >19988054</td>\n",
       "            </tr>\n",
       "    </tbody></table>"
      ],
      "text/plain": [
       "<pandas.io.formats.style.Styler at 0x17720a358b0>"
      ]
     },
     "metadata": {},
     "output_type": "display_data"
    },
    {
     "data": {
      "text/html": [
       "<style  type=\"text/css\" >\n",
       "    #T_40ead_ caption {\n",
       "          text-align: center;\n",
       "          font-size: 125%;\n",
       "          color: black;\n",
       "    }</style><table id=\"T_40ead_\" ><caption>Data 2 Preview</caption><thead>    <tr>        <th class=\"col_heading level0 col0\" >k01</th>        <th class=\"col_heading level0 col1\" >c31</th>        <th class=\"col_heading level0 col2\" >c51</th>        <th class=\"col_heading level0 col3\" >c91</th>        <th class=\"col_heading level0 col4\" >year</th>        <th class=\"col_heading level0 col5\" >ID</th>    </tr></thead><tbody>\n",
       "                <tr>\n",
       "                                <td id=\"T_40ead_row0_col0\" class=\"data row0 col0\" >1.0</td>\n",
       "                        <td id=\"T_40ead_row0_col1\" class=\"data row0 col1\" >nan</td>\n",
       "                        <td id=\"T_40ead_row0_col2\" class=\"data row0 col2\" >nan</td>\n",
       "                        <td id=\"T_40ead_row0_col3\" class=\"data row0 col3\" >5.0</td>\n",
       "                        <td id=\"T_40ead_row0_col4\" class=\"data row0 col4\" >2019</td>\n",
       "                        <td id=\"T_40ead_row0_col5\" class=\"data row0 col5\" >19988054</td>\n",
       "            </tr>\n",
       "            <tr>\n",
       "                                <td id=\"T_40ead_row1_col0\" class=\"data row1 col0\" >2.0</td>\n",
       "                        <td id=\"T_40ead_row1_col1\" class=\"data row1 col1\" >nan</td>\n",
       "                        <td id=\"T_40ead_row1_col2\" class=\"data row1 col2\" >nan</td>\n",
       "                        <td id=\"T_40ead_row1_col3\" class=\"data row1 col3\" >42.0</td>\n",
       "                        <td id=\"T_40ead_row1_col4\" class=\"data row1 col4\" >2019</td>\n",
       "                        <td id=\"T_40ead_row1_col5\" class=\"data row1 col5\" >19988054</td>\n",
       "            </tr>\n",
       "            <tr>\n",
       "                                <td id=\"T_40ead_row2_col0\" class=\"data row2 col0\" >3.0</td>\n",
       "                        <td id=\"T_40ead_row2_col1\" class=\"data row2 col1\" >nan</td>\n",
       "                        <td id=\"T_40ead_row2_col2\" class=\"data row2 col2\" >nan</td>\n",
       "                        <td id=\"T_40ead_row2_col3\" class=\"data row2 col3\" >nan</td>\n",
       "                        <td id=\"T_40ead_row2_col4\" class=\"data row2 col4\" >2019</td>\n",
       "                        <td id=\"T_40ead_row2_col5\" class=\"data row2 col5\" >19988054</td>\n",
       "            </tr>\n",
       "    </tbody></table>"
      ],
      "text/plain": [
       "<pandas.io.formats.style.Styler at 0x17720a35850>"
      ]
     },
     "metadata": {},
     "output_type": "display_data"
    },
    {
     "data": {
      "text/html": [
       "<style  type=\"text/css\" >\n",
       "    #T_763d3_ caption {\n",
       "          text-align: center;\n",
       "          font-size: 125%;\n",
       "          color: black;\n",
       "    }</style><table id=\"T_763d3_\" ><caption>Data 3 Preview</caption><thead>    <tr>        <th class=\"col_heading level0 col0\" >k01</th>        <th class=\"col_heading level0 col1\" >k1_1</th>        <th class=\"col_heading level0 col2\" >k1_2</th>        <th class=\"col_heading level0 col3\" >k1_3</th>        <th class=\"col_heading level0 col4\" >k17</th>        <th class=\"col_heading level0 col5\" >k17_1</th>        <th class=\"col_heading level0 col6\" >k20_1</th>        <th class=\"col_heading level0 col7\" >k20_4</th>        <th class=\"col_heading level0 col8\" >k20_6</th>        <th class=\"col_heading level0 col9\" >k20_7</th>        <th class=\"col_heading level0 col10\" >k20_8</th>        <th class=\"col_heading level0 col11\" >year</th>        <th class=\"col_heading level0 col12\" >ID</th>    </tr></thead><tbody>\n",
       "                <tr>\n",
       "                                <td id=\"T_763d3_row0_col0\" class=\"data row0 col0\" >3.0</td>\n",
       "                        <td id=\"T_763d3_row0_col1\" class=\"data row0 col1\" >2.0</td>\n",
       "                        <td id=\"T_763d3_row0_col2\" class=\"data row0 col2\" >2.0</td>\n",
       "                        <td id=\"T_763d3_row0_col3\" class=\"data row0 col3\" >nan</td>\n",
       "                        <td id=\"T_763d3_row0_col4\" class=\"data row0 col4\" >3.0</td>\n",
       "                        <td id=\"T_763d3_row0_col5\" class=\"data row0 col5\" >nan</td>\n",
       "                        <td id=\"T_763d3_row0_col6\" class=\"data row0 col6\" >nan</td>\n",
       "                        <td id=\"T_763d3_row0_col7\" class=\"data row0 col7\" >nan</td>\n",
       "                        <td id=\"T_763d3_row0_col8\" class=\"data row0 col8\" >nan</td>\n",
       "                        <td id=\"T_763d3_row0_col9\" class=\"data row0 col9\" >nan</td>\n",
       "                        <td id=\"T_763d3_row0_col10\" class=\"data row0 col10\" >nan</td>\n",
       "                        <td id=\"T_763d3_row0_col11\" class=\"data row0 col11\" >2019</td>\n",
       "                        <td id=\"T_763d3_row0_col12\" class=\"data row0 col12\" >19988054</td>\n",
       "            </tr>\n",
       "            <tr>\n",
       "                                <td id=\"T_763d3_row1_col0\" class=\"data row1 col0\" >2.0</td>\n",
       "                        <td id=\"T_763d3_row1_col1\" class=\"data row1 col1\" >2.0</td>\n",
       "                        <td id=\"T_763d3_row1_col2\" class=\"data row1 col2\" >2.0</td>\n",
       "                        <td id=\"T_763d3_row1_col3\" class=\"data row1 col3\" >nan</td>\n",
       "                        <td id=\"T_763d3_row1_col4\" class=\"data row1 col4\" >3.0</td>\n",
       "                        <td id=\"T_763d3_row1_col5\" class=\"data row1 col5\" >nan</td>\n",
       "                        <td id=\"T_763d3_row1_col6\" class=\"data row1 col6\" >nan</td>\n",
       "                        <td id=\"T_763d3_row1_col7\" class=\"data row1 col7\" >nan</td>\n",
       "                        <td id=\"T_763d3_row1_col8\" class=\"data row1 col8\" >nan</td>\n",
       "                        <td id=\"T_763d3_row1_col9\" class=\"data row1 col9\" >nan</td>\n",
       "                        <td id=\"T_763d3_row1_col10\" class=\"data row1 col10\" >nan</td>\n",
       "                        <td id=\"T_763d3_row1_col11\" class=\"data row1 col11\" >2019</td>\n",
       "                        <td id=\"T_763d3_row1_col12\" class=\"data row1 col12\" >19988054</td>\n",
       "            </tr>\n",
       "            <tr>\n",
       "                                <td id=\"T_763d3_row2_col0\" class=\"data row2 col0\" >1.0</td>\n",
       "                        <td id=\"T_763d3_row2_col1\" class=\"data row2 col1\" >2.0</td>\n",
       "                        <td id=\"T_763d3_row2_col2\" class=\"data row2 col2\" >2.0</td>\n",
       "                        <td id=\"T_763d3_row2_col3\" class=\"data row2 col3\" >nan</td>\n",
       "                        <td id=\"T_763d3_row2_col4\" class=\"data row2 col4\" >3.0</td>\n",
       "                        <td id=\"T_763d3_row2_col5\" class=\"data row2 col5\" >nan</td>\n",
       "                        <td id=\"T_763d3_row2_col6\" class=\"data row2 col6\" >nan</td>\n",
       "                        <td id=\"T_763d3_row2_col7\" class=\"data row2 col7\" >nan</td>\n",
       "                        <td id=\"T_763d3_row2_col8\" class=\"data row2 col8\" >nan</td>\n",
       "                        <td id=\"T_763d3_row2_col9\" class=\"data row2 col9\" >nan</td>\n",
       "                        <td id=\"T_763d3_row2_col10\" class=\"data row2 col10\" >nan</td>\n",
       "                        <td id=\"T_763d3_row2_col11\" class=\"data row2 col11\" >2019</td>\n",
       "                        <td id=\"T_763d3_row2_col12\" class=\"data row2 col12\" >19988054</td>\n",
       "            </tr>\n",
       "    </tbody></table>"
      ],
      "text/plain": [
       "<pandas.io.formats.style.Styler at 0x17720a35af0>"
      ]
     },
     "metadata": {},
     "output_type": "display_data"
    }
   ],
   "source": [
    "dsp(data1.head(3).style.\n",
    "    set_caption(\"Data 1 Preview\").set_table_styles(styles).format(float_format_data1).hide_index())\n",
    "dsp(data2.head(3).style.\n",
    "    set_caption(\"Data 2 Preview\").set_table_styles(styles).format(float_format_data2).hide_index())\n",
    "dsp(data3.head(3).style.\n",
    "    set_caption(\"Data 3 Preview\").set_table_styles(styles).format(float_format_data3).hide_index())"
   ]
  },
  {
   "cell_type": "markdown",
   "id": "458cfc71",
   "metadata": {},
   "source": [
    "- <h3> <font color=darkyellow> Important Note: </font> In each dataframe we have <font color=darkyellow> ID</font>,<font color=darkyellow> year </font> and <font color=darkyellow> k01 </font> (which is connected to unique ID)"
   ]
  },
  {
   "cell_type": "code",
   "execution_count": 8,
   "id": "493df9ac",
   "metadata": {},
   "outputs": [
    {
     "data": {
      "image/png": "[encoded data removed]",
      "text/plain": [
       "<Figure size 1008x432 with 3 Axes>"
      ]
     },
     "metadata": {
      "needs_background": "light"
     },
     "output_type": "display_data"
    }
   ],
   "source": [
    "fig, (ax1, ax2, ax3) = plt.subplots(1, 3, sharey = True, figsize = (14, 6))\n",
    "\n",
    "ax1.bar([1], data1.shape[0], color = \"gray\", label = \"Total Rows\")\n",
    "ax1.bar([1], data1[\"ID\"].nunique(), color = \"khaki\", label = \"Unique IDs\")\n",
    "\n",
    "ax2.bar([1], data2.shape[0], color = \"gray\")\n",
    "ax2.bar([1], data2[\"ID\"].nunique(), color = \"khaki\")\n",
    "\n",
    "ax3.bar([1], data3.shape[0], color = \"gray\")\n",
    "ax3.bar([1], data3[\"ID\"].nunique(), color = \"khaki\")\n",
    "\n",
    "ax1.set_xticks([])\n",
    "ax2.set_xticks([])\n",
    "ax3.set_xticks([])\n",
    "\n",
    "ax1.legend()\n",
    "\n",
    "ax1.set_ylabel(\"# of Rows\", fontsize = 13)\n",
    "\n",
    "ax1.set_title(\"data1\", fontsize = 13)\n",
    "ax2.set_title(\"data2\", fontsize = 13)\n",
    "ax3.set_title(\"data3\", fontsize = 13)\n",
    "\n",
    "\n",
    "for rect in ax1.patches:\n",
    "    height = rect.get_height()\n",
    "    width = rect.get_width()\n",
    "    x = rect.get_x()\n",
    "    y = rect.get_y()\n",
    "    label_text = f'{height} rows'\n",
    "    label_x = x + width / 2\n",
    "    label_y = y + height / 2\n",
    "    if height > 0:\n",
    "        ax1.text(label_x, label_y, label_text, ha='center', va='center', fontsize=12, \n",
    "                 color = 'black', alpha = 0.8)\n",
    "\n",
    "\n",
    "for rect in ax2.patches:\n",
    "    height = rect.get_height()\n",
    "    width = rect.get_width()\n",
    "    x = rect.get_x()\n",
    "    y = rect.get_y()\n",
    "    label_text = f'{height} rows'\n",
    "    label_x = x + width / 2\n",
    "    label_y = y + height / 2\n",
    "    if height > 0:\n",
    "        ax2.text(label_x, label_y, label_text, ha='center', va='center', fontsize=12, \n",
    "                 color = 'black', alpha = 0.8)\n",
    "        \n",
    "for rect in ax3.patches:\n",
    "    height = rect.get_height()\n",
    "    width = rect.get_width()\n",
    "    x = rect.get_x()\n",
    "    y = rect.get_y()\n",
    "    label_text = f'{height} rows'\n",
    "    label_x = x + width / 2\n",
    "    label_y = y + height / 2\n",
    "    if height > 0:\n",
    "        ax3.text(label_x, label_y, label_text, ha='center', va='center', fontsize=12, \n",
    "                 color = 'black', alpha = 0.8)\n",
    "\n",
    "ax1.legend(mode = \"expand\", ncol = 2, bbox_to_anchor = ([1.25, -0.14, 0.9, 0.1]))\n",
    "\n",
    "fig.suptitle(\"Total Rows vs # of unique IDs\", y = 0.98, x = 0.51, fontsize = 18)\n",
    "\n",
    "plt.show()"
   ]
  },
  {
   "cell_type": "markdown",
   "id": "10626d1b",
   "metadata": {},
   "source": [
    "---"
   ]
  },
  {
   "cell_type": "markdown",
   "id": "db9a70bc",
   "metadata": {},
   "source": [
    "<h1> <div style=\"text-align: right\"> <font color=brown> <ins> Merge <font color=black> Data </font> </div> <ins>"
   ]
  },
  {
   "cell_type": "markdown",
   "id": "b1763bbc",
   "metadata": {},
   "source": [
    "<h3> We want to take a look how many values do we lose from both dataframes if we do inner join"
   ]
  },
  {
   "cell_type": "code",
   "execution_count": 9,
   "id": "42c3c19d",
   "metadata": {},
   "outputs": [],
   "source": [
    "data_merged_check = data3.merge(data2[['k01', 'c31', 'c51', 'c91', 'year', 'ID']], \n",
    "                                on=[\"year\", \"ID\", \"k01\"], \n",
    "                                how='outer', indicator=True)\n",
    "\n",
    "d={\"left_only\":\"Only present in data3\", \n",
    "   \"right_only\":\"Only present in data2\",\"both\":\"Present in Both data\"}\n",
    "data_merged_check['_merge'] = data_merged_check['_merge'].map(d)"
   ]
  },
  {
   "cell_type": "code",
   "execution_count": 10,
   "id": "213f4a45",
   "metadata": {},
   "outputs": [
    {
     "data": {
      "text/html": [
       "<style  type=\"text/css\" >\n",
       "    #T_7b663_ caption {\n",
       "          text-align: center;\n",
       "          font-size: 125%;\n",
       "          color: black;\n",
       "    }</style><table id=\"T_7b663_\" ><caption>Status of IDs from merge between data 3 and data 2</caption><thead>    <tr>        <th class=\"blank level0\" ></th>        <th class=\"col_heading level0 col0\" >ID_Count</th>    </tr>    <tr>        <th class=\"index_name level0\" >_merge</th>        <th class=\"blank\" ></th>    </tr></thead><tbody>\n",
       "                <tr>\n",
       "                        <th id=\"T_7b663_level0_row0\" class=\"row_heading level0 row0\" >Only present in data3</th>\n",
       "                        <td id=\"T_7b663_row0_col0\" class=\"data row0 col0\" >491</td>\n",
       "            </tr>\n",
       "            <tr>\n",
       "                        <th id=\"T_7b663_level0_row1\" class=\"row_heading level0 row1\" >Only present in data2</th>\n",
       "                        <td id=\"T_7b663_row1_col0\" class=\"data row1 col0\" >11077</td>\n",
       "            </tr>\n",
       "            <tr>\n",
       "                        <th id=\"T_7b663_level0_row2\" class=\"row_heading level0 row2\" >Present in Both data</th>\n",
       "                        <td id=\"T_7b663_row2_col0\" class=\"data row2 col0\" >296034</td>\n",
       "            </tr>\n",
       "    </tbody></table>"
      ],
      "text/plain": [
       "<pandas.io.formats.style.Styler at 0x1771bcea340>"
      ]
     },
     "metadata": {},
     "output_type": "display_data"
    },
    {
     "name": "stdout",
     "output_type": "stream",
     "text": [
      "\u001b[1mThat means that if we do inner join we lose: 11568 rows.\n"
     ]
    }
   ],
   "source": [
    "dsp(pd.DataFrame(data_merged_check.groupby(\"_merge\")\n",
    "                 [\"ID\"].count()).rename({\"ID\":\"ID_Count\"}, axis = 1).style.\n",
    "    set_caption(\"Status of IDs from merge between data 3 and data 2\").set_table_styles(styles))\n",
    "print(bcolors.BOLD + \"That means that if we do inner join we lose:\", \n",
    "     pd.DataFrame(data_merged_check.groupby(\"_merge\")[\"ID\"].count())[\"ID\"][0] + \n",
    "     pd.DataFrame(data_merged_check.groupby(\"_merge\")[\"ID\"].count())[\"ID\"][1], \"rows.\")"
   ]
  },
  {
   "cell_type": "markdown",
   "id": "bb5117ab",
   "metadata": {},
   "source": [
    "<h2> <font color=brown> Merge Method used: Inner"
   ]
  },
  {
   "cell_type": "code",
   "execution_count": 11,
   "id": "2f790c99",
   "metadata": {},
   "outputs": [],
   "source": [
    "data_merged = data3.merge(data2[['k01', 'c31', 'c51', 'c91', 'year', 'ID']], \n",
    "                          on=[\"year\", \"ID\", \"k01\"], \n",
    "                          how='inner')"
   ]
  },
  {
   "cell_type": "markdown",
   "id": "c8d1b547",
   "metadata": {},
   "source": [
    "---"
   ]
  },
  {
   "cell_type": "markdown",
   "id": "b95a39a1",
   "metadata": {},
   "source": [
    "<h3> We want to take a look how many values do we lose from both dataframes if we do next inner join"
   ]
  },
  {
   "cell_type": "code",
   "execution_count": 12,
   "id": "d7872e08",
   "metadata": {},
   "outputs": [],
   "source": [
    "data_merged_check = data_merged.merge(data1[['k01', 'k21', 'k31', 'k71', 'k81', 'year', 'ID']], \n",
    "                                      on=[\"ID\", \"year\", \"k01\"], \n",
    "                                      how='outer', indicator=True)\n",
    "d={\"left_only\":\"Only present in data3/2 (inner merge)\", \n",
    "   \"right_only\":\"Only present in data1\",\"both\":\"Present in Both data\"}\n",
    "data_merged_check['_merge'] = data_merged_check['_merge'].map(d)"
   ]
  },
  {
   "cell_type": "code",
   "execution_count": 13,
   "id": "99c473a4",
   "metadata": {},
   "outputs": [
    {
     "data": {
      "text/html": [
       "<style  type=\"text/css\" >\n",
       "    #T_c45ad_ caption {\n",
       "          text-align: center;\n",
       "          font-size: 125%;\n",
       "          color: black;\n",
       "    }</style><table id=\"T_c45ad_\" ><caption>Status of IDs from merge between data3/2 (inner merge) and data 1</caption><thead>    <tr>        <th class=\"blank level0\" ></th>        <th class=\"col_heading level0 col0\" >ID_Count</th>    </tr>    <tr>        <th class=\"index_name level0\" >_merge</th>        <th class=\"blank\" ></th>    </tr></thead><tbody>\n",
       "                <tr>\n",
       "                        <th id=\"T_c45ad_level0_row0\" class=\"row_heading level0 row0\" >Only present in data3/2 (inner merge)</th>\n",
       "                        <td id=\"T_c45ad_row0_col0\" class=\"data row0 col0\" >12245</td>\n",
       "            </tr>\n",
       "            <tr>\n",
       "                        <th id=\"T_c45ad_level0_row1\" class=\"row_heading level0 row1\" >Only present in data1</th>\n",
       "                        <td id=\"T_c45ad_row1_col0\" class=\"data row1 col0\" >3216</td>\n",
       "            </tr>\n",
       "            <tr>\n",
       "                        <th id=\"T_c45ad_level0_row2\" class=\"row_heading level0 row2\" >Present in Both data</th>\n",
       "                        <td id=\"T_c45ad_row2_col0\" class=\"data row2 col0\" >283789</td>\n",
       "            </tr>\n",
       "    </tbody></table>"
      ],
      "text/plain": [
       "<pandas.io.formats.style.Styler at 0x17720ebae80>"
      ]
     },
     "metadata": {},
     "output_type": "display_data"
    },
    {
     "name": "stdout",
     "output_type": "stream",
     "text": [
      "\u001b[1mThat means that if we do inner join we further lose: 15461 rows.\n"
     ]
    }
   ],
   "source": [
    "dsp(pd.DataFrame(data_merged_check.groupby(\"_merge\")\n",
    "                 [\"ID\"].count()).rename({\"ID\":\"ID_Count\"}, axis = 1).style.\n",
    "    set_caption(\"Status of IDs from merge between data3/2 (inner merge) and data 1\").set_table_styles(styles))\n",
    "print(bcolors.BOLD + \"That means that if we do inner join we further lose:\", \n",
    "     pd.DataFrame(data_merged_check.groupby(\"_merge\")[\"ID\"].count())[\"ID\"][0] + \n",
    "     pd.DataFrame(data_merged_check.groupby(\"_merge\")[\"ID\"].count())[\"ID\"][1], \"rows.\")"
   ]
  },
  {
   "cell_type": "markdown",
   "id": "5c114909",
   "metadata": {},
   "source": [
    "<h2> <font color=brown> Merge Method used: Inner"
   ]
  },
  {
   "cell_type": "code",
   "execution_count": 14,
   "id": "1e26f3d6",
   "metadata": {},
   "outputs": [],
   "source": [
    "data_merged = data_merged.merge(data1[['k01', 'k21', 'k31', 'k71', 'k81', 'year', 'ID']], \n",
    "                                on=[\"ID\", \"year\", \"k01\"], \n",
    "                                how='inner')"
   ]
  },
  {
   "cell_type": "code",
   "execution_count": 15,
   "id": "cb0c9934",
   "metadata": {},
   "outputs": [],
   "source": [
    "float_format_data_merged = dict.fromkeys(data_merged.select_dtypes('float').columns, \"{:1}\")"
   ]
  },
  {
   "cell_type": "markdown",
   "id": "369a3429",
   "metadata": {},
   "source": [
    "---"
   ]
  },
  {
   "cell_type": "markdown",
   "id": "3d8bdbf2",
   "metadata": {},
   "source": [
    "<h3> We need to add to our ID <font color=red> 105</font>, but only for years 2013 (included) and above"
   ]
  },
  {
   "cell_type": "code",
   "execution_count": 16,
   "id": "0d9170bc",
   "metadata": {},
   "outputs": [
    {
     "data": {
      "text/html": [
       "<style  type=\"text/css\" >\n",
       "    #T_a6937_ caption {\n",
       "          text-align: center;\n",
       "          font-size: 125%;\n",
       "          color: black;\n",
       "    }</style><table id=\"T_a6937_\" ><caption>Before</caption><thead>    <tr>        <th class=\"col_heading level0 col0\" >ID</th>        <th class=\"col_heading level0 col1\" >year</th>    </tr></thead><tbody>\n",
       "                <tr>\n",
       "                                <td id=\"T_a6937_row0_col0\" class=\"data row0 col0\" >19988054</td>\n",
       "                        <td id=\"T_a6937_row0_col1\" class=\"data row0 col1\" >2014</td>\n",
       "            </tr>\n",
       "    </tbody></table>"
      ],
      "text/plain": [
       "<pandas.io.formats.style.Styler at 0x17720e4b550>"
      ]
     },
     "metadata": {},
     "output_type": "display_data"
    },
    {
     "data": {
      "text/html": [
       "<style  type=\"text/css\" >\n",
       "    #T_ab1fe_ caption {\n",
       "          text-align: center;\n",
       "          font-size: 125%;\n",
       "          color: black;\n",
       "    }</style><table id=\"T_ab1fe_\" ><caption>Before</caption><thead>    <tr>        <th class=\"col_heading level0 col0\" >ID</th>        <th class=\"col_heading level0 col1\" >year</th>    </tr></thead><tbody>\n",
       "                <tr>\n",
       "                                <td id=\"T_ab1fe_row0_col0\" class=\"data row0 col0\" >7056</td>\n",
       "                        <td id=\"T_ab1fe_row0_col1\" class=\"data row0 col1\" >2012</td>\n",
       "            </tr>\n",
       "    </tbody></table>"
      ],
      "text/plain": [
       "<pandas.io.formats.style.Styler at 0x17721672640>"
      ]
     },
     "metadata": {},
     "output_type": "display_data"
    }
   ],
   "source": [
    "dsp(data_merged.filter([\"ID\", \"year\"]).query(\"year == 2014\").head(1).style.\n",
    "    hide_index().set_caption(\"Before\").set_table_styles(styles))\n",
    "dsp(data_merged.filter([\"ID\", \"year\"]).query(\"year == 2012\").head(1).style.\n",
    "    hide_index().set_caption(\"Before\").set_table_styles(styles))"
   ]
  },
  {
   "cell_type": "code",
   "execution_count": 17,
   "id": "62a5ccf9",
   "metadata": {},
   "outputs": [],
   "source": [
    "data_merged['ID_new'] = np.where(data_merged['year'] > 2012, \n",
    "                                   data_merged['ID'] + 105, data_merged['ID'])  # new hh_code column\n",
    "data_merged.drop('ID', axis = 1, inplace = True)  # drop old hh_code column\n",
    "data_merged.rename(columns={'ID_new': 'ID'}, inplace = True)"
   ]
  },
  {
   "cell_type": "code",
   "execution_count": 18,
   "id": "fc2efc0d",
   "metadata": {},
   "outputs": [
    {
     "data": {
      "text/html": [
       "<style  type=\"text/css\" >\n",
       "    #T_8ff42_ caption {\n",
       "          text-align: center;\n",
       "          font-size: 125%;\n",
       "          color: black;\n",
       "    }</style><table id=\"T_8ff42_\" ><caption>After</caption><thead>    <tr>        <th class=\"col_heading level0 col0\" >ID</th>        <th class=\"col_heading level0 col1\" >year</th>    </tr></thead><tbody>\n",
       "                <tr>\n",
       "                                <td id=\"T_8ff42_row0_col0\" class=\"data row0 col0\" >19988159</td>\n",
       "                        <td id=\"T_8ff42_row0_col1\" class=\"data row0 col1\" >2014</td>\n",
       "            </tr>\n",
       "    </tbody></table>"
      ],
      "text/plain": [
       "<pandas.io.formats.style.Styler at 0x1772163d340>"
      ]
     },
     "metadata": {},
     "output_type": "display_data"
    },
    {
     "data": {
      "text/html": [
       "<style  type=\"text/css\" >\n",
       "    #T_384c6_ caption {\n",
       "          text-align: center;\n",
       "          font-size: 125%;\n",
       "          color: black;\n",
       "    }</style><table id=\"T_384c6_\" ><caption>After</caption><thead>    <tr>        <th class=\"col_heading level0 col0\" >ID</th>        <th class=\"col_heading level0 col1\" >year</th>    </tr></thead><tbody>\n",
       "                <tr>\n",
       "                                <td id=\"T_384c6_row0_col0\" class=\"data row0 col0\" >7056</td>\n",
       "                        <td id=\"T_384c6_row0_col1\" class=\"data row0 col1\" >2012</td>\n",
       "            </tr>\n",
       "    </tbody></table>"
      ],
      "text/plain": [
       "<pandas.io.formats.style.Styler at 0x1772168fc40>"
      ]
     },
     "metadata": {},
     "output_type": "display_data"
    }
   ],
   "source": [
    "dsp(data_merged.filter([\"ID\", \"year\"]).query(\"year == 2014\").head(1).style.\n",
    "    hide_index().set_caption(\"After\").set_table_styles(styles))\n",
    "dsp(data_merged.filter([\"ID\", \"year\"]).query(\"year == 2012\").head(1).style.\n",
    "    hide_index().set_caption(\"After\").set_table_styles(styles))"
   ]
  },
  {
   "cell_type": "markdown",
   "id": "100bf6d5",
   "metadata": {},
   "source": [
    "---"
   ]
  },
  {
   "cell_type": "markdown",
   "id": "2d4d1a2a",
   "metadata": {},
   "source": [
    "<h3> We need to replace <font color=red> _ </font> with <font color=red> 0 </font> in the column's names"
   ]
  },
  {
   "cell_type": "code",
   "execution_count": 19,
   "id": "7c6ffbdc",
   "metadata": {},
   "outputs": [
    {
     "data": {
      "text/html": [
       "<style  type=\"text/css\" >\n",
       "    #T_d24b4_ caption {\n",
       "          text-align: center;\n",
       "          font-size: 125%;\n",
       "          color: black;\n",
       "    }</style><table id=\"T_d24b4_\" ><caption>Before</caption><thead>    <tr>        <th class=\"col_heading level0 col0\" >k1_1</th>        <th class=\"col_heading level0 col1\" >k1_2</th>        <th class=\"col_heading level0 col2\" >k1_3</th>        <th class=\"col_heading level0 col3\" >k17_1</th>        <th class=\"col_heading level0 col4\" >k20_1</th>        <th class=\"col_heading level0 col5\" >k20_4</th>        <th class=\"col_heading level0 col6\" >k20_6</th>        <th class=\"col_heading level0 col7\" >k20_7</th>        <th class=\"col_heading level0 col8\" >k20_8</th>    </tr></thead><tbody>\n",
       "                <tr>\n",
       "                                <td id=\"T_d24b4_row0_col0\" class=\"data row0 col0\" >2.0</td>\n",
       "                        <td id=\"T_d24b4_row0_col1\" class=\"data row0 col1\" >2.0</td>\n",
       "                        <td id=\"T_d24b4_row0_col2\" class=\"data row0 col2\" >nan</td>\n",
       "                        <td id=\"T_d24b4_row0_col3\" class=\"data row0 col3\" >nan</td>\n",
       "                        <td id=\"T_d24b4_row0_col4\" class=\"data row0 col4\" >nan</td>\n",
       "                        <td id=\"T_d24b4_row0_col5\" class=\"data row0 col5\" >nan</td>\n",
       "                        <td id=\"T_d24b4_row0_col6\" class=\"data row0 col6\" >nan</td>\n",
       "                        <td id=\"T_d24b4_row0_col7\" class=\"data row0 col7\" >nan</td>\n",
       "                        <td id=\"T_d24b4_row0_col8\" class=\"data row0 col8\" >nan</td>\n",
       "            </tr>\n",
       "    </tbody></table>"
      ],
      "text/plain": [
       "<pandas.io.formats.style.Styler at 0x1772168feb0>"
      ]
     },
     "metadata": {},
     "output_type": "display_data"
    }
   ],
   "source": [
    "dsp(data_merged.filter(like='_').head(1).style.\n",
    "    hide_index().set_caption(\"Before\").set_table_styles(styles).format(float_format_data_merged))"
   ]
  },
  {
   "cell_type": "code",
   "execution_count": 20,
   "id": "442c2a6d",
   "metadata": {},
   "outputs": [],
   "source": [
    "data_merged.columns = [x.replace('_', '0') for x in data_merged.columns]"
   ]
  },
  {
   "cell_type": "code",
   "execution_count": 21,
   "id": "a521cf62",
   "metadata": {},
   "outputs": [
    {
     "data": {
      "text/html": [
       "<style  type=\"text/css\" >\n",
       "    #T_67182_ caption {\n",
       "          text-align: center;\n",
       "          font-size: 125%;\n",
       "          color: black;\n",
       "    }</style><table id=\"T_67182_\" ><caption>After</caption><thead>    <tr>        <th class=\"col_heading level0 col0\" >k01</th>        <th class=\"col_heading level0 col1\" >k101</th>        <th class=\"col_heading level0 col2\" >k102</th>        <th class=\"col_heading level0 col3\" >k103</th>        <th class=\"col_heading level0 col4\" >k1701</th>        <th class=\"col_heading level0 col5\" >k2001</th>        <th class=\"col_heading level0 col6\" >k2004</th>        <th class=\"col_heading level0 col7\" >k2006</th>        <th class=\"col_heading level0 col8\" >k2007</th>        <th class=\"col_heading level0 col9\" >k2008</th>    </tr></thead><tbody>\n",
       "                <tr>\n",
       "                                <td id=\"T_67182_row0_col0\" class=\"data row0 col0\" >3.0</td>\n",
       "                        <td id=\"T_67182_row0_col1\" class=\"data row0 col1\" >2.0</td>\n",
       "                        <td id=\"T_67182_row0_col2\" class=\"data row0 col2\" >2.0</td>\n",
       "                        <td id=\"T_67182_row0_col3\" class=\"data row0 col3\" >nan</td>\n",
       "                        <td id=\"T_67182_row0_col4\" class=\"data row0 col4\" >nan</td>\n",
       "                        <td id=\"T_67182_row0_col5\" class=\"data row0 col5\" >nan</td>\n",
       "                        <td id=\"T_67182_row0_col6\" class=\"data row0 col6\" >nan</td>\n",
       "                        <td id=\"T_67182_row0_col7\" class=\"data row0 col7\" >nan</td>\n",
       "                        <td id=\"T_67182_row0_col8\" class=\"data row0 col8\" >nan</td>\n",
       "                        <td id=\"T_67182_row0_col9\" class=\"data row0 col9\" >nan</td>\n",
       "            </tr>\n",
       "    </tbody></table>"
      ],
      "text/plain": [
       "<pandas.io.formats.style.Styler at 0x1772168f340>"
      ]
     },
     "metadata": {},
     "output_type": "display_data"
    }
   ],
   "source": [
    "float_format = dict.fromkeys(data_merged.select_dtypes('float').columns, \"{:1}\")\n",
    "\n",
    "dsp(data_merged.filter(like='0').head(1).style.\n",
    "    hide_index().set_caption(\"After\").set_table_styles(styles).format(float_format))"
   ]
  },
  {
   "cell_type": "markdown",
   "id": "8e74e0a4",
   "metadata": {},
   "source": [
    "---"
   ]
  },
  {
   "cell_type": "markdown",
   "id": "0f353e38",
   "metadata": {},
   "source": [
    "<h1> <div style=\"text-align: right\"> <font color=brown> <ins> Check for <font color=black> Missing Values and Duplicates </font> </div> <ins>"
   ]
  },
  {
   "cell_type": "markdown",
   "id": "19c0d024",
   "metadata": {},
   "source": [
    "<h3> Look at the missing values"
   ]
  },
  {
   "cell_type": "code",
   "execution_count": 22,
   "id": "51c6dfcb",
   "metadata": {},
   "outputs": [
    {
     "data": {
      "text/html": [
       "<style  type=\"text/css\" >\n",
       "</style><table id=\"T_60bc2_\" ><thead>    <tr>        <th class=\"blank level0\" ></th>        <th class=\"col_heading level0 col0\" ># of Zeros</th>        <th class=\"col_heading level0 col1\" >% of Zeros</th>    </tr></thead><tbody>\n",
       "                <tr>\n",
       "                        <th id=\"T_60bc2_level0_row0\" class=\"row_heading level0 row0\" >k2008</th>\n",
       "                        <td id=\"T_60bc2_row0_col0\" class=\"data row0 col0\" >264356</td>\n",
       "                        <td id=\"T_60bc2_row0_col1\" class=\"data row0 col1\" >93.152%</td>\n",
       "            </tr>\n",
       "            <tr>\n",
       "                        <th id=\"T_60bc2_level0_row1\" class=\"row_heading level0 row1\" >k2004</th>\n",
       "                        <td id=\"T_60bc2_row1_col0\" class=\"data row1 col0\" >264311</td>\n",
       "                        <td id=\"T_60bc2_row1_col1\" class=\"data row1 col1\" >93.136%</td>\n",
       "            </tr>\n",
       "            <tr>\n",
       "                        <th id=\"T_60bc2_level0_row2\" class=\"row_heading level0 row2\" >k2001</th>\n",
       "                        <td id=\"T_60bc2_row2_col0\" class=\"data row2 col0\" >260928</td>\n",
       "                        <td id=\"T_60bc2_row2_col1\" class=\"data row2 col1\" >91.944%</td>\n",
       "            </tr>\n",
       "            <tr>\n",
       "                        <th id=\"T_60bc2_level0_row3\" class=\"row_heading level0 row3\" >c51</th>\n",
       "                        <td id=\"T_60bc2_row3_col0\" class=\"data row3 col0\" >254990</td>\n",
       "                        <td id=\"T_60bc2_row3_col1\" class=\"data row3 col1\" >89.852%</td>\n",
       "            </tr>\n",
       "            <tr>\n",
       "                        <th id=\"T_60bc2_level0_row4\" class=\"row_heading level0 row4\" >k2007</th>\n",
       "                        <td id=\"T_60bc2_row4_col0\" class=\"data row4 col0\" >254473</td>\n",
       "                        <td id=\"T_60bc2_row4_col1\" class=\"data row4 col1\" >89.67%</td>\n",
       "            </tr>\n",
       "            <tr>\n",
       "                        <th id=\"T_60bc2_level0_row5\" class=\"row_heading level0 row5\" >k1701</th>\n",
       "                        <td id=\"T_60bc2_row5_col0\" class=\"data row5 col0\" >250852</td>\n",
       "                        <td id=\"T_60bc2_row5_col1\" class=\"data row5 col1\" >88.394%</td>\n",
       "            </tr>\n",
       "            <tr>\n",
       "                        <th id=\"T_60bc2_level0_row6\" class=\"row_heading level0 row6\" >c31</th>\n",
       "                        <td id=\"T_60bc2_row6_col0\" class=\"data row6 col0\" >245277</td>\n",
       "                        <td id=\"T_60bc2_row6_col1\" class=\"data row6 col1\" >86.429%</td>\n",
       "            </tr>\n",
       "            <tr>\n",
       "                        <th id=\"T_60bc2_level0_row7\" class=\"row_heading level0 row7\" >k2006</th>\n",
       "                        <td id=\"T_60bc2_row7_col0\" class=\"data row7 col0\" >241356</td>\n",
       "                        <td id=\"T_60bc2_row7_col1\" class=\"data row7 col1\" >85.048%</td>\n",
       "            </tr>\n",
       "            <tr>\n",
       "                        <th id=\"T_60bc2_level0_row8\" class=\"row_heading level0 row8\" >k103</th>\n",
       "                        <td id=\"T_60bc2_row8_col0\" class=\"data row8 col0\" >227423</td>\n",
       "                        <td id=\"T_60bc2_row8_col1\" class=\"data row8 col1\" >80.138%</td>\n",
       "            </tr>\n",
       "            <tr>\n",
       "                        <th id=\"T_60bc2_level0_row9\" class=\"row_heading level0 row9\" >c91</th>\n",
       "                        <td id=\"T_60bc2_row9_col0\" class=\"data row9 col0\" >55547</td>\n",
       "                        <td id=\"T_60bc2_row9_col1\" class=\"data row9 col1\" >19.573%</td>\n",
       "            </tr>\n",
       "            <tr>\n",
       "                        <th id=\"T_60bc2_level0_row10\" class=\"row_heading level0 row10\" >k81</th>\n",
       "                        <td id=\"T_60bc2_row10_col0\" class=\"data row10 col0\" >6265</td>\n",
       "                        <td id=\"T_60bc2_row10_col1\" class=\"data row10 col1\" >2.208%</td>\n",
       "            </tr>\n",
       "            <tr>\n",
       "                        <th id=\"T_60bc2_level0_row11\" class=\"row_heading level0 row11\" >k102</th>\n",
       "                        <td id=\"T_60bc2_row11_col0\" class=\"data row11 col0\" >5</td>\n",
       "                        <td id=\"T_60bc2_row11_col1\" class=\"data row11 col1\" >0.002%</td>\n",
       "            </tr>\n",
       "            <tr>\n",
       "                        <th id=\"T_60bc2_level0_row12\" class=\"row_heading level0 row12\" >k17</th>\n",
       "                        <td id=\"T_60bc2_row12_col0\" class=\"data row12 col0\" >5</td>\n",
       "                        <td id=\"T_60bc2_row12_col1\" class=\"data row12 col1\" >0.002%</td>\n",
       "            </tr>\n",
       "            <tr>\n",
       "                        <th id=\"T_60bc2_level0_row13\" class=\"row_heading level0 row13\" >k101</th>\n",
       "                        <td id=\"T_60bc2_row13_col0\" class=\"data row13 col0\" >5</td>\n",
       "                        <td id=\"T_60bc2_row13_col1\" class=\"data row13 col1\" >0.002%</td>\n",
       "            </tr>\n",
       "    </tbody></table>"
      ],
      "text/plain": [
       "<pandas.io.formats.style.Styler at 0x17721693f10>"
      ]
     },
     "execution_count": 22,
     "metadata": {},
     "output_type": "execute_result"
    }
   ],
   "source": [
    "missing_data_merged = data_merged.isnull().sum().sort_values(ascending = False)\n",
    "missing_data_merged_df = (pd.DataFrame(missing_data_merged[missing_data_merged > 0]).\n",
    "                          rename({0:\"# of Zeros\"}, axis = 1))\n",
    "missing_data_merged_df[\"% of Zeros\"] = round((missing_data_merged_df[\"# of Zeros\"] / \n",
    "data_merged.shape[0]) * 100, 3)\n",
    "missing_data_merged_df.style.format({\"% of Zeros\": '{:1}%'})"
   ]
  },
  {
   "cell_type": "code",
   "execution_count": 23,
   "id": "dfdcce99",
   "metadata": {},
   "outputs": [],
   "source": [
    "data_merged.sort_values([\"year\", \"ID\", \"k01\"], axis=0, ascending=[False, True, True], inplace=True)"
   ]
  },
  {
   "cell_type": "code",
   "execution_count": 24,
   "id": "d0192566",
   "metadata": {},
   "outputs": [
    {
     "data": {
      "image/png": "[encoded data removed]",
      "text/plain": [
       "<Figure size 1800x720 with 2 Axes>"
      ]
     },
     "metadata": {
      "needs_background": "light"
     },
     "output_type": "display_data"
    }
   ],
   "source": [
    "missingo_data_merged = missingno.matrix(data_merged)\n",
    "missingo_data_merged;"
   ]
  },
  {
   "cell_type": "code",
   "execution_count": 25,
   "id": "57a56c47",
   "metadata": {},
   "outputs": [
    {
     "data": {
      "image/png": "[encoded data removed]",
      "text/plain": [
       "<Figure size 1800x720 with 3 Axes>"
      ]
     },
     "metadata": {
      "needs_background": "light"
     },
     "output_type": "display_data"
    }
   ],
   "source": [
    "missingno.bar(data_merged);"
   ]
  },
  {
   "cell_type": "code",
   "execution_count": 26,
   "id": "a6f631d6",
   "metadata": {},
   "outputs": [
    {
     "data": {
      "text/html": [
       "<style  type=\"text/css\" >\n",
       "    #T_f6e14_ caption {\n",
       "          text-align: center;\n",
       "          font-size: 125%;\n",
       "          color: black;\n",
       "    }</style><table id=\"T_f6e14_\" ><caption># of NaNs for selected above columns in accordance to year</caption><thead>    <tr>        <th class=\"blank level0\" ></th>        <th class=\"col_heading level0 col0\" >2013</th>        <th class=\"col_heading level0 col1\" >2017</th>        <th class=\"col_heading level0 col2\" >2016</th>        <th class=\"col_heading level0 col3\" >2015</th>        <th class=\"col_heading level0 col4\" >2019</th>        <th class=\"col_heading level0 col5\" >2014</th>        <th class=\"col_heading level0 col6\" >2009</th>        <th class=\"col_heading level0 col7\" >2005</th>        <th class=\"col_heading level0 col8\" >2006</th>        <th class=\"col_heading level0 col9\" >2011</th>        <th class=\"col_heading level0 col10\" >2010</th>        <th class=\"col_heading level0 col11\" >2012</th>        <th class=\"col_heading level0 col12\" >2008</th>        <th class=\"col_heading level0 col13\" >2007</th>        <th class=\"col_heading level0 col14\" >2018</th>    </tr></thead><tbody>\n",
       "                <tr>\n",
       "                        <th id=\"T_f6e14_level0_row0\" class=\"row_heading level0 row0\" >ID_Count</th>\n",
       "                        <td id=\"T_f6e14_row0_col0\" class=\"data row0 col0\" >19878</td>\n",
       "                        <td id=\"T_f6e14_row0_col1\" class=\"data row0 col1\" >19393</td>\n",
       "                        <td id=\"T_f6e14_row0_col2\" class=\"data row0 col2\" >19341</td>\n",
       "                        <td id=\"T_f6e14_row0_col3\" class=\"data row0 col3\" >19327</td>\n",
       "                        <td id=\"T_f6e14_row0_col4\" class=\"data row0 col4\" >19270</td>\n",
       "                        <td id=\"T_f6e14_row0_col5\" class=\"data row0 col5\" >19267</td>\n",
       "                        <td id=\"T_f6e14_row0_col6\" class=\"data row0 col6\" >18917</td>\n",
       "                        <td id=\"T_f6e14_row0_col7\" class=\"data row0 col7\" >18850</td>\n",
       "                        <td id=\"T_f6e14_row0_col8\" class=\"data row0 col8\" >18565</td>\n",
       "                        <td id=\"T_f6e14_row0_col9\" class=\"data row0 col9\" >18547</td>\n",
       "                        <td id=\"T_f6e14_row0_col10\" class=\"data row0 col10\" >18476</td>\n",
       "                        <td id=\"T_f6e14_row0_col11\" class=\"data row0 col11\" >18457</td>\n",
       "                        <td id=\"T_f6e14_row0_col12\" class=\"data row0 col12\" >18157</td>\n",
       "                        <td id=\"T_f6e14_row0_col13\" class=\"data row0 col13\" >17976</td>\n",
       "                        <td id=\"T_f6e14_row0_col14\" class=\"data row0 col14\" >3</td>\n",
       "            </tr>\n",
       "    </tbody></table>"
      ],
      "text/plain": [
       "<pandas.io.formats.style.Styler at 0x17722542f40>"
      ]
     },
     "metadata": {},
     "output_type": "display_data"
    }
   ],
   "source": [
    "data_check = data_merged.filter([\"year\", \"ID\",\n",
    "                                 'k103', 'k1701', 'k2001', \n",
    "                                 'k2004','k2006', 'k2007', 'k2008'])\n",
    "data_merged_null_data = data_check[data_check.isnull().any(axis=1)]\n",
    "dsp(pd.DataFrame(data_merged_null_data[\"year\"].value_counts()).rename({\"year\":\"ID_Count\"}, axis = 1).T.\n",
    "    style.set_caption(\"# of NaNs for selected above columns in accordance to year\").set_table_styles(styles))"
   ]
  },
  {
   "cell_type": "code",
   "execution_count": 27,
   "id": "327e9583",
   "metadata": {},
   "outputs": [
    {
     "data": {
      "text/html": [
       "<style  type=\"text/css\" >\n",
       "</style><table id=\"T_c81fa_\" ><thead>    <tr>        <th class=\"col_heading level0 col0\" >year</th>        <th class=\"col_heading level0 col1\" >ID</th>        <th class=\"col_heading level0 col2\" >k103</th>        <th class=\"col_heading level0 col3\" >k1701</th>        <th class=\"col_heading level0 col4\" >k2001</th>        <th class=\"col_heading level0 col5\" >k2004</th>        <th class=\"col_heading level0 col6\" >k2006</th>        <th class=\"col_heading level0 col7\" >k2007</th>        <th class=\"col_heading level0 col8\" >k2008</th>    </tr></thead><tbody>\n",
       "                <tr>\n",
       "                                <td id=\"T_c81fa_row0_col0\" class=\"data row0 col0\" >2018</td>\n",
       "                        <td id=\"T_c81fa_row0_col1\" class=\"data row0 col1\" >19988159</td>\n",
       "                        <td id=\"T_c81fa_row0_col2\" class=\"data row0 col2\" >0.0</td>\n",
       "                        <td id=\"T_c81fa_row0_col3\" class=\"data row0 col3\" >0.0</td>\n",
       "                        <td id=\"T_c81fa_row0_col4\" class=\"data row0 col4\" >0.0</td>\n",
       "                        <td id=\"T_c81fa_row0_col5\" class=\"data row0 col5\" >0.0</td>\n",
       "                        <td id=\"T_c81fa_row0_col6\" class=\"data row0 col6\" >0.0</td>\n",
       "                        <td id=\"T_c81fa_row0_col7\" class=\"data row0 col7\" >0.0</td>\n",
       "                        <td id=\"T_c81fa_row0_col8\" class=\"data row0 col8\" >0.0</td>\n",
       "            </tr>\n",
       "            <tr>\n",
       "                                <td id=\"T_c81fa_row1_col0\" class=\"data row1 col0\" >2018</td>\n",
       "                        <td id=\"T_c81fa_row1_col1\" class=\"data row1 col1\" >19988159</td>\n",
       "                        <td id=\"T_c81fa_row1_col2\" class=\"data row1 col2\" >0.0</td>\n",
       "                        <td id=\"T_c81fa_row1_col3\" class=\"data row1 col3\" >0.0</td>\n",
       "                        <td id=\"T_c81fa_row1_col4\" class=\"data row1 col4\" >0.0</td>\n",
       "                        <td id=\"T_c81fa_row1_col5\" class=\"data row1 col5\" >0.0</td>\n",
       "                        <td id=\"T_c81fa_row1_col6\" class=\"data row1 col6\" >0.0</td>\n",
       "                        <td id=\"T_c81fa_row1_col7\" class=\"data row1 col7\" >0.0</td>\n",
       "                        <td id=\"T_c81fa_row1_col8\" class=\"data row1 col8\" >0.0</td>\n",
       "            </tr>\n",
       "            <tr>\n",
       "                                <td id=\"T_c81fa_row2_col0\" class=\"data row2 col0\" >2018</td>\n",
       "                        <td id=\"T_c81fa_row2_col1\" class=\"data row2 col1\" >19988159</td>\n",
       "                        <td id=\"T_c81fa_row2_col2\" class=\"data row2 col2\" >0.0</td>\n",
       "                        <td id=\"T_c81fa_row2_col3\" class=\"data row2 col3\" >0.0</td>\n",
       "                        <td id=\"T_c81fa_row2_col4\" class=\"data row2 col4\" >0.0</td>\n",
       "                        <td id=\"T_c81fa_row2_col5\" class=\"data row2 col5\" >0.0</td>\n",
       "                        <td id=\"T_c81fa_row2_col6\" class=\"data row2 col6\" >0.0</td>\n",
       "                        <td id=\"T_c81fa_row2_col7\" class=\"data row2 col7\" >0.0</td>\n",
       "                        <td id=\"T_c81fa_row2_col8\" class=\"data row2 col8\" >0.0</td>\n",
       "            </tr>\n",
       "            <tr>\n",
       "                                <td id=\"T_c81fa_row3_col0\" class=\"data row3 col0\" >2018</td>\n",
       "                        <td id=\"T_c81fa_row3_col1\" class=\"data row3 col1\" >19989159</td>\n",
       "                        <td id=\"T_c81fa_row3_col2\" class=\"data row3 col2\" >0.0</td>\n",
       "                        <td id=\"T_c81fa_row3_col3\" class=\"data row3 col3\" >0.0</td>\n",
       "                        <td id=\"T_c81fa_row3_col4\" class=\"data row3 col4\" >0.0</td>\n",
       "                        <td id=\"T_c81fa_row3_col5\" class=\"data row3 col5\" >0.0</td>\n",
       "                        <td id=\"T_c81fa_row3_col6\" class=\"data row3 col6\" >0.0</td>\n",
       "                        <td id=\"T_c81fa_row3_col7\" class=\"data row3 col7\" >0.0</td>\n",
       "                        <td id=\"T_c81fa_row3_col8\" class=\"data row3 col8\" >0.0</td>\n",
       "            </tr>\n",
       "            <tr>\n",
       "                                <td id=\"T_c81fa_row4_col0\" class=\"data row4 col0\" >2018</td>\n",
       "                        <td id=\"T_c81fa_row4_col1\" class=\"data row4 col1\" >19990159</td>\n",
       "                        <td id=\"T_c81fa_row4_col2\" class=\"data row4 col2\" >0.0</td>\n",
       "                        <td id=\"T_c81fa_row4_col3\" class=\"data row4 col3\" >0.0</td>\n",
       "                        <td id=\"T_c81fa_row4_col4\" class=\"data row4 col4\" >0.0</td>\n",
       "                        <td id=\"T_c81fa_row4_col5\" class=\"data row4 col5\" >0.0</td>\n",
       "                        <td id=\"T_c81fa_row4_col6\" class=\"data row4 col6\" >0.0</td>\n",
       "                        <td id=\"T_c81fa_row4_col7\" class=\"data row4 col7\" >0.0</td>\n",
       "                        <td id=\"T_c81fa_row4_col8\" class=\"data row4 col8\" >0.0</td>\n",
       "            </tr>\n",
       "    </tbody></table>"
      ],
      "text/plain": [
       "<pandas.io.formats.style.Styler at 0x17721c66790>"
      ]
     },
     "metadata": {},
     "output_type": "display_data"
    },
    {
     "name": "stdout",
     "output_type": "stream",
     "text": [
      "\u001b[1mWe have 0s instead of NaNs in the year of 2018\n"
     ]
    }
   ],
   "source": [
    "dsp(data_check.query(\"year == 2018\").head().style.format(float_format).hide_index())\n",
    "print(bcolors.BOLD + \"We have 0s instead of NaNs in the year of 2018\")"
   ]
  },
  {
   "cell_type": "markdown",
   "id": "138b1f5e",
   "metadata": {},
   "source": [
    "---"
   ]
  },
  {
   "cell_type": "markdown",
   "id": "e3ce871d",
   "metadata": {},
   "source": [
    "<h3> Check for duplicates"
   ]
  },
  {
   "cell_type": "code",
   "execution_count": 28,
   "id": "b0eebc52",
   "metadata": {},
   "outputs": [
    {
     "name": "stdout",
     "output_type": "stream",
     "text": [
      "\u001b[1mThere are in total - 0 duplicate values\n"
     ]
    }
   ],
   "source": [
    "data_merged_duplicates = data_merged[data_merged.duplicated()]\n",
    "\n",
    "print(bcolors.BOLD + \"There are in total -\", \n",
    "      data_merged_duplicates[\"ID\"].count(), \"duplicate values\")"
   ]
  },
  {
   "cell_type": "markdown",
   "id": "72427e4d",
   "metadata": {},
   "source": [
    "---"
   ]
  },
  {
   "cell_type": "markdown",
   "id": "e8fb9c90",
   "metadata": {},
   "source": [
    "<h3> Dealing with the Semi-Duplicate Rows where the difference is between NaN and some value."
   ]
  },
  {
   "cell_type": "code",
   "execution_count": 29,
   "id": "f18dd0a9",
   "metadata": {},
   "outputs": [],
   "source": [
    "data_merged_check_dupl = data_merged.copy()"
   ]
  },
  {
   "cell_type": "markdown",
   "id": "993e5d08",
   "metadata": {},
   "source": [
    "Example:"
   ]
  },
  {
   "cell_type": "code",
   "execution_count": 30,
   "id": "32cdaece",
   "metadata": {},
   "outputs": [],
   "source": [
    "def highlight_cells_one(x):\n",
    "    data_merged = x.copy()\n",
    "    data_merged.loc[:,:] = '' \n",
    "    data_merged.iloc[:, 14] = 'background-color: khaki'\n",
    "    return data_merged\n",
    "\n",
    "def highlight_cells_two(x):\n",
    "    data_merged = x.copy()\n",
    "    data_merged.loc[:,:] = '' \n",
    "    data_merged.iloc[:, 8] = 'background-color: khaki'\n",
    "    return data_merged"
   ]
  },
  {
   "cell_type": "code",
   "execution_count": 31,
   "id": "88178186",
   "metadata": {},
   "outputs": [
    {
     "data": {
      "text/html": [
       "<style  type=\"text/css\" >\n",
       "#T_e4142_row0_col14,#T_e4142_row1_col14{\n",
       "            background-color:  khaki;\n",
       "        }</style><table id=\"T_e4142_\" ><thead>    <tr>        <th class=\"col_heading level0 col0\" >k01</th>        <th class=\"col_heading level0 col1\" >k101</th>        <th class=\"col_heading level0 col2\" >k102</th>        <th class=\"col_heading level0 col3\" >k103</th>        <th class=\"col_heading level0 col4\" >k17</th>        <th class=\"col_heading level0 col5\" >k1701</th>        <th class=\"col_heading level0 col6\" >k2001</th>        <th class=\"col_heading level0 col7\" >k2004</th>        <th class=\"col_heading level0 col8\" >k2006</th>        <th class=\"col_heading level0 col9\" >k2007</th>        <th class=\"col_heading level0 col10\" >k2008</th>        <th class=\"col_heading level0 col11\" >year</th>        <th class=\"col_heading level0 col12\" >c31</th>        <th class=\"col_heading level0 col13\" >c51</th>        <th class=\"col_heading level0 col14\" >c91</th>        <th class=\"col_heading level0 col15\" >k21</th>        <th class=\"col_heading level0 col16\" >k31</th>        <th class=\"col_heading level0 col17\" >k71</th>        <th class=\"col_heading level0 col18\" >k81</th>        <th class=\"col_heading level0 col19\" >ID</th>    </tr></thead><tbody>\n",
       "                <tr>\n",
       "                                <td id=\"T_e4142_row0_col0\" class=\"data row0 col0\" >1.0</td>\n",
       "                        <td id=\"T_e4142_row0_col1\" class=\"data row0 col1\" >1.0</td>\n",
       "                        <td id=\"T_e4142_row0_col2\" class=\"data row0 col2\" >2.0</td>\n",
       "                        <td id=\"T_e4142_row0_col3\" class=\"data row0 col3\" >nan</td>\n",
       "                        <td id=\"T_e4142_row0_col4\" class=\"data row0 col4\" >3.0</td>\n",
       "                        <td id=\"T_e4142_row0_col5\" class=\"data row0 col5\" >nan</td>\n",
       "                        <td id=\"T_e4142_row0_col6\" class=\"data row0 col6\" >nan</td>\n",
       "                        <td id=\"T_e4142_row0_col7\" class=\"data row0 col7\" >nan</td>\n",
       "                        <td id=\"T_e4142_row0_col8\" class=\"data row0 col8\" >nan</td>\n",
       "                        <td id=\"T_e4142_row0_col9\" class=\"data row0 col9\" >nan</td>\n",
       "                        <td id=\"T_e4142_row0_col10\" class=\"data row0 col10\" >nan</td>\n",
       "                        <td id=\"T_e4142_row0_col11\" class=\"data row0 col11\" >2017</td>\n",
       "                        <td id=\"T_e4142_row0_col12\" class=\"data row0 col12\" >nan</td>\n",
       "                        <td id=\"T_e4142_row0_col13\" class=\"data row0 col13\" >nan</td>\n",
       "                        <td id=\"T_e4142_row0_col14\" class=\"data row0 col14\" >1.0</td>\n",
       "                        <td id=\"T_e4142_row0_col15\" class=\"data row0 col15\" >2.0</td>\n",
       "                        <td id=\"T_e4142_row0_col16\" class=\"data row0 col16\" >1.0</td>\n",
       "                        <td id=\"T_e4142_row0_col17\" class=\"data row0 col17\" >46.0</td>\n",
       "                        <td id=\"T_e4142_row0_col18\" class=\"data row0 col18\" >3.0</td>\n",
       "                        <td id=\"T_e4142_row0_col19\" class=\"data row0 col19\" >110270159</td>\n",
       "            </tr>\n",
       "            <tr>\n",
       "                                <td id=\"T_e4142_row1_col0\" class=\"data row1 col0\" >1.0</td>\n",
       "                        <td id=\"T_e4142_row1_col1\" class=\"data row1 col1\" >1.0</td>\n",
       "                        <td id=\"T_e4142_row1_col2\" class=\"data row1 col2\" >2.0</td>\n",
       "                        <td id=\"T_e4142_row1_col3\" class=\"data row1 col3\" >nan</td>\n",
       "                        <td id=\"T_e4142_row1_col4\" class=\"data row1 col4\" >3.0</td>\n",
       "                        <td id=\"T_e4142_row1_col5\" class=\"data row1 col5\" >nan</td>\n",
       "                        <td id=\"T_e4142_row1_col6\" class=\"data row1 col6\" >nan</td>\n",
       "                        <td id=\"T_e4142_row1_col7\" class=\"data row1 col7\" >nan</td>\n",
       "                        <td id=\"T_e4142_row1_col8\" class=\"data row1 col8\" >nan</td>\n",
       "                        <td id=\"T_e4142_row1_col9\" class=\"data row1 col9\" >nan</td>\n",
       "                        <td id=\"T_e4142_row1_col10\" class=\"data row1 col10\" >nan</td>\n",
       "                        <td id=\"T_e4142_row1_col11\" class=\"data row1 col11\" >2017</td>\n",
       "                        <td id=\"T_e4142_row1_col12\" class=\"data row1 col12\" >nan</td>\n",
       "                        <td id=\"T_e4142_row1_col13\" class=\"data row1 col13\" >nan</td>\n",
       "                        <td id=\"T_e4142_row1_col14\" class=\"data row1 col14\" >nan</td>\n",
       "                        <td id=\"T_e4142_row1_col15\" class=\"data row1 col15\" >2.0</td>\n",
       "                        <td id=\"T_e4142_row1_col16\" class=\"data row1 col16\" >1.0</td>\n",
       "                        <td id=\"T_e4142_row1_col17\" class=\"data row1 col17\" >46.0</td>\n",
       "                        <td id=\"T_e4142_row1_col18\" class=\"data row1 col18\" >3.0</td>\n",
       "                        <td id=\"T_e4142_row1_col19\" class=\"data row1 col19\" >110270159</td>\n",
       "            </tr>\n",
       "    </tbody></table>"
      ],
      "text/plain": [
       "<pandas.io.formats.style.Styler at 0x17720b55760>"
      ]
     },
     "metadata": {},
     "output_type": "display_data"
    },
    {
     "name": "stdout",
     "output_type": "stream",
     "text": [
      "\u001b[1mEverything is the same except column (c91)\n"
     ]
    }
   ],
   "source": [
    "dsp(data_merged.query(\"ID == 110270159 and year == 2017 and k01 == 1\").\n",
    "    style.apply(highlight_cells_one, axis = None).format(float_format).hide_index())\n",
    "print(bcolors.BOLD + \"Everything is the same except column (c91)\")"
   ]
  },
  {
   "cell_type": "code",
   "execution_count": 32,
   "id": "e0057a5b",
   "metadata": {},
   "outputs": [
    {
     "name": "stdout",
     "output_type": "stream",
     "text": [
      "\u001b[1mWe have 293 semi-duplicate rows.\n"
     ]
    }
   ],
   "source": [
    "print(bcolors.BOLD + \"We have\", \n",
    "      data_merged[data_merged_check_dupl.duplicated(subset=['year', 'ID', 'k01'], keep=\"first\")].shape[0], \n",
    "      \"semi-duplicate rows.\")"
   ]
  },
  {
   "cell_type": "code",
   "execution_count": 33,
   "id": "3e5c6f5e",
   "metadata": {},
   "outputs": [
    {
     "data": {
      "text/plain": [
       "year\n",
       "2013    291\n",
       "2016      1\n",
       "2017      1\n",
       "Name: ID, dtype: int64"
      ]
     },
     "execution_count": 33,
     "metadata": {},
     "output_type": "execute_result"
    }
   ],
   "source": [
    "data_merged[data_merged_check_dupl.duplicated(subset=['year', 'ID', 'k01'], \n",
    "                                              keep=\"first\")].groupby(\"year\")[\"ID\"].count()"
   ]
  },
  {
   "cell_type": "markdown",
   "id": "f487453c",
   "metadata": {},
   "source": [
    "<h3> The goal is to take semi-duplicate rows and drop the one which contains NaN over some value in another row. "
   ]
  },
  {
   "cell_type": "code",
   "execution_count": 34,
   "id": "9902d04f",
   "metadata": {},
   "outputs": [],
   "source": [
    "data_merged = (data_merged.sort_values(list(data_merged.columns), ascending = False).\n",
    "               drop_duplicates(subset=['year', 'ID', 'k01'], keep=\"first\"))"
   ]
  },
  {
   "cell_type": "code",
   "execution_count": 35,
   "id": "2294e683",
   "metadata": {},
   "outputs": [
    {
     "data": {
      "text/html": [
       "<style  type=\"text/css\" >\n",
       "    #T_c537d_ caption {\n",
       "          text-align: center;\n",
       "          font-size: 125%;\n",
       "          color: black;\n",
       "    }#T_c537d_row0_col14,#T_c537d_row1_col14{\n",
       "            background-color:  khaki;\n",
       "        }</style><table id=\"T_c537d_\" ><caption>With Semi-Duplicates</caption><thead>    <tr>        <th class=\"col_heading level0 col0\" >k01</th>        <th class=\"col_heading level0 col1\" >k101</th>        <th class=\"col_heading level0 col2\" >k102</th>        <th class=\"col_heading level0 col3\" >k103</th>        <th class=\"col_heading level0 col4\" >k17</th>        <th class=\"col_heading level0 col5\" >k1701</th>        <th class=\"col_heading level0 col6\" >k2001</th>        <th class=\"col_heading level0 col7\" >k2004</th>        <th class=\"col_heading level0 col8\" >k2006</th>        <th class=\"col_heading level0 col9\" >k2007</th>        <th class=\"col_heading level0 col10\" >k2008</th>        <th class=\"col_heading level0 col11\" >year</th>        <th class=\"col_heading level0 col12\" >c31</th>        <th class=\"col_heading level0 col13\" >c51</th>        <th class=\"col_heading level0 col14\" >c91</th>        <th class=\"col_heading level0 col15\" >k21</th>        <th class=\"col_heading level0 col16\" >k31</th>        <th class=\"col_heading level0 col17\" >k71</th>        <th class=\"col_heading level0 col18\" >k81</th>        <th class=\"col_heading level0 col19\" >ID</th>    </tr></thead><tbody>\n",
       "                <tr>\n",
       "                                <td id=\"T_c537d_row0_col0\" class=\"data row0 col0\" >1.0</td>\n",
       "                        <td id=\"T_c537d_row0_col1\" class=\"data row0 col1\" >1.0</td>\n",
       "                        <td id=\"T_c537d_row0_col2\" class=\"data row0 col2\" >2.0</td>\n",
       "                        <td id=\"T_c537d_row0_col3\" class=\"data row0 col3\" >nan</td>\n",
       "                        <td id=\"T_c537d_row0_col4\" class=\"data row0 col4\" >3.0</td>\n",
       "                        <td id=\"T_c537d_row0_col5\" class=\"data row0 col5\" >nan</td>\n",
       "                        <td id=\"T_c537d_row0_col6\" class=\"data row0 col6\" >nan</td>\n",
       "                        <td id=\"T_c537d_row0_col7\" class=\"data row0 col7\" >nan</td>\n",
       "                        <td id=\"T_c537d_row0_col8\" class=\"data row0 col8\" >nan</td>\n",
       "                        <td id=\"T_c537d_row0_col9\" class=\"data row0 col9\" >nan</td>\n",
       "                        <td id=\"T_c537d_row0_col10\" class=\"data row0 col10\" >nan</td>\n",
       "                        <td id=\"T_c537d_row0_col11\" class=\"data row0 col11\" >2017</td>\n",
       "                        <td id=\"T_c537d_row0_col12\" class=\"data row0 col12\" >nan</td>\n",
       "                        <td id=\"T_c537d_row0_col13\" class=\"data row0 col13\" >nan</td>\n",
       "                        <td id=\"T_c537d_row0_col14\" class=\"data row0 col14\" >1.0</td>\n",
       "                        <td id=\"T_c537d_row0_col15\" class=\"data row0 col15\" >2.0</td>\n",
       "                        <td id=\"T_c537d_row0_col16\" class=\"data row0 col16\" >1.0</td>\n",
       "                        <td id=\"T_c537d_row0_col17\" class=\"data row0 col17\" >46.0</td>\n",
       "                        <td id=\"T_c537d_row0_col18\" class=\"data row0 col18\" >3.0</td>\n",
       "                        <td id=\"T_c537d_row0_col19\" class=\"data row0 col19\" >110270159</td>\n",
       "            </tr>\n",
       "            <tr>\n",
       "                                <td id=\"T_c537d_row1_col0\" class=\"data row1 col0\" >1.0</td>\n",
       "                        <td id=\"T_c537d_row1_col1\" class=\"data row1 col1\" >1.0</td>\n",
       "                        <td id=\"T_c537d_row1_col2\" class=\"data row1 col2\" >2.0</td>\n",
       "                        <td id=\"T_c537d_row1_col3\" class=\"data row1 col3\" >nan</td>\n",
       "                        <td id=\"T_c537d_row1_col4\" class=\"data row1 col4\" >3.0</td>\n",
       "                        <td id=\"T_c537d_row1_col5\" class=\"data row1 col5\" >nan</td>\n",
       "                        <td id=\"T_c537d_row1_col6\" class=\"data row1 col6\" >nan</td>\n",
       "                        <td id=\"T_c537d_row1_col7\" class=\"data row1 col7\" >nan</td>\n",
       "                        <td id=\"T_c537d_row1_col8\" class=\"data row1 col8\" >nan</td>\n",
       "                        <td id=\"T_c537d_row1_col9\" class=\"data row1 col9\" >nan</td>\n",
       "                        <td id=\"T_c537d_row1_col10\" class=\"data row1 col10\" >nan</td>\n",
       "                        <td id=\"T_c537d_row1_col11\" class=\"data row1 col11\" >2017</td>\n",
       "                        <td id=\"T_c537d_row1_col12\" class=\"data row1 col12\" >nan</td>\n",
       "                        <td id=\"T_c537d_row1_col13\" class=\"data row1 col13\" >nan</td>\n",
       "                        <td id=\"T_c537d_row1_col14\" class=\"data row1 col14\" >nan</td>\n",
       "                        <td id=\"T_c537d_row1_col15\" class=\"data row1 col15\" >2.0</td>\n",
       "                        <td id=\"T_c537d_row1_col16\" class=\"data row1 col16\" >1.0</td>\n",
       "                        <td id=\"T_c537d_row1_col17\" class=\"data row1 col17\" >46.0</td>\n",
       "                        <td id=\"T_c537d_row1_col18\" class=\"data row1 col18\" >3.0</td>\n",
       "                        <td id=\"T_c537d_row1_col19\" class=\"data row1 col19\" >110270159</td>\n",
       "            </tr>\n",
       "    </tbody></table>"
      ],
      "text/plain": [
       "<pandas.io.formats.style.Styler at 0x1772254ef40>"
      ]
     },
     "metadata": {},
     "output_type": "display_data"
    },
    {
     "data": {
      "text/html": [
       "<style  type=\"text/css\" >\n",
       "    #T_a6cdf_ caption {\n",
       "          text-align: center;\n",
       "          font-size: 125%;\n",
       "          color: black;\n",
       "    }#T_a6cdf_row0_col14{\n",
       "            background-color:  khaki;\n",
       "        }</style><table id=\"T_a6cdf_\" ><caption>Without Semi-Duplicates</caption><thead>    <tr>        <th class=\"col_heading level0 col0\" >k01</th>        <th class=\"col_heading level0 col1\" >k101</th>        <th class=\"col_heading level0 col2\" >k102</th>        <th class=\"col_heading level0 col3\" >k103</th>        <th class=\"col_heading level0 col4\" >k17</th>        <th class=\"col_heading level0 col5\" >k1701</th>        <th class=\"col_heading level0 col6\" >k2001</th>        <th class=\"col_heading level0 col7\" >k2004</th>        <th class=\"col_heading level0 col8\" >k2006</th>        <th class=\"col_heading level0 col9\" >k2007</th>        <th class=\"col_heading level0 col10\" >k2008</th>        <th class=\"col_heading level0 col11\" >year</th>        <th class=\"col_heading level0 col12\" >c31</th>        <th class=\"col_heading level0 col13\" >c51</th>        <th class=\"col_heading level0 col14\" >c91</th>        <th class=\"col_heading level0 col15\" >k21</th>        <th class=\"col_heading level0 col16\" >k31</th>        <th class=\"col_heading level0 col17\" >k71</th>        <th class=\"col_heading level0 col18\" >k81</th>        <th class=\"col_heading level0 col19\" >ID</th>    </tr></thead><tbody>\n",
       "                <tr>\n",
       "                                <td id=\"T_a6cdf_row0_col0\" class=\"data row0 col0\" >1.0</td>\n",
       "                        <td id=\"T_a6cdf_row0_col1\" class=\"data row0 col1\" >1.0</td>\n",
       "                        <td id=\"T_a6cdf_row0_col2\" class=\"data row0 col2\" >2.0</td>\n",
       "                        <td id=\"T_a6cdf_row0_col3\" class=\"data row0 col3\" >nan</td>\n",
       "                        <td id=\"T_a6cdf_row0_col4\" class=\"data row0 col4\" >3.0</td>\n",
       "                        <td id=\"T_a6cdf_row0_col5\" class=\"data row0 col5\" >nan</td>\n",
       "                        <td id=\"T_a6cdf_row0_col6\" class=\"data row0 col6\" >nan</td>\n",
       "                        <td id=\"T_a6cdf_row0_col7\" class=\"data row0 col7\" >nan</td>\n",
       "                        <td id=\"T_a6cdf_row0_col8\" class=\"data row0 col8\" >nan</td>\n",
       "                        <td id=\"T_a6cdf_row0_col9\" class=\"data row0 col9\" >nan</td>\n",
       "                        <td id=\"T_a6cdf_row0_col10\" class=\"data row0 col10\" >nan</td>\n",
       "                        <td id=\"T_a6cdf_row0_col11\" class=\"data row0 col11\" >2017</td>\n",
       "                        <td id=\"T_a6cdf_row0_col12\" class=\"data row0 col12\" >nan</td>\n",
       "                        <td id=\"T_a6cdf_row0_col13\" class=\"data row0 col13\" >nan</td>\n",
       "                        <td id=\"T_a6cdf_row0_col14\" class=\"data row0 col14\" >1.0</td>\n",
       "                        <td id=\"T_a6cdf_row0_col15\" class=\"data row0 col15\" >2.0</td>\n",
       "                        <td id=\"T_a6cdf_row0_col16\" class=\"data row0 col16\" >1.0</td>\n",
       "                        <td id=\"T_a6cdf_row0_col17\" class=\"data row0 col17\" >46.0</td>\n",
       "                        <td id=\"T_a6cdf_row0_col18\" class=\"data row0 col18\" >3.0</td>\n",
       "                        <td id=\"T_a6cdf_row0_col19\" class=\"data row0 col19\" >110270159</td>\n",
       "            </tr>\n",
       "    </tbody></table>"
      ],
      "text/plain": [
       "<pandas.io.formats.style.Styler at 0x1772254eeb0>"
      ]
     },
     "metadata": {},
     "output_type": "display_data"
    },
    {
     "name": "stdout",
     "output_type": "stream",
     "text": [
      "\u001b[1mWe took the row with the value\n"
     ]
    }
   ],
   "source": [
    "dsp(data_merged_check_dupl.query(\"ID == 110270159 and year == 2017 and k01 == 1\").\n",
    "    style.apply(highlight_cells_one, axis = None).format(float_format).\n",
    "    set_caption(\"With Semi-Duplicates\").set_table_styles(styles).hide_index())\n",
    "dsp(data_merged.query(\"ID == 110270159 and year == 2017 and k01 == 1\").\n",
    "    style.apply(highlight_cells_one, axis = None).format(float_format).\n",
    "    set_caption(\"Without Semi-Duplicates\").set_table_styles(styles).hide_index())\n",
    "print(bcolors.BOLD + \"We took the row with the value\")"
   ]
  },
  {
   "cell_type": "code",
   "execution_count": 36,
   "id": "2fa58140",
   "metadata": {},
   "outputs": [
    {
     "data": {
      "text/html": [
       "<style  type=\"text/css\" >\n",
       "    #T_1151c_ caption {\n",
       "          text-align: center;\n",
       "          font-size: 125%;\n",
       "          color: black;\n",
       "    }#T_1151c_row0_col8,#T_1151c_row1_col8{\n",
       "            background-color:  khaki;\n",
       "        }</style><table id=\"T_1151c_\" ><caption>With Semi-Duplicates</caption><thead>    <tr>        <th class=\"col_heading level0 col0\" >k01</th>        <th class=\"col_heading level0 col1\" >k101</th>        <th class=\"col_heading level0 col2\" >k102</th>        <th class=\"col_heading level0 col3\" >k103</th>        <th class=\"col_heading level0 col4\" >k17</th>        <th class=\"col_heading level0 col5\" >k1701</th>        <th class=\"col_heading level0 col6\" >k2001</th>        <th class=\"col_heading level0 col7\" >k2004</th>        <th class=\"col_heading level0 col8\" >k2006</th>        <th class=\"col_heading level0 col9\" >k2007</th>        <th class=\"col_heading level0 col10\" >k2008</th>        <th class=\"col_heading level0 col11\" >year</th>        <th class=\"col_heading level0 col12\" >c31</th>        <th class=\"col_heading level0 col13\" >c51</th>        <th class=\"col_heading level0 col14\" >c91</th>        <th class=\"col_heading level0 col15\" >k21</th>        <th class=\"col_heading level0 col16\" >k31</th>        <th class=\"col_heading level0 col17\" >k71</th>        <th class=\"col_heading level0 col18\" >k81</th>        <th class=\"col_heading level0 col19\" >ID</th>    </tr></thead><tbody>\n",
       "                <tr>\n",
       "                                <td id=\"T_1151c_row0_col0\" class=\"data row0 col0\" >7.0</td>\n",
       "                        <td id=\"T_1151c_row0_col1\" class=\"data row0 col1\" >1.0</td>\n",
       "                        <td id=\"T_1151c_row0_col2\" class=\"data row0 col2\" >2.0</td>\n",
       "                        <td id=\"T_1151c_row0_col3\" class=\"data row0 col3\" >nan</td>\n",
       "                        <td id=\"T_1151c_row0_col4\" class=\"data row0 col4\" >3.0</td>\n",
       "                        <td id=\"T_1151c_row0_col5\" class=\"data row0 col5\" >nan</td>\n",
       "                        <td id=\"T_1151c_row0_col6\" class=\"data row0 col6\" >nan</td>\n",
       "                        <td id=\"T_1151c_row0_col7\" class=\"data row0 col7\" >nan</td>\n",
       "                        <td id=\"T_1151c_row0_col8\" class=\"data row0 col8\" >nan</td>\n",
       "                        <td id=\"T_1151c_row0_col9\" class=\"data row0 col9\" >nan</td>\n",
       "                        <td id=\"T_1151c_row0_col10\" class=\"data row0 col10\" >nan</td>\n",
       "                        <td id=\"T_1151c_row0_col11\" class=\"data row0 col11\" >2013</td>\n",
       "                        <td id=\"T_1151c_row0_col12\" class=\"data row0 col12\" >2.0</td>\n",
       "                        <td id=\"T_1151c_row0_col13\" class=\"data row0 col13\" >8.0</td>\n",
       "                        <td id=\"T_1151c_row0_col14\" class=\"data row0 col14\" >nan</td>\n",
       "                        <td id=\"T_1151c_row0_col15\" class=\"data row0 col15\" >2.0</td>\n",
       "                        <td id=\"T_1151c_row0_col16\" class=\"data row0 col16\" >8.0</td>\n",
       "                        <td id=\"T_1151c_row0_col17\" class=\"data row0 col17\" >1.0</td>\n",
       "                        <td id=\"T_1151c_row0_col18\" class=\"data row0 col18\" >98.0</td>\n",
       "                        <td id=\"T_1151c_row0_col19\" class=\"data row0 col19\" >60345159</td>\n",
       "            </tr>\n",
       "            <tr>\n",
       "                                <td id=\"T_1151c_row1_col0\" class=\"data row1 col0\" >7.0</td>\n",
       "                        <td id=\"T_1151c_row1_col1\" class=\"data row1 col1\" >1.0</td>\n",
       "                        <td id=\"T_1151c_row1_col2\" class=\"data row1 col2\" >2.0</td>\n",
       "                        <td id=\"T_1151c_row1_col3\" class=\"data row1 col3\" >nan</td>\n",
       "                        <td id=\"T_1151c_row1_col4\" class=\"data row1 col4\" >3.0</td>\n",
       "                        <td id=\"T_1151c_row1_col5\" class=\"data row1 col5\" >nan</td>\n",
       "                        <td id=\"T_1151c_row1_col6\" class=\"data row1 col6\" >nan</td>\n",
       "                        <td id=\"T_1151c_row1_col7\" class=\"data row1 col7\" >nan</td>\n",
       "                        <td id=\"T_1151c_row1_col8\" class=\"data row1 col8\" >6.0</td>\n",
       "                        <td id=\"T_1151c_row1_col9\" class=\"data row1 col9\" >nan</td>\n",
       "                        <td id=\"T_1151c_row1_col10\" class=\"data row1 col10\" >nan</td>\n",
       "                        <td id=\"T_1151c_row1_col11\" class=\"data row1 col11\" >2013</td>\n",
       "                        <td id=\"T_1151c_row1_col12\" class=\"data row1 col12\" >2.0</td>\n",
       "                        <td id=\"T_1151c_row1_col13\" class=\"data row1 col13\" >8.0</td>\n",
       "                        <td id=\"T_1151c_row1_col14\" class=\"data row1 col14\" >nan</td>\n",
       "                        <td id=\"T_1151c_row1_col15\" class=\"data row1 col15\" >2.0</td>\n",
       "                        <td id=\"T_1151c_row1_col16\" class=\"data row1 col16\" >8.0</td>\n",
       "                        <td id=\"T_1151c_row1_col17\" class=\"data row1 col17\" >1.0</td>\n",
       "                        <td id=\"T_1151c_row1_col18\" class=\"data row1 col18\" >98.0</td>\n",
       "                        <td id=\"T_1151c_row1_col19\" class=\"data row1 col19\" >60345159</td>\n",
       "            </tr>\n",
       "    </tbody></table>"
      ],
      "text/plain": [
       "<pandas.io.formats.style.Styler at 0x1772254ebb0>"
      ]
     },
     "metadata": {},
     "output_type": "display_data"
    },
    {
     "data": {
      "text/html": [
       "<style  type=\"text/css\" >\n",
       "    #T_896c9_ caption {\n",
       "          text-align: center;\n",
       "          font-size: 125%;\n",
       "          color: black;\n",
       "    }#T_896c9_row0_col8{\n",
       "            background-color:  khaki;\n",
       "        }</style><table id=\"T_896c9_\" ><caption>Without Semi-Duplicates</caption><thead>    <tr>        <th class=\"col_heading level0 col0\" >k01</th>        <th class=\"col_heading level0 col1\" >k101</th>        <th class=\"col_heading level0 col2\" >k102</th>        <th class=\"col_heading level0 col3\" >k103</th>        <th class=\"col_heading level0 col4\" >k17</th>        <th class=\"col_heading level0 col5\" >k1701</th>        <th class=\"col_heading level0 col6\" >k2001</th>        <th class=\"col_heading level0 col7\" >k2004</th>        <th class=\"col_heading level0 col8\" >k2006</th>        <th class=\"col_heading level0 col9\" >k2007</th>        <th class=\"col_heading level0 col10\" >k2008</th>        <th class=\"col_heading level0 col11\" >year</th>        <th class=\"col_heading level0 col12\" >c31</th>        <th class=\"col_heading level0 col13\" >c51</th>        <th class=\"col_heading level0 col14\" >c91</th>        <th class=\"col_heading level0 col15\" >k21</th>        <th class=\"col_heading level0 col16\" >k31</th>        <th class=\"col_heading level0 col17\" >k71</th>        <th class=\"col_heading level0 col18\" >k81</th>        <th class=\"col_heading level0 col19\" >ID</th>    </tr></thead><tbody>\n",
       "                <tr>\n",
       "                                <td id=\"T_896c9_row0_col0\" class=\"data row0 col0\" >7.0</td>\n",
       "                        <td id=\"T_896c9_row0_col1\" class=\"data row0 col1\" >1.0</td>\n",
       "                        <td id=\"T_896c9_row0_col2\" class=\"data row0 col2\" >2.0</td>\n",
       "                        <td id=\"T_896c9_row0_col3\" class=\"data row0 col3\" >nan</td>\n",
       "                        <td id=\"T_896c9_row0_col4\" class=\"data row0 col4\" >3.0</td>\n",
       "                        <td id=\"T_896c9_row0_col5\" class=\"data row0 col5\" >nan</td>\n",
       "                        <td id=\"T_896c9_row0_col6\" class=\"data row0 col6\" >nan</td>\n",
       "                        <td id=\"T_896c9_row0_col7\" class=\"data row0 col7\" >nan</td>\n",
       "                        <td id=\"T_896c9_row0_col8\" class=\"data row0 col8\" >6.0</td>\n",
       "                        <td id=\"T_896c9_row0_col9\" class=\"data row0 col9\" >nan</td>\n",
       "                        <td id=\"T_896c9_row0_col10\" class=\"data row0 col10\" >nan</td>\n",
       "                        <td id=\"T_896c9_row0_col11\" class=\"data row0 col11\" >2013</td>\n",
       "                        <td id=\"T_896c9_row0_col12\" class=\"data row0 col12\" >2.0</td>\n",
       "                        <td id=\"T_896c9_row0_col13\" class=\"data row0 col13\" >8.0</td>\n",
       "                        <td id=\"T_896c9_row0_col14\" class=\"data row0 col14\" >nan</td>\n",
       "                        <td id=\"T_896c9_row0_col15\" class=\"data row0 col15\" >2.0</td>\n",
       "                        <td id=\"T_896c9_row0_col16\" class=\"data row0 col16\" >8.0</td>\n",
       "                        <td id=\"T_896c9_row0_col17\" class=\"data row0 col17\" >1.0</td>\n",
       "                        <td id=\"T_896c9_row0_col18\" class=\"data row0 col18\" >98.0</td>\n",
       "                        <td id=\"T_896c9_row0_col19\" class=\"data row0 col19\" >60345159</td>\n",
       "            </tr>\n",
       "    </tbody></table>"
      ],
      "text/plain": [
       "<pandas.io.formats.style.Styler at 0x1772258c340>"
      ]
     },
     "metadata": {},
     "output_type": "display_data"
    },
    {
     "name": "stdout",
     "output_type": "stream",
     "text": [
      "\u001b[1mWe took the row with the value\n"
     ]
    }
   ],
   "source": [
    "dsp(data_merged_check_dupl.query(\"ID == 60345159 and year == 2013 and k01 == 7\").style.\n",
    "    apply(highlight_cells_two, axis = None).format(float_format).\n",
    "    set_caption(\"With Semi-Duplicates\").set_table_styles(styles).hide_index())\n",
    "dsp(data_merged.query(\"ID == 60345159 and year == 2013 and k01 == 7\").style.\n",
    "    apply(highlight_cells_two, axis = None).format(float_format).\n",
    "    set_caption(\"Without Semi-Duplicates\").set_table_styles(styles).hide_index())\n",
    "print(bcolors.BOLD + \"We took the row with the value\")"
   ]
  },
  {
   "cell_type": "markdown",
   "id": "caa2094f",
   "metadata": {},
   "source": [
    "---"
   ]
  },
  {
   "cell_type": "markdown",
   "id": "f3a88f16",
   "metadata": {},
   "source": [
    "<h1> <div style=\"text-align: center\"> <font color=darkblue> <ins> Part 2 <font color=black> Create New Custom Columns Based on a Condition </font> </div> <ins>"
   ]
  },
  {
   "cell_type": "markdown",
   "id": "a17cd145",
   "metadata": {},
   "source": [
    "<h2> Creating [Group 1]"
   ]
  },
  {
   "cell_type": "markdown",
   "id": "28b0439d",
   "metadata": {},
   "source": [
    "- **k01**\n",
    "- **c91**\n",
    "- **k71**"
   ]
  },
  {
   "cell_type": "code",
   "execution_count": 37,
   "id": "565365e4",
   "metadata": {},
   "outputs": [],
   "source": [
    "def Condition_1(data_merged):\n",
    "    if ((data_merged['k01'] == 1) & ((data_merged['c91'] == 42)| \n",
    "                                     (data_merged['c91'] == 6) | \n",
    "                                     (data_merged['c91'] == 7) |\n",
    "                                     (data_merged['c91'] == 8)) & \n",
    "        (data_merged['k71'] >= 7) & (data_merged['year'] >= 2013)):\n",
    "        return 1\n",
    "    \n",
    "    elif ((data_merged['k01'] == 1) & ((data_merged['c91'] == 42)| \n",
    "                                       (data_merged['c91'] == 6) | \n",
    "                                       (data_merged['c91'] == 7) |\n",
    "                                       (data_merged['c91'] == 8) |\n",
    "                                       (data_merged['c91'] == 9)) & \n",
    "          (data_merged['k71'] >= 7) & (2007 <= data_merged['year'] <= 2012)):\n",
    "        return 1\n",
    "    \n",
    "    elif ((data_merged['k01'] == 1) & ((data_merged['c91'] == 6) | \n",
    "                                       (data_merged['c91'] == 7) |\n",
    "                                       (data_merged['c91'] == 8) |\n",
    "                                       (data_merged['c91'] == 9))\n",
    "          & (data_merged['k71'] >= 7) & (data_merged['year'] <= 2006)):\n",
    "        return 1\n",
    "    \n",
    "    elif (((data_merged['k01'] == 1) | (np.isnan(data_merged['k01']) == True)) & \n",
    "          (((data_merged['c91'] == 42)| \n",
    "            (data_merged['c91'] == 6) |\n",
    "            (data_merged['c91'] == 7) |\n",
    "            (data_merged['c91'] == 8))| (np.isnan(data_merged['c91']) == True)) & \n",
    "          ((data_merged['k71'] >= 7) | (np.isnan(data_merged['k71']) == True)) & \n",
    "          ((data_merged['year'] >= 2013) | (np.isnan(data_merged['year']) == True))):\n",
    "        return np.nan   \n",
    "    \n",
    "    elif (((data_merged['k01'] == 1) | (np.isnan(data_merged['k01']) == True)) & \n",
    "          (((data_merged['c91'] == 42)| \n",
    "            (data_merged['c91'] == 6) |\n",
    "            (data_merged['c91'] == 7) |\n",
    "            (data_merged['c91'] == 8) | \n",
    "            (data_merged['c91'] == 9))| (np.isnan(data_merged['c91']) == True)) & \n",
    "          ((data_merged['k71'] >= 7) | (np.isnan(data_merged['k71']) == True)) & \n",
    "          ((2007 <= data_merged['year'] <= 2012) | (np.isnan(data_merged['year']) == True))):\n",
    "        return np.nan\n",
    "    \n",
    "    elif (((data_merged['k01'] == 1) | (np.isnan(data_merged['k01']) == True)) & \n",
    "          (((data_merged['c91'] == 6) | \n",
    "            (data_merged['c91'] == 7) |\n",
    "            (data_merged['c91'] == 8) |\n",
    "            (data_merged['c91'] == 9))| (np.isnan(data_merged['c91']) == True)) & \n",
    "          ((data_merged['k71'] >= 7) | (np.isnan(data_merged['k71']) == True)) & \n",
    "          ((data_merged['year'] <= 2006) | (np.isnan(data_merged['year']) == True))):\n",
    "        return np.nan \n",
    "    \n",
    "    else:\n",
    "        return 0"
   ]
  },
  {
   "cell_type": "code",
   "execution_count": 38,
   "id": "e4ae87f9",
   "metadata": {},
   "outputs": [],
   "source": [
    "data_merged['Group1'] = data_merged.apply(Condition_1, axis=1)"
   ]
  },
  {
   "cell_type": "code",
   "execution_count": 39,
   "id": "7f4ccf17",
   "metadata": {},
   "outputs": [
    {
     "data": {
      "text/html": [
       "<style  type=\"text/css\" >\n",
       "    #T_94ca6_ caption {\n",
       "          text-align: center;\n",
       "          font-size: 125%;\n",
       "          color: black;\n",
       "    }</style><table id=\"T_94ca6_\" ><caption>Distribution of Group1 values</caption><thead>    <tr>        <th class=\"blank level0\" ></th>        <th class=\"col_heading level0 col0\" >ID_Count</th>    </tr>    <tr>        <th class=\"index_name level0\" >Group1</th>        <th class=\"blank\" ></th>    </tr></thead><tbody>\n",
       "                <tr>\n",
       "                        <th id=\"T_94ca6_level0_row0\" class=\"row_heading level0 row0\" >0.0</th>\n",
       "                        <td id=\"T_94ca6_row0_col0\" class=\"data row0 col0\" >273877</td>\n",
       "            </tr>\n",
       "            <tr>\n",
       "                        <th id=\"T_94ca6_level0_row1\" class=\"row_heading level0 row1\" >1.0</th>\n",
       "                        <td id=\"T_94ca6_row1_col0\" class=\"data row1 col0\" >9131</td>\n",
       "            </tr>\n",
       "            <tr>\n",
       "                        <th id=\"T_94ca6_level0_row2\" class=\"row_heading level0 row2\" >nan</th>\n",
       "                        <td id=\"T_94ca6_row2_col0\" class=\"data row2 col0\" >488</td>\n",
       "            </tr>\n",
       "    </tbody></table>"
      ],
      "text/plain": [
       "<pandas.io.formats.style.Styler at 0x1772256ca30>"
      ]
     },
     "metadata": {},
     "output_type": "display_data"
    }
   ],
   "source": [
    "dsp(pd.DataFrame(data_merged.groupby('Group1', dropna=False)\n",
    "                 [\"ID\"].count()).rename({\"ID\":\"ID_Count\"}, axis = 1).style.\n",
    "    set_caption(\"Distribution of Group1 values\").set_table_styles(styles))"
   ]
  },
  {
   "cell_type": "code",
   "execution_count": 40,
   "id": "37bffca4",
   "metadata": {},
   "outputs": [],
   "source": [
    "data_merged_graph_sum = data_merged.groupby(\"Group1\", dropna = False)[\"ID\"].count()"
   ]
  },
  {
   "cell_type": "code",
   "execution_count": 41,
   "id": "d18580b7",
   "metadata": {},
   "outputs": [
    {
     "data": {
      "image/png": "[encoded data removed]",
      "text/plain": [
       "<Figure size 504x432 with 1 Axes>"
      ]
     },
     "metadata": {
      "needs_background": "light"
     },
     "output_type": "display_data"
    }
   ],
   "source": [
    "fig, ax = plt.subplots(figsize = (7, 6))\n",
    "\n",
    "ax.bar([1], data_merged.shape[0], label = 'Total rows', color = \"gray\")\n",
    "ax.bar([1], data_merged_graph_sum[0], label = '0', color = \"khaki\")\n",
    "ax.bar([1], data_merged_graph_sum[np.nan], label = 'NaN', color = \"lightblue\")\n",
    "ax.bar([1], data_merged_graph_sum[1], label = '1', color = \"lightcoral\")\n",
    "\n",
    "ax.set_xticks([])\n",
    "\n",
    "ax.set_ylabel(\"# of Rows\", fontsize = 13)\n",
    "\n",
    "ax.legend()\n",
    "\n",
    "ax.text(0.5, 0.97, f'{data_merged.shape[0]} rows', horizontalalignment = 'center',\n",
    "     verticalalignment = 'center', fontsize = 12, transform = ax.transAxes)\n",
    "ax.text(0.5, 0.5, f'{data_merged_graph_sum[0]} rows', horizontalalignment = 'center',\n",
    "     verticalalignment = 'center', fontsize = 12, transform = ax.transAxes)\n",
    "\n",
    "ax.annotate(f'{data_merged_graph_sum[np.nan]} NaN rows', \n",
    "            xy=(1, 7000), xytext=(200, 100), textcoords = ('offset pixels'), fontsize = 12, alpha = 0.9,\n",
    "            arrowprops = dict(facecolor = 'black', arrowstyle=\"-|>\", alpha = 0.7, fc=\"w\",\n",
    "                              connectionstyle = \"angle3, angleA=0, angleB=90\"))\n",
    "ax.annotate(f'{data_merged_graph_sum[1]} (1) rows', \n",
    "            xy=(1, 5000), xytext=(200, 50), textcoords = ('offset pixels'), fontsize = 12, alpha = 0.9,\n",
    "            arrowprops = dict(facecolor = 'black', arrowstyle=\"-|>\", alpha = 0.7, fc=\"w\",\n",
    "                              connectionstyle = \"angle3, angleA=-90, angleB=180\"))\n",
    "    \n",
    "ax.legend(mode = \"expand\", ncol = 4, bbox_to_anchor = ([0.21, -0.14, 0.6, 0.1]))\n",
    "\n",
    "fig.suptitle(\"Total Rows vs Group 1 row's values distribution\", y = 0.94, x = 0.51, fontsize = 18)\n",
    "\n",
    "plt.show()"
   ]
  },
  {
   "cell_type": "markdown",
   "id": "a2e9bf57",
   "metadata": {},
   "source": [
    "---"
   ]
  },
  {
   "cell_type": "markdown",
   "id": "ba7e4aed",
   "metadata": {},
   "source": [
    "<h2> Creating [Group 2]"
   ]
  },
  {
   "cell_type": "markdown",
   "id": "f3a57639",
   "metadata": {},
   "source": [
    "- **k17**\n",
    "- **k1701**"
   ]
  },
  {
   "cell_type": "code",
   "execution_count": 42,
   "id": "98a6f6b4",
   "metadata": {},
   "outputs": [],
   "source": [
    "def Condition_2(data_merged):\n",
    "    if (((data_merged['k17'] == 1) |\n",
    "         (data_merged['k17'] == 2)) & (data_merged['k1701'] == 1) & (data_merged['year'] >= 2007)):\n",
    "        return 1\n",
    "    \n",
    "    elif (((data_merged['k17'] == 1) |\n",
    "           (data_merged['k17'] == 2)) & ((data_merged['k1701'] == 1) |\n",
    "                                         (data_merged['k1701'] == 2)) & (data_merged['year'] <= 2006)):\n",
    "        return 1\n",
    "    \n",
    "    elif (((np.isnan(data_merged['k17']) == True) | \n",
    "           ((data_merged['k17'] == 1) |\n",
    "            (data_merged['k17'] == 2))) & \n",
    "          ((np.isnan(data_merged['k1701']) == True) | (data_merged['k1701'] == 1)) & \n",
    "          ((np.isnan(data_merged['year']) == True) | (data_merged['year'] >= 2007))):\n",
    "        return np.nan\n",
    "    \n",
    "    elif (((np.isnan(data_merged['k17']) == True) | \n",
    "           ((data_merged['k17'] == 1) |\n",
    "            (data_merged['k17'] == 2))) & \n",
    "          ((np.isnan(data_merged['k1701']) == True) | ((data_merged['k1701'] == 1) | \n",
    "                                                       (data_merged['k1701'] == 2))) & \n",
    "          ((np.isnan(data_merged['year']) == True) | (data_merged['year'] <= 2006))):                                                                \n",
    "        return np.nan\n",
    "    \n",
    "    else:\n",
    "        return 0"
   ]
  },
  {
   "cell_type": "code",
   "execution_count": 43,
   "id": "82b491cf",
   "metadata": {},
   "outputs": [],
   "source": [
    "data_merged['Group2'] = data_merged.apply(Condition_2, axis=1)"
   ]
  },
  {
   "cell_type": "code",
   "execution_count": 44,
   "id": "ee95a740",
   "metadata": {},
   "outputs": [
    {
     "data": {
      "text/html": [
       "<style  type=\"text/css\" >\n",
       "    #T_4478e_ caption {\n",
       "          text-align: center;\n",
       "          font-size: 125%;\n",
       "          color: black;\n",
       "    }</style><table id=\"T_4478e_\" ><caption>Distribution of Group2 values</caption><thead>    <tr>        <th class=\"blank level0\" ></th>        <th class=\"col_heading level0 col0\" >ID_Count</th>    </tr>    <tr>        <th class=\"index_name level0\" >Group2</th>        <th class=\"blank\" ></th>    </tr></thead><tbody>\n",
       "                <tr>\n",
       "                        <th id=\"T_4478e_level0_row0\" class=\"row_heading level0 row0\" >0.0</th>\n",
       "                        <td id=\"T_4478e_row0_col0\" class=\"data row0 col0\" >278330</td>\n",
       "            </tr>\n",
       "            <tr>\n",
       "                        <th id=\"T_4478e_level0_row1\" class=\"row_heading level0 row1\" >1.0</th>\n",
       "                        <td id=\"T_4478e_row1_col0\" class=\"data row1 col0\" >2632</td>\n",
       "            </tr>\n",
       "            <tr>\n",
       "                        <th id=\"T_4478e_level0_row2\" class=\"row_heading level0 row2\" >nan</th>\n",
       "                        <td id=\"T_4478e_row2_col0\" class=\"data row2 col0\" >2534</td>\n",
       "            </tr>\n",
       "    </tbody></table>"
      ],
      "text/plain": [
       "<pandas.io.formats.style.Styler at 0x17721718490>"
      ]
     },
     "metadata": {},
     "output_type": "display_data"
    }
   ],
   "source": [
    "dsp(pd.DataFrame(data_merged.groupby('Group2', dropna=False)\n",
    "                 [\"ID\"].count()).rename({\"ID\":\"ID_Count\"}, axis = 1).style.\n",
    "    set_caption(\"Distribution of Group2 values\").set_table_styles(styles))"
   ]
  },
  {
   "cell_type": "code",
   "execution_count": 45,
   "id": "83ccf646",
   "metadata": {},
   "outputs": [],
   "source": [
    "data_merged_graph2_sum = data_merged.groupby(\"Group2\", dropna = False)[\"ID\"].count()"
   ]
  },
  {
   "cell_type": "code",
   "execution_count": 46,
   "id": "be74fcb7",
   "metadata": {},
   "outputs": [
    {
     "data": {
      "image/png": "[encoded data removed]",
      "text/plain": [
       "<Figure size 504x432 with 1 Axes>"
      ]
     },
     "metadata": {
      "needs_background": "light"
     },
     "output_type": "display_data"
    }
   ],
   "source": [
    "fig, ax = plt.subplots(figsize = (7, 6))\n",
    "\n",
    "ax.bar([1], data_merged.shape[0], label = 'Total rows', color = \"gray\")\n",
    "ax.bar([1], data_merged_graph2_sum[0], label = '0', color = \"khaki\")\n",
    "ax.bar([1], data_merged_graph2_sum[np.nan], label = 'NaN', color = \"lightblue\")\n",
    "ax.bar([1], data_merged_graph2_sum[1], label = '1', color = \"lightcoral\")\n",
    "\n",
    "ax.set_xticks([])\n",
    "\n",
    "ax.set_ylabel(\"# of Rows\", fontsize = 13)\n",
    "\n",
    "ax.legend()\n",
    "\n",
    "ax.text(0.5, 0.97, f'{data_merged.shape[0]} rows', horizontalalignment = 'center',\n",
    "     verticalalignment = 'center', fontsize = 12, transform = ax.transAxes)\n",
    "ax.text(0.5, 0.5, f'{data_merged_graph2_sum[0]} rows', horizontalalignment = 'center',\n",
    "     verticalalignment = 'center', fontsize = 12, transform = ax.transAxes)\n",
    "\n",
    "ax.annotate(f'{data_merged_graph2_sum[np.nan]} NaN rows', \n",
    "            xy=(1, 1900), xytext=(200, 100), textcoords = ('offset pixels'), fontsize = 12, alpha = 0.9,\n",
    "            arrowprops = dict(facecolor = 'black', arrowstyle=\"-|>\", alpha = 0.7, fc=\"w\",\n",
    "                              connectionstyle = \"angle3, angleA=0, angleB=90\"))\n",
    "ax.annotate(f'{data_merged_graph2_sum[1]} (1) rows', \n",
    "            xy=(1, 1000), xytext=(200, 50), textcoords = ('offset pixels'), fontsize = 12, alpha = 0.9,\n",
    "            arrowprops = dict(facecolor = 'black', arrowstyle=\"-|>\", alpha = 0.7, fc=\"w\",\n",
    "                              connectionstyle = \"angle3, angleA=-90, angleB=180\"))\n",
    "    \n",
    "ax.legend(mode = \"expand\", ncol = 4, bbox_to_anchor = ([0.21, -0.14, 0.6, 0.1]))\n",
    "\n",
    "fig.suptitle(\"Total Rows vs Group 2 row's values distribution\", y = 0.94, x = 0.51, fontsize = 18)\n",
    "\n",
    "plt.show()"
   ]
  },
  {
   "cell_type": "markdown",
   "id": "b9a4439e",
   "metadata": {},
   "source": [
    "---"
   ]
  },
  {
   "cell_type": "markdown",
   "id": "6d1368d0",
   "metadata": {},
   "source": [
    "<h1> <div style=\"text-align: center\"> <font color=darkblue> <ins> Part 3 <font color=black> Group Data with only unique IDs </font> </div> <ins>"
   ]
  },
  {
   "cell_type": "markdown",
   "id": "73bc25fd",
   "metadata": {},
   "source": [
    "<h2> <div style=\"text-align: left\"> <font color=brown> <ins> Grouping <font color=black> data based on unique ID and lowest k01 </font> </div> <ins>"
   ]
  },
  {
   "cell_type": "code",
   "execution_count": 47,
   "id": "a598bc3a",
   "metadata": {},
   "outputs": [],
   "source": [
    "# Grouping by unique ID and the lowest available k01 value\n",
    "data_merged_unique = data_merged.loc[data_merged.groupby(['year', \n",
    "                                                          \"ID\"])[\"k01\"].idxmin()].reset_index(drop=True)"
   ]
  },
  {
   "cell_type": "code",
   "execution_count": 48,
   "id": "06290d78",
   "metadata": {},
   "outputs": [
    {
     "data": {
      "text/plain": [
       "array([1., 2., 6., 3., 4., 5., 7.])"
      ]
     },
     "execution_count": 48,
     "metadata": {},
     "output_type": "execute_result"
    }
   ],
   "source": [
    "# Grouped data's unique k01\n",
    "data_merged_unique[\"k01\"].unique()"
   ]
  },
  {
   "cell_type": "code",
   "execution_count": 49,
   "id": "a5f5557b",
   "metadata": {},
   "outputs": [
    {
     "data": {
      "text/plain": [
       "array([20., 19., 18., 17., 16., 15., 14., 13., 12., 11., 10.,  9.,  8.,\n",
       "        7.,  6.,  5.,  4.,  3.,  2.,  1.])"
      ]
     },
     "execution_count": 49,
     "metadata": {},
     "output_type": "execute_result"
    }
   ],
   "source": [
    "# UNgrouped data's unique k01\n",
    "data_merged[\"k01\"].unique()"
   ]
  },
  {
   "cell_type": "markdown",
   "id": "a9000622",
   "metadata": {},
   "source": [
    "---"
   ]
  },
  {
   "cell_type": "markdown",
   "id": "a44bbec7",
   "metadata": {},
   "source": [
    "<h2> <div style=\"text-align: left\"> <font color=brown> <ins> Reworking (Group 1 and Group 2 columns) <font color=black> <ins> (Moving 1s [k01 column] in accordance to their presence in the ungrouped data) </font> </div> <ins>"
   ]
  },
  {
   "cell_type": "code",
   "execution_count": 50,
   "id": "e62975d8",
   "metadata": {},
   "outputs": [],
   "source": [
    "data_merged_unique_copy = data_merged_unique.copy()"
   ]
  },
  {
   "cell_type": "code",
   "execution_count": 51,
   "id": "06e95979",
   "metadata": {},
   "outputs": [],
   "source": [
    "Group1_unique_ID = data_merged.query(\"Group1 == 1\").filter([\"ID\", \"year\", \"Group1\"]).reset_index(drop = True)\n",
    "Group1_unique_ID = Group1_unique_ID.drop_duplicates()\n",
    "\n",
    "Group2_unique_ID = data_merged.query(\"Group2 == 1\").filter([\"ID\", \"year\", \"Group2\"]).reset_index(drop = True)\n",
    "Group2_unique_ID = Group2_unique_ID.drop_duplicates()"
   ]
  },
  {
   "cell_type": "code",
   "execution_count": 52,
   "id": "4b46611b",
   "metadata": {},
   "outputs": [],
   "source": [
    "data_merged_unique = data_merged_unique.merge(Group1_unique_ID[['ID', 'year', 'Group1']], \n",
    "                                              on = [\"ID\", \"year\"],\n",
    "                                              how = \"left\") \n",
    "data_merged_unique = data_merged_unique.merge(Group2_unique_ID[['ID', 'year', 'Group2']], \n",
    "                                              on = [\"ID\", \"year\"],\n",
    "                                              how = \"left\") "
   ]
  },
  {
   "cell_type": "code",
   "execution_count": 53,
   "id": "b1e0eeda",
   "metadata": {},
   "outputs": [],
   "source": [
    "data_merged_unique['Group1_x'] = np.where(data_merged_unique['Group1_y'] == data_merged_unique['Group1_y'], \n",
    "                                          data_merged_unique['Group1_y'], data_merged_unique['Group1_x'])\n",
    "data_merged_unique['Group2_x'] = np.where(data_merged_unique['Group2_y'] == data_merged_unique['Group2_y'], \n",
    "                                          data_merged_unique['Group2_y'], data_merged_unique['Group2_x'])"
   ]
  },
  {
   "cell_type": "code",
   "execution_count": 54,
   "id": "0a096c3c",
   "metadata": {},
   "outputs": [],
   "source": [
    "data_merged_unique.drop(['Group1_y', 'Group2_y'], axis=1, inplace=True)"
   ]
  },
  {
   "cell_type": "code",
   "execution_count": 55,
   "id": "03a7284d",
   "metadata": {},
   "outputs": [],
   "source": [
    "data_merged_unique.rename({'Group1_x': \"Group1\", 'Group2_x': \"Group2\"}, axis=1, inplace=True)"
   ]
  },
  {
   "cell_type": "code",
   "execution_count": 56,
   "id": "7de05c69",
   "metadata": {},
   "outputs": [],
   "source": [
    "float_format_unique = dict.fromkeys(data_merged_unique.select_dtypes('float').columns, \"{:1}\")\n",
    "\n",
    "def highlight_cells_three(x):\n",
    "    data_merged_unique = x.copy()\n",
    "    data_merged_unique.loc[:,:] = '' \n",
    "    data_merged_unique.iloc[0:2, 2:4] = 'background-color: khaki'\n",
    "    return data_merged_unique"
   ]
  },
  {
   "cell_type": "code",
   "execution_count": 57,
   "id": "7078c01a",
   "metadata": {},
   "outputs": [],
   "source": [
    "def highlight_cells_four(x):\n",
    "    data_merged_unique = x.copy()\n",
    "    data_merged_unique.loc[:,:] = '' \n",
    "    data_merged_unique.iloc[2, 2:4] = 'background-color: khaki'\n",
    "    return data_merged_unique"
   ]
  },
  {
   "cell_type": "code",
   "execution_count": 58,
   "id": "d62b4c29",
   "metadata": {},
   "outputs": [
    {
     "data": {
      "text/html": [
       "<style  type=\"text/css\" >\n",
       "    #T_251da_ caption {\n",
       "          text-align: center;\n",
       "          font-size: 125%;\n",
       "          color: black;\n",
       "    }#T_251da_row0_col2,#T_251da_row0_col3,#T_251da_row1_col2,#T_251da_row1_col3{\n",
       "            background-color:  khaki;\n",
       "        }</style><table id=\"T_251da_\" ><caption>Before grouping by unique IDs and year</caption><thead>    <tr>        <th class=\"col_heading level0 col0\" >year</th>        <th class=\"col_heading level0 col1\" >ID</th>        <th class=\"col_heading level0 col2\" >k01</th>        <th class=\"col_heading level0 col3\" >Group2</th>    </tr></thead><tbody>\n",
       "                <tr>\n",
       "                                <td id=\"T_251da_row0_col0\" class=\"data row0 col0\" >2006</td>\n",
       "                        <td id=\"T_251da_row0_col1\" class=\"data row0 col1\" >47418</td>\n",
       "                        <td id=\"T_251da_row0_col2\" class=\"data row0 col2\" >10.0</td>\n",
       "                        <td id=\"T_251da_row0_col3\" class=\"data row0 col3\" >1.0</td>\n",
       "            </tr>\n",
       "            <tr>\n",
       "                                <td id=\"T_251da_row1_col0\" class=\"data row1 col0\" >2006</td>\n",
       "                        <td id=\"T_251da_row1_col1\" class=\"data row1 col1\" >47418</td>\n",
       "                        <td id=\"T_251da_row1_col2\" class=\"data row1 col2\" >9.0</td>\n",
       "                        <td id=\"T_251da_row1_col3\" class=\"data row1 col3\" >1.0</td>\n",
       "            </tr>\n",
       "            <tr>\n",
       "                                <td id=\"T_251da_row2_col0\" class=\"data row2 col0\" >2006</td>\n",
       "                        <td id=\"T_251da_row2_col1\" class=\"data row2 col1\" >47418</td>\n",
       "                        <td id=\"T_251da_row2_col2\" class=\"data row2 col2\" >8.0</td>\n",
       "                        <td id=\"T_251da_row2_col3\" class=\"data row2 col3\" >0.0</td>\n",
       "            </tr>\n",
       "            <tr>\n",
       "                                <td id=\"T_251da_row3_col0\" class=\"data row3 col0\" >2006</td>\n",
       "                        <td id=\"T_251da_row3_col1\" class=\"data row3 col1\" >47418</td>\n",
       "                        <td id=\"T_251da_row3_col2\" class=\"data row3 col2\" >7.0</td>\n",
       "                        <td id=\"T_251da_row3_col3\" class=\"data row3 col3\" >0.0</td>\n",
       "            </tr>\n",
       "            <tr>\n",
       "                                <td id=\"T_251da_row4_col0\" class=\"data row4 col0\" >2006</td>\n",
       "                        <td id=\"T_251da_row4_col1\" class=\"data row4 col1\" >47418</td>\n",
       "                        <td id=\"T_251da_row4_col2\" class=\"data row4 col2\" >6.0</td>\n",
       "                        <td id=\"T_251da_row4_col3\" class=\"data row4 col3\" >0.0</td>\n",
       "            </tr>\n",
       "            <tr>\n",
       "                                <td id=\"T_251da_row5_col0\" class=\"data row5 col0\" >2006</td>\n",
       "                        <td id=\"T_251da_row5_col1\" class=\"data row5 col1\" >47418</td>\n",
       "                        <td id=\"T_251da_row5_col2\" class=\"data row5 col2\" >2.0</td>\n",
       "                        <td id=\"T_251da_row5_col3\" class=\"data row5 col3\" >0.0</td>\n",
       "            </tr>\n",
       "            <tr>\n",
       "                                <td id=\"T_251da_row6_col0\" class=\"data row6 col0\" >2006</td>\n",
       "                        <td id=\"T_251da_row6_col1\" class=\"data row6 col1\" >47418</td>\n",
       "                        <td id=\"T_251da_row6_col2\" class=\"data row6 col2\" >1.0</td>\n",
       "                        <td id=\"T_251da_row6_col3\" class=\"data row6 col3\" >0.0</td>\n",
       "            </tr>\n",
       "    </tbody></table>"
      ],
      "text/plain": [
       "<pandas.io.formats.style.Styler at 0x1772401de20>"
      ]
     },
     "metadata": {},
     "output_type": "display_data"
    },
    {
     "data": {
      "text/html": [
       "<style  type=\"text/css\" >\n",
       "    #T_65e7d_ caption {\n",
       "          text-align: center;\n",
       "          font-size: 125%;\n",
       "          color: black;\n",
       "    }</style><table id=\"T_65e7d_\" ><caption>After grouping by unique IDs and year</caption><thead>    <tr>        <th class=\"col_heading level0 col0\" >year</th>        <th class=\"col_heading level0 col1\" >ID</th>        <th class=\"col_heading level0 col2\" >k01</th>        <th class=\"col_heading level0 col3\" >Group2</th>    </tr></thead><tbody>\n",
       "                <tr>\n",
       "                                <td id=\"T_65e7d_row0_col0\" class=\"data row0 col0\" >2006</td>\n",
       "                        <td id=\"T_65e7d_row0_col1\" class=\"data row0 col1\" >47418</td>\n",
       "                        <td id=\"T_65e7d_row0_col2\" class=\"data row0 col2\" >1.0</td>\n",
       "                        <td id=\"T_65e7d_row0_col3\" class=\"data row0 col3\" >1.0</td>\n",
       "            </tr>\n",
       "    </tbody></table>"
      ],
      "text/plain": [
       "<pandas.io.formats.style.Styler at 0x1772178dd90>"
      ]
     },
     "metadata": {},
     "output_type": "display_data"
    }
   ],
   "source": [
    "dsp(data_merged.filter([\"year\", \"ID\", \"k01\", \"Group2\"]).query(\"year == 2006 and ID == 47418\").style.\n",
    "    apply(highlight_cells_three, axis = None).format(float_format_unique).\n",
    "    set_caption(\"Before grouping by unique IDs and year\").set_table_styles(styles).hide_index())\n",
    "dsp(data_merged_unique.filter([\"year\", \"ID\", \"k01\", \"Group2\"]).query(\"year == 2006 and ID == 47418\").style.\n",
    "    format(float_format_unique).set_caption(\"After grouping by unique IDs and year\").\n",
    "    set_table_styles(styles).hide_index())"
   ]
  },
  {
   "cell_type": "code",
   "execution_count": 59,
   "id": "73d5ed39",
   "metadata": {},
   "outputs": [
    {
     "data": {
      "text/html": [
       "<style  type=\"text/css\" >\n",
       "    #T_d87d5_ caption {\n",
       "          text-align: center;\n",
       "          font-size: 125%;\n",
       "          color: black;\n",
       "    }#T_d87d5_row2_col2,#T_d87d5_row2_col3{\n",
       "            background-color:  khaki;\n",
       "        }</style><table id=\"T_d87d5_\" ><caption>Before grouping by unique IDs and year</caption><thead>    <tr>        <th class=\"col_heading level0 col0\" >year</th>        <th class=\"col_heading level0 col1\" >ID</th>        <th class=\"col_heading level0 col2\" >k01</th>        <th class=\"col_heading level0 col3\" >Group2</th>    </tr></thead><tbody>\n",
       "                <tr>\n",
       "                                <td id=\"T_d87d5_row0_col0\" class=\"data row0 col0\" >2017</td>\n",
       "                        <td id=\"T_d87d5_row0_col1\" class=\"data row0 col1\" >20286159</td>\n",
       "                        <td id=\"T_d87d5_row0_col2\" class=\"data row0 col2\" >7.0</td>\n",
       "                        <td id=\"T_d87d5_row0_col3\" class=\"data row0 col3\" >0.0</td>\n",
       "            </tr>\n",
       "            <tr>\n",
       "                                <td id=\"T_d87d5_row1_col0\" class=\"data row1 col0\" >2017</td>\n",
       "                        <td id=\"T_d87d5_row1_col1\" class=\"data row1 col1\" >20286159</td>\n",
       "                        <td id=\"T_d87d5_row1_col2\" class=\"data row1 col2\" >6.0</td>\n",
       "                        <td id=\"T_d87d5_row1_col3\" class=\"data row1 col3\" >0.0</td>\n",
       "            </tr>\n",
       "            <tr>\n",
       "                                <td id=\"T_d87d5_row2_col0\" class=\"data row2 col0\" >2017</td>\n",
       "                        <td id=\"T_d87d5_row2_col1\" class=\"data row2 col1\" >20286159</td>\n",
       "                        <td id=\"T_d87d5_row2_col2\" class=\"data row2 col2\" >5.0</td>\n",
       "                        <td id=\"T_d87d5_row2_col3\" class=\"data row2 col3\" >1.0</td>\n",
       "            </tr>\n",
       "            <tr>\n",
       "                                <td id=\"T_d87d5_row3_col0\" class=\"data row3 col0\" >2017</td>\n",
       "                        <td id=\"T_d87d5_row3_col1\" class=\"data row3 col1\" >20286159</td>\n",
       "                        <td id=\"T_d87d5_row3_col2\" class=\"data row3 col2\" >4.0</td>\n",
       "                        <td id=\"T_d87d5_row3_col3\" class=\"data row3 col3\" >0.0</td>\n",
       "            </tr>\n",
       "            <tr>\n",
       "                                <td id=\"T_d87d5_row4_col0\" class=\"data row4 col0\" >2017</td>\n",
       "                        <td id=\"T_d87d5_row4_col1\" class=\"data row4 col1\" >20286159</td>\n",
       "                        <td id=\"T_d87d5_row4_col2\" class=\"data row4 col2\" >3.0</td>\n",
       "                        <td id=\"T_d87d5_row4_col3\" class=\"data row4 col3\" >0.0</td>\n",
       "            </tr>\n",
       "            <tr>\n",
       "                                <td id=\"T_d87d5_row5_col0\" class=\"data row5 col0\" >2017</td>\n",
       "                        <td id=\"T_d87d5_row5_col1\" class=\"data row5 col1\" >20286159</td>\n",
       "                        <td id=\"T_d87d5_row5_col2\" class=\"data row5 col2\" >2.0</td>\n",
       "                        <td id=\"T_d87d5_row5_col3\" class=\"data row5 col3\" >0.0</td>\n",
       "            </tr>\n",
       "            <tr>\n",
       "                                <td id=\"T_d87d5_row6_col0\" class=\"data row6 col0\" >2017</td>\n",
       "                        <td id=\"T_d87d5_row6_col1\" class=\"data row6 col1\" >20286159</td>\n",
       "                        <td id=\"T_d87d5_row6_col2\" class=\"data row6 col2\" >1.0</td>\n",
       "                        <td id=\"T_d87d5_row6_col3\" class=\"data row6 col3\" >0.0</td>\n",
       "            </tr>\n",
       "    </tbody></table>"
      ],
      "text/plain": [
       "<pandas.io.formats.style.Styler at 0x177216725e0>"
      ]
     },
     "metadata": {},
     "output_type": "display_data"
    },
    {
     "data": {
      "text/html": [
       "<style  type=\"text/css\" >\n",
       "    #T_c707c_ caption {\n",
       "          text-align: center;\n",
       "          font-size: 125%;\n",
       "          color: black;\n",
       "    }</style><table id=\"T_c707c_\" ><caption>After grouping by unique IDs and year</caption><thead>    <tr>        <th class=\"col_heading level0 col0\" >year</th>        <th class=\"col_heading level0 col1\" >ID</th>        <th class=\"col_heading level0 col2\" >k01</th>        <th class=\"col_heading level0 col3\" >Group2</th>    </tr></thead><tbody>\n",
       "                <tr>\n",
       "                                <td id=\"T_c707c_row0_col0\" class=\"data row0 col0\" >2017</td>\n",
       "                        <td id=\"T_c707c_row0_col1\" class=\"data row0 col1\" >20286159</td>\n",
       "                        <td id=\"T_c707c_row0_col2\" class=\"data row0 col2\" >1.0</td>\n",
       "                        <td id=\"T_c707c_row0_col3\" class=\"data row0 col3\" >1.0</td>\n",
       "            </tr>\n",
       "    </tbody></table>"
      ],
      "text/plain": [
       "<pandas.io.formats.style.Styler at 0x17721776b80>"
      ]
     },
     "metadata": {},
     "output_type": "display_data"
    }
   ],
   "source": [
    "dsp(data_merged.filter([\"year\", \"ID\", \"k01\", \"Group2\"]).query(\"year == 2017 and ID == 20286159\").style.\n",
    "    apply(highlight_cells_four, axis = None).format(float_format_unique).\n",
    "    set_caption(\"Before grouping by unique IDs and year\").set_table_styles(styles).hide_index())\n",
    "dsp(data_merged_unique.filter([\"year\", \"ID\", \"k01\", \"Group2\"]).query(\"year == 2017 and ID == 20286159\").style.\n",
    "    format(float_format_unique).set_caption(\"After grouping by unique IDs and year\").\n",
    "    set_table_styles(styles).hide_index())"
   ]
  },
  {
   "cell_type": "markdown",
   "id": "8f132cbf",
   "metadata": {},
   "source": [
    "---"
   ]
  },
  {
   "cell_type": "markdown",
   "id": "0e6d6d81",
   "metadata": {},
   "source": [
    "<h3> Summary"
   ]
  },
  {
   "cell_type": "code",
   "execution_count": 60,
   "id": "2ef520c6",
   "metadata": {
    "scrolled": false
   },
   "outputs": [
    {
     "data": {
      "image/png": "[encoded data removed]",
      "text/plain": [
       "<Figure size 1080x432 with 2 Axes>"
      ]
     },
     "metadata": {
      "needs_background": "light"
     },
     "output_type": "display_data"
    }
   ],
   "source": [
    "fig, (ax1, ax2) = plt.subplots(1, 2, sharey = False, figsize = (15, 6))\n",
    "\n",
    "ax1.bar([1], int(round(data_merged[\"Group1\"].sum())), label = 'Ungrouped', color = \"gray\")\n",
    "ax1.bar([1], int(round(data_merged_unique[\"Group1\"].sum())), label = 'Grouped', color = \"lightblue\")\n",
    "\n",
    "ax2.bar([1], int(round(data_merged[\"Group2\"].sum())), label = 'Ungrouped', color = \"gray\")\n",
    "ax2.bar([1], int(round(data_merged_unique[\"Group2\"].sum())), label = 'Grouped', color = \"lightblue\")\n",
    "\n",
    "ax1.set_xticks([])\n",
    "ax2.set_xticks([])\n",
    "        \n",
    "ax1.annotate(f'{int(round(data_merged[\"Group1\"].sum()))} (ungrouped)', \n",
    "             xy=(1, 9150), xytext=(70, 27), textcoords = ('offset pixels'), fontsize = 10, alpha = 0.9,\n",
    "             arrowprops = dict(facecolor = 'black', arrowstyle=\"-|>\", alpha = 0.7, fc=\"w\",\n",
    "                              connectionstyle = \"angle3, angleA=-90, angleB=180\"))\n",
    "ax1.text(0.45, 0.5, f'{int(round(data_merged_unique[\"Group1\"].sum()))} rows', horizontalalignment = 'center',\n",
    "     verticalalignment = 'center', fontsize = 15, transform = ax.transAxes, color = \"black\")\n",
    "\n",
    "for rect in ax2.patches:\n",
    "    height = rect.get_height()\n",
    "    width = rect.get_width()\n",
    "    x = rect.get_x()\n",
    "    y = rect.get_y()\n",
    "    label_text = f'{height} rows'\n",
    "    label_x = x + width / 2\n",
    "    label_y = y + height / 1.1\n",
    "    if height > 0:\n",
    "        ax2.text(label_x, label_y, label_text, ha='center', va='center', fontsize=15)\n",
    "    \n",
    "ax1.legend(mode = \"expand\", ncol = 4, bbox_to_anchor = ([0.8, -0.14, 0.55, 0.1]))\n",
    "\n",
    "ax1.set_title(\"Group1\")\n",
    "ax2.set_title(\"Group2\")\n",
    "\n",
    "fig.suptitle(\"New column's # of (1s) values for Ungroped and Grouped Data\", y = 1, x = 0.51, fontsize = 18)\n",
    "\n",
    "plt.show()"
   ]
  },
  {
   "cell_type": "markdown",
   "id": "8f9626c4",
   "metadata": {},
   "source": [
    "---"
   ]
  },
  {
   "cell_type": "markdown",
   "id": "4ae644b2",
   "metadata": {},
   "source": [
    "<h1> <div style=\"text-align: center\"> <font color=darkblue> <ins> Part 4 <font color=black> Summary of Variables of Interest </font> </div> <ins>"
   ]
  },
  {
   "cell_type": "code",
   "execution_count": 74,
   "id": "c96c1529",
   "metadata": {},
   "outputs": [],
   "source": [
    "data_merged_table = (data_merged_unique.groupby([\"ID\"]).\n",
    "                    agg({'k71': ['median','max', \n",
    "                                lambda x: x.nlargest(2).min(), lambda x: x.nlargest(3).min(),\n",
    "                                lambda x: x.nunique()],\n",
    "                         \"year\": 'count'}).reset_index())\n",
    "\n",
    "data_merged_table.columns = ['ID', 'median', \"max\", \n",
    "                             \"second_largest\", \"third_largest\", 'unique_k71', 'entries']"
   ]
  },
  {
   "cell_type": "code",
   "execution_count": 76,
   "id": "6001420c",
   "metadata": {},
   "outputs": [],
   "source": [
    "IDs_of_interest = data_merged_table[(data_merged_table['unique_k71'] != 1) & \n",
    "                                    (data_merged_table['unique_k71'] != data_merged_table['entries'])]"
   ]
  },
  {
   "cell_type": "code",
   "execution_count": 77,
   "id": "3516ce0f",
   "metadata": {},
   "outputs": [
    {
     "data": {
      "text/html": [
       "<div>\n",
       "<style scoped>\n",
       "    .dataframe tbody tr th:only-of-type {\n",
       "        vertical-align: middle;\n",
       "    }\n",
       "\n",
       "    .dataframe tbody tr th {\n",
       "        vertical-align: top;\n",
       "    }\n",
       "\n",
       "    .dataframe thead th {\n",
       "        text-align: right;\n",
       "    }\n",
       "</style>\n",
       "<table border=\"1\" class=\"dataframe\">\n",
       "  <thead>\n",
       "    <tr style=\"text-align: right;\">\n",
       "      <th></th>\n",
       "      <th>hh_code</th>\n",
       "      <th>median</th>\n",
       "      <th>max</th>\n",
       "      <th>second_largest</th>\n",
       "      <th>third_largest</th>\n",
       "      <th>unique_k71</th>\n",
       "      <th>entries</th>\n",
       "    </tr>\n",
       "  </thead>\n",
       "  <tbody>\n",
       "    <tr>\n",
       "      <th>1</th>\n",
       "      <td>7056</td>\n",
       "      <td>66.5</td>\n",
       "      <td>69.0</td>\n",
       "      <td>68.0</td>\n",
       "      <td>67.0</td>\n",
       "      <td>7.0</td>\n",
       "      <td>8</td>\n",
       "    </tr>\n",
       "    <tr>\n",
       "      <th>3</th>\n",
       "      <td>7060</td>\n",
       "      <td>80.0</td>\n",
       "      <td>83.0</td>\n",
       "      <td>82.0</td>\n",
       "      <td>81.0</td>\n",
       "      <td>7.0</td>\n",
       "      <td>8</td>\n",
       "    </tr>\n",
       "    <tr>\n",
       "      <th>6</th>\n",
       "      <td>7063</td>\n",
       "      <td>45.0</td>\n",
       "      <td>48.0</td>\n",
       "      <td>47.0</td>\n",
       "      <td>46.0</td>\n",
       "      <td>6.0</td>\n",
       "      <td>7</td>\n",
       "    </tr>\n",
       "    <tr>\n",
       "      <th>8</th>\n",
       "      <td>7066</td>\n",
       "      <td>72.5</td>\n",
       "      <td>75.0</td>\n",
       "      <td>74.0</td>\n",
       "      <td>73.0</td>\n",
       "      <td>7.0</td>\n",
       "      <td>8</td>\n",
       "    </tr>\n",
       "    <tr>\n",
       "      <th>16</th>\n",
       "      <td>7075</td>\n",
       "      <td>80.0</td>\n",
       "      <td>82.0</td>\n",
       "      <td>82.0</td>\n",
       "      <td>80.0</td>\n",
       "      <td>4.0</td>\n",
       "      <td>5</td>\n",
       "    </tr>\n",
       "    <tr>\n",
       "      <th>...</th>\n",
       "      <td>...</td>\n",
       "      <td>...</td>\n",
       "      <td>...</td>\n",
       "      <td>...</td>\n",
       "      <td>...</td>\n",
       "      <td>...</td>\n",
       "      <td>...</td>\n",
       "    </tr>\n",
       "    <tr>\n",
       "      <th>16005</th>\n",
       "      <td>210182159</td>\n",
       "      <td>54.0</td>\n",
       "      <td>56.0</td>\n",
       "      <td>55.0</td>\n",
       "      <td>55.0</td>\n",
       "      <td>4.0</td>\n",
       "      <td>7</td>\n",
       "    </tr>\n",
       "    <tr>\n",
       "      <th>16031</th>\n",
       "      <td>210208159</td>\n",
       "      <td>38.0</td>\n",
       "      <td>40.0</td>\n",
       "      <td>39.0</td>\n",
       "      <td>38.0</td>\n",
       "      <td>5.0</td>\n",
       "      <td>7</td>\n",
       "    </tr>\n",
       "    <tr>\n",
       "      <th>16032</th>\n",
       "      <td>210209159</td>\n",
       "      <td>44.0</td>\n",
       "      <td>46.0</td>\n",
       "      <td>45.0</td>\n",
       "      <td>44.0</td>\n",
       "      <td>5.0</td>\n",
       "      <td>7</td>\n",
       "    </tr>\n",
       "    <tr>\n",
       "      <th>16065</th>\n",
       "      <td>210242159</td>\n",
       "      <td>58.0</td>\n",
       "      <td>60.0</td>\n",
       "      <td>59.0</td>\n",
       "      <td>58.0</td>\n",
       "      <td>5.0</td>\n",
       "      <td>7</td>\n",
       "    </tr>\n",
       "    <tr>\n",
       "      <th>16074</th>\n",
       "      <td>210251159</td>\n",
       "      <td>48.0</td>\n",
       "      <td>51.0</td>\n",
       "      <td>50.0</td>\n",
       "      <td>49.0</td>\n",
       "      <td>6.0</td>\n",
       "      <td>7</td>\n",
       "    </tr>\n",
       "  </tbody>\n",
       "</table>\n",
       "<p>4707 rows × 7 columns</p>\n",
       "</div>"
      ],
      "text/plain": [
       "         hh_code  median   max  second_largest  third_largest  unique_k71  \\\n",
       "1           7056    66.5  69.0            68.0           67.0         7.0   \n",
       "3           7060    80.0  83.0            82.0           81.0         7.0   \n",
       "6           7063    45.0  48.0            47.0           46.0         6.0   \n",
       "8           7066    72.5  75.0            74.0           73.0         7.0   \n",
       "16          7075    80.0  82.0            82.0           80.0         4.0   \n",
       "...          ...     ...   ...             ...            ...         ...   \n",
       "16005  210182159    54.0  56.0            55.0           55.0         4.0   \n",
       "16031  210208159    38.0  40.0            39.0           38.0         5.0   \n",
       "16032  210209159    44.0  46.0            45.0           44.0         5.0   \n",
       "16065  210242159    58.0  60.0            59.0           58.0         5.0   \n",
       "16074  210251159    48.0  51.0            50.0           49.0         6.0   \n",
       "\n",
       "       entries  \n",
       "1            8  \n",
       "3            8  \n",
       "6            7  \n",
       "8            8  \n",
       "16           5  \n",
       "...        ...  \n",
       "16005        7  \n",
       "16031        7  \n",
       "16032        7  \n",
       "16065        7  \n",
       "16074        7  \n",
       "\n",
       "[4707 rows x 7 columns]"
      ]
     },
     "execution_count": 77,
     "metadata": {},
     "output_type": "execute_result"
    }
   ],
   "source": [
    "IDs_of_interest"
   ]
  },
  {
   "cell_type": "markdown",
   "id": "61b4cbdd",
   "metadata": {},
   "source": [
    "---"
   ]
  },
  {
   "cell_type": "code",
   "execution_count": 61,
   "id": "d7cdd695",
   "metadata": {
    "code_folding": []
   },
   "outputs": [
    {
     "data": {
      "text/html": [
       "<style  type=\"text/css\" >\n",
       "</style><table id=\"T_58efa_\" ><thead>    <tr>        <th class=\"blank level0\" ></th>        <th class=\"col_heading level0 col0\" ># of Zeros</th>        <th class=\"col_heading level0 col1\" >% of Zeros</th>    </tr></thead><tbody>\n",
       "                <tr>\n",
       "                        <th id=\"T_58efa_level0_row0\" class=\"row_heading level0 row0\" >c51</th>\n",
       "                        <td id=\"T_58efa_row0_col0\" class=\"data row0 col0\" >74511</td>\n",
       "                        <td id=\"T_58efa_row0_col1\" class=\"data row0 col1\" >26.283%</td>\n",
       "            </tr>\n",
       "            <tr>\n",
       "                        <th id=\"T_58efa_level0_row1\" class=\"row_heading level0 row1\" >c31</th>\n",
       "                        <td id=\"T_58efa_row1_col0\" class=\"data row1 col0\" >74500</td>\n",
       "                        <td id=\"T_58efa_row1_col1\" class=\"data row1 col1\" >26.279%</td>\n",
       "            </tr>\n",
       "            <tr>\n",
       "                        <th id=\"T_58efa_level0_row2\" class=\"row_heading level0 row2\" >k2008</th>\n",
       "                        <td id=\"T_58efa_row2_col0\" class=\"data row2 col0\" >69459</td>\n",
       "                        <td id=\"T_58efa_row2_col1\" class=\"data row2 col1\" >24.501%</td>\n",
       "            </tr>\n",
       "            <tr>\n",
       "                        <th id=\"T_58efa_level0_row3\" class=\"row_heading level0 row3\" >k2004</th>\n",
       "                        <td id=\"T_58efa_row3_col0\" class=\"data row3 col0\" >69453</td>\n",
       "                        <td id=\"T_58efa_row3_col1\" class=\"data row3 col1\" >24.499%</td>\n",
       "            </tr>\n",
       "            <tr>\n",
       "                        <th id=\"T_58efa_level0_row4\" class=\"row_heading level0 row4\" >k2001</th>\n",
       "                        <td id=\"T_58efa_row4_col0\" class=\"data row4 col0\" >68103</td>\n",
       "                        <td id=\"T_58efa_row4_col1\" class=\"data row4 col1\" >24.023%</td>\n",
       "            </tr>\n",
       "            <tr>\n",
       "                        <th id=\"T_58efa_level0_row5\" class=\"row_heading level0 row5\" >k2007</th>\n",
       "                        <td id=\"T_58efa_row5_col0\" class=\"data row5 col0\" >66066</td>\n",
       "                        <td id=\"T_58efa_row5_col1\" class=\"data row5 col1\" >23.304%</td>\n",
       "            </tr>\n",
       "            <tr>\n",
       "                        <th id=\"T_58efa_level0_row6\" class=\"row_heading level0 row6\" >k1701</th>\n",
       "                        <td id=\"T_58efa_row6_col0\" class=\"data row6 col0\" >63885</td>\n",
       "                        <td id=\"T_58efa_row6_col1\" class=\"data row6 col1\" >22.535%</td>\n",
       "            </tr>\n",
       "            <tr>\n",
       "                        <th id=\"T_58efa_level0_row7\" class=\"row_heading level0 row7\" >k2006</th>\n",
       "                        <td id=\"T_58efa_row7_col0\" class=\"data row7 col0\" >62472</td>\n",
       "                        <td id=\"T_58efa_row7_col1\" class=\"data row7 col1\" >22.036%</td>\n",
       "            </tr>\n",
       "            <tr>\n",
       "                        <th id=\"T_58efa_level0_row8\" class=\"row_heading level0 row8\" >k103</th>\n",
       "                        <td id=\"T_58efa_row8_col0\" class=\"data row8 col0\" >56871</td>\n",
       "                        <td id=\"T_58efa_row8_col1\" class=\"data row8 col1\" >20.061%</td>\n",
       "            </tr>\n",
       "            <tr>\n",
       "                        <th id=\"T_58efa_level0_row9\" class=\"row_heading level0 row9\" >Group2</th>\n",
       "                        <td id=\"T_58efa_row9_col0\" class=\"data row9 col0\" >726</td>\n",
       "                        <td id=\"T_58efa_row9_col1\" class=\"data row9 col1\" >0.256%</td>\n",
       "            </tr>\n",
       "            <tr>\n",
       "                        <th id=\"T_58efa_level0_row10\" class=\"row_heading level0 row10\" >c91</th>\n",
       "                        <td id=\"T_58efa_row10_col0\" class=\"data row10 col0\" >501</td>\n",
       "                        <td id=\"T_58efa_row10_col1\" class=\"data row10 col1\" >0.177%</td>\n",
       "            </tr>\n",
       "            <tr>\n",
       "                        <th id=\"T_58efa_level0_row11\" class=\"row_heading level0 row11\" >Group1</th>\n",
       "                        <td id=\"T_58efa_row11_col0\" class=\"data row11 col0\" >488</td>\n",
       "                        <td id=\"T_58efa_row11_col1\" class=\"data row11 col1\" >0.172%</td>\n",
       "            </tr>\n",
       "            <tr>\n",
       "                        <th id=\"T_58efa_level0_row12\" class=\"row_heading level0 row12\" >k101</th>\n",
       "                        <td id=\"T_58efa_row12_col0\" class=\"data row12 col0\" >2</td>\n",
       "                        <td id=\"T_58efa_row12_col1\" class=\"data row12 col1\" >0.001%</td>\n",
       "            </tr>\n",
       "            <tr>\n",
       "                        <th id=\"T_58efa_level0_row13\" class=\"row_heading level0 row13\" >k17</th>\n",
       "                        <td id=\"T_58efa_row13_col0\" class=\"data row13 col0\" >2</td>\n",
       "                        <td id=\"T_58efa_row13_col1\" class=\"data row13 col1\" >0.001%</td>\n",
       "            </tr>\n",
       "            <tr>\n",
       "                        <th id=\"T_58efa_level0_row14\" class=\"row_heading level0 row14\" >k102</th>\n",
       "                        <td id=\"T_58efa_row14_col0\" class=\"data row14 col0\" >2</td>\n",
       "                        <td id=\"T_58efa_row14_col1\" class=\"data row14 col1\" >0.001%</td>\n",
       "            </tr>\n",
       "    </tbody></table>"
      ],
      "text/plain": [
       "<pandas.io.formats.style.Styler at 0x17721759f10>"
      ]
     },
     "execution_count": 61,
     "metadata": {},
     "output_type": "execute_result"
    }
   ],
   "source": [
    "missing_data_merged_unique = data_merged_unique.isnull().sum().sort_values(ascending = False)\n",
    "missing_data_merged_unique_df = (pd.DataFrame(missing_data_merged_unique[missing_data_merged_unique > 0]).\n",
    "                                 rename({0:\"# of Zeros\"}, axis = 1))\n",
    "missing_data_merged_unique_df[\"% of Zeros\"] = round((missing_data_merged_unique_df[\"# of Zeros\"] / \n",
    "                                                     data_merged.shape[0]) * 100, 3)\n",
    "missing_data_merged_unique_df.style.format({\"% of Zeros\": '{:1}%'})"
   ]
  },
  {
   "cell_type": "markdown",
   "id": "a98e4fe7",
   "metadata": {},
   "source": [
    "---"
   ]
  },
  {
   "cell_type": "code",
   "execution_count": 62,
   "id": "9b1715dd",
   "metadata": {},
   "outputs": [
    {
     "data": {
      "image/png": "[encoded data removed]",
      "text/plain": [
       "<Figure size 1008x360 with 1 Axes>"
      ]
     },
     "metadata": {
      "needs_background": "light"
     },
     "output_type": "display_data"
    }
   ],
   "source": [
    "sns.set_palette(\"muted\")\n",
    "\n",
    "g = sns.factorplot(x='year', y='ID', hue='k01', \n",
    "                   data= (pd.DataFrame(data_merged_unique.groupby([\"year\", \"k01\"])[\"ID\"].count()).\n",
    "                          reset_index(level=[0,1]).query(\"k01 > 1\")), \n",
    "                   kind='bar', legend=False)\n",
    "\n",
    "g.fig.set_figheight(5)\n",
    "g.fig.set_figwidth(14)\n",
    "\n",
    "plt.legend(loc='upper right')\n",
    "\n",
    "plt.title(\"# of k01 that are not 1\", fontsize = 18)\n",
    "plt.xlabel(\"\")\n",
    "plt.ylabel(\"\")\n",
    "\n",
    "plt.show();"
   ]
  },
  {
   "cell_type": "code",
   "execution_count": 63,
   "id": "63a54f68",
   "metadata": {},
   "outputs": [
    {
     "data": {
      "image/png": "[encoded data removed]",
      "text/plain": [
       "<Figure size 1080x504 with 1 Axes>"
      ]
     },
     "metadata": {
      "needs_background": "light"
     },
     "output_type": "display_data"
    }
   ],
   "source": [
    "fig_ecdf, ax = plt.subplots(figsize = (15, 7))\n",
    "\n",
    "x = np.sort(data_merged_unique[\"k71\"])\n",
    "\n",
    "y = np.arange(1, len(x)+1) / len(x)\n",
    "\n",
    "_ = plt.plot(x, y, marker='.', linestyle='none', color = \"gray\", alpha = 0.7)\n",
    "_ = plt.xlabel('Final Index', fontsize = 14)\n",
    "_ = plt.ylabel('ECDF', fontsize = 14)\n",
    "plt.margins(0.02)\n",
    "\n",
    "percentiles = np.array([5, 25, 50, 75, 99])\n",
    "ptiles_vers = np.percentile(data_merged_unique[\"k71\"], percentiles)\n",
    "\n",
    "_ = plt.plot(ptiles_vers, percentiles/100, marker='o', color='red',\n",
    "         linestyle='none')\n",
    "\n",
    "plt.annotate(f'99th percentile: [≈{round(np.percentile(data_merged_unique[\"k71\"], 99), 3)}]', \n",
    "            xy=(round(np.percentile(data_merged_unique[\"k71\"], 99), 3), 0.99), xytext=(10, -50), \n",
    "             textcoords = ('offset pixels'), fontsize = 12, alpha = 0.9,\n",
    "            arrowprops = dict(facecolor = 'black', arrowstyle=\"-|>\", alpha = 0.7, fc=\"w\",\n",
    "                              connectionstyle = \"angle3, angleA=180, angleB=-90\"))\n",
    "plt.annotate(f'75th percentile: [≈{round(np.percentile(data_merged_unique[\"k71\"], 75), 3)}]', \n",
    "            xy=(round(np.percentile(data_merged_unique[\"k71\"], 75), 3), 0.75), xytext=(10, -50), \n",
    "             textcoords = ('offset pixels'), fontsize = 12, alpha = 0.9,\n",
    "            arrowprops = dict(facecolor = 'black', arrowstyle=\"-|>\", alpha = 0.7, fc=\"w\",\n",
    "                              connectionstyle = \"angle3, angleA=-90, angleB=180\"))\n",
    "plt.annotate(f'50th percentile: [≈{round(np.percentile(data_merged_unique[\"k71\"], 50), 3)}]', \n",
    "            xy=(round(np.percentile(data_merged_unique[\"k71\"], 50), 3), 0.50), xytext=(-200, 30), \n",
    "             textcoords = ('offset pixels'), fontsize = 12, alpha = 0.9,\n",
    "            arrowprops = dict(facecolor = 'black', arrowstyle=\"-|>\", alpha = 0.7, fc=\"w\",\n",
    "                              connectionstyle = \"angle3, angleA=-90, angleB=180\"))\n",
    "plt.annotate(f'25th percentile: [≈{round(np.percentile(data_merged_unique[\"k71\"], 25), 3)}]', \n",
    "            xy=(round(np.percentile(data_merged_unique[\"k71\"], 25), 3), 0.25), xytext=(40, -50), \n",
    "             textcoords = ('offset pixels'), fontsize = 12, alpha = 0.9,\n",
    "            arrowprops = dict(facecolor = 'black', arrowstyle=\"-|>\", alpha = 0.7, fc=\"w\",\n",
    "                              connectionstyle = \"angle3, angleA=-90, angleB=-180\"))\n",
    "plt.annotate(f'5th percentile: [≈{round(np.percentile(data_merged_unique[\"k71\"], 5), 3)}]', \n",
    "            xy=(round(np.percentile(data_merged_unique[\"k71\"], 5), 3), 0.05), xytext=(-150, 50), \n",
    "             textcoords = ('offset pixels'), fontsize = 12, alpha = 0.9,\n",
    "            arrowprops = dict(facecolor = 'black', arrowstyle=\"-|>\", alpha = 0.7, fc=\"w\",\n",
    "                              connectionstyle = \"angle3, angleA=-90, angleB=180\"))\n",
    "\n",
    "plt.suptitle(\"ECDF of Final's Index values (ignore NaNs)\", y = 0.95, x = 0.51, fontsize = 18)\n",
    "\n",
    "fig_ecdf.show()"
   ]
  },
  {
   "cell_type": "code",
   "execution_count": 64,
   "id": "47dc878a",
   "metadata": {},
   "outputs": [
    {
     "data": {
      "image/png": "[encoded data removed]",
      "text/plain": [
       "<Figure size 1080x576 with 2 Axes>"
      ]
     },
     "metadata": {
      "needs_background": "light"
     },
     "output_type": "display_data"
    }
   ],
   "source": [
    "fig, (ax1, ax2) = plt.subplots(2, 1, sharey = False, figsize = (15, 8))\n",
    "\n",
    "sns.kdeplot(data_merged_unique['k71'],shade=True, ax = ax1)\n",
    "\n",
    "ax1.set_xlabel('')\n",
    "ax1.set_ylabel('Density', fontsize = 12)\n",
    "\n",
    "ax1.set_title(\"Distribution of values\", fontsize = 18, loc = 'right')\n",
    "\n",
    "\n",
    "sns.boxplot(data_merged_unique['k71'], ax = ax2)\n",
    "\n",
    "ax2.set_xlabel('k71 Value', fontsize = 12)\n",
    "ax2.set_ylabel('')\n",
    "\n",
    "plt.subplots_adjust(hspace = 0.3)\n",
    "\n",
    "fig.suptitle(\"Distribution of k71 values\", y = 0.94, fontsize = 20)\n",
    "\n",
    "plt.show()"
   ]
  },
  {
   "cell_type": "code",
   "execution_count": 65,
   "id": "84a9f137",
   "metadata": {},
   "outputs": [
    {
     "data": {
      "image/png": "[encoded data removed]",
      "text/plain": [
       "<Figure size 1008x360 with 1 Axes>"
      ]
     },
     "metadata": {
      "needs_background": "light"
     },
     "output_type": "display_data"
    }
   ],
   "source": [
    "g = sns.displot(data=data_merged_unique.query(\"year >= 2013\"), x='k71', hue=\"year\", kind=\"kde\")\n",
    "\n",
    "g.fig.set_figheight(5)\n",
    "g.fig.set_figwidth(14)\n",
    "\n",
    "plt.xlabel('k71 Value', fontsize = 12)\n",
    "plt.ylabel('Density', fontsize = 12)\n",
    "\n",
    "plt.title(\"Distribution of k71 values accross the years\", fontsize = 18)\n",
    "\n",
    "plt.show();"
   ]
  }
 ],
 "metadata": {
  "kernelspec": {
   "display_name": "Python 3",
   "language": "python",
   "name": "python3"
  },
  "language_info": {
   "codemirror_mode": {
    "name": "ipython",
    "version": 3
   },
   "file_extension": ".py",
   "mimetype": "text/x-python",
   "name": "python",
   "nbconvert_exporter": "python",
   "pygments_lexer": "ipython3",
   "version": "3.8.8"
  }
 },
 "nbformat": 4,
 "nbformat_minor": 5
}
