{
 "cells": [
  {
   "cell_type": "markdown",
   "id": "1a343fd3",
   "metadata": {},
   "source": [
    "<h1> <div style=\"text-align: center\"> Portfolio Applied Task - Credit Scoring  </div>"
   ]
  },
  {
   "cell_type": "markdown",
   "id": "9c09f57e",
   "metadata": {},
   "source": [
    "<div class=\"alert alert-block alert-warning\">\n",
    "<b> <ins> The aim of this task: </ins> </b>\n",
    "<span style=\"font-family:Comic Sans MS\"> To demonstrate the ability to perform intermediate-level data analysis and model building.</span>\n",
    "</div>"
   ]
  },
  {
   "cell_type": "markdown",
   "id": "2c7556d6",
   "metadata": {},
   "source": [
    "# Table of Contents: <a class=\"anchor\" id=\"main-bullet\"></a>\n",
    "* [1. Task Description](#first-bullet)\n",
    "* [2. Setup Working Environment](#second-bullet)\n",
    "* [3. Brief Data Overview](#third-bullet)\n",
    "* [4. Exploratory data analysis](#fourth-bullet)\n",
    "* [5. Feature engineering](#fifth-bullet)\n",
    "* [6. Building a Model](#sixth-bullet)\n",
    "* [7. Tuning the Model](#seventh-bullet)\n",
    "* [8. Analyzing the most important features](#eighth-bullet)"
   ]
  },
  {
   "cell_type": "markdown",
   "id": "a802e794",
   "metadata": {},
   "source": [
    "<h1> <div style = \"text-align: center\"> <font color = \"brown\"> 1. Task Description </font> </div> <a class=\"anchor\" id=\"first-bullet\"></a>"
   ]
  },
  {
   "cell_type": "markdown",
   "id": "9a9561fe",
   "metadata": {},
   "source": [
    "<span style=\"font-family:Comic Sans MS\">Forecasting the probability of borrower's default.</span>"
   ]
  },
  {
   "cell_type": "markdown",
   "id": "b6e1f568",
   "metadata": {},
   "source": [
    "<h1> <div style = \"text-align: center\"> <font color = \"brown\"> 2. Setup Working Environment </font> and Import data </div> <a class=\"anchor\" id=\"second-bullet\"></a>"
   ]
  },
  {
   "cell_type": "code",
   "execution_count": 1,
   "id": "f33c1ee6",
   "metadata": {},
   "outputs": [],
   "source": [
    "import pandas as pd\n",
    "import numpy as np\n",
    "\n",
    "import seaborn as sns\n",
    "import matplotlib.pyplot as plt\n",
    "\n",
    "\n",
    "from sklearn.model_selection import train_test_split, StratifiedKFold, GridSearchCV\n",
    "from sklearn.linear_model import LogisticRegression\n",
    "from sklearn.metrics import precision_score, recall_score, auc, accuracy_score, roc_auc_score,f1_score,log_loss,\\\n",
    "classification_report, roc_curve\n",
    "import shap\n",
    "\n",
    "import os\n",
    "from IPython.display import display as dsp\n",
    "\n",
    "import warnings\n",
    "warnings.filterwarnings(\"ignore\");\n",
    "\n",
    "RAND = 10"
   ]
  },
  {
   "cell_type": "code",
   "execution_count": 2,
   "id": "96b15ae8",
   "metadata": {},
   "outputs": [],
   "source": [
    "from Overview_Func import overview, plot_density_overview, plot_hist_bins_overview\n",
    "# overview - Custom function used to quickly generate an overview of the data.\n",
    "# plot_density_overview - Custom function used to quickly look at the distribution of a specific column via graphs."
   ]
  },
  {
   "cell_type": "code",
   "execution_count": 3,
   "id": "c1169c6b",
   "metadata": {},
   "outputs": [],
   "source": [
    "PATH = os.path.abspath(os.getcwd()) + \"\\\\\""
   ]
  },
  {
   "cell_type": "code",
   "execution_count": 4,
   "id": "8571fdc1",
   "metadata": {},
   "outputs": [],
   "source": [
    "df = pd.read_csv(PATH + '/data.csv')"
   ]
  },
  {
   "cell_type": "markdown",
   "id": "26b3ef5f",
   "metadata": {},
   "source": [
    "* [Return to the Table of Contents](#main-bullet)"
   ]
  },
  {
   "cell_type": "markdown",
   "id": "610becd5",
   "metadata": {},
   "source": [
    "<h1> <div style = \"text-align: center\"> 3. Brief Data <font color = \"brown\"> Overview </font> </div>  <a class=\"anchor\" id=\"third-bullet\"></a>"
   ]
  },
  {
   "cell_type": "markdown",
   "id": "c06c389e",
   "metadata": {},
   "source": [
    "<h2> Variables Overview"
   ]
  },
  {
   "cell_type": "markdown",
   "id": "519a7929",
   "metadata": {},
   "source": [
    "* <b> client_id </b>- Client's identification\n",
    "* <b> education </b>\n",
    "* <b> sex </b>\n",
    "* <b> age </b>\n",
    "* <b> car </b> - If a borrower has a car or not\n",
    "* <b> car_type </b>\n",
    "* <b> decline_app_cnt </b> - Amount of previously declined applications\n",
    "* <b> good_work </b> - Whether the job is labeled as 'good'\n",
    "* <b> bki_request_cnt </b> - Amount of BKI requests\n",
    "* <b> home_address </b>\n",
    "* <b> work_address </b>\n",
    "* <b> income </b>\n",
    "* <b> foreign_passport </b> - Whether a borrower has a foreign passport\n",
    "* <b> sna </b> - Connection of a borrower with the bank employees\n",
    "* <b> first_time </b> - Duration of a borrower's information\n",
    "* <b> score_bki </b>\n",
    "* <b> region_rating </b>\n",
    "* <b> app_date </b> - Date of the application submission\n",
    "* <b> default </b> - Whether credit was labeled as defaulted"
   ]
  },
  {
   "cell_type": "code",
   "execution_count": 5,
   "id": "97fc3eb4",
   "metadata": {},
   "outputs": [
    {
     "data": {
      "text/html": [
       "<div>\n",
       "<style scoped>\n",
       "    .dataframe tbody tr th:only-of-type {\n",
       "        vertical-align: middle;\n",
       "    }\n",
       "\n",
       "    .dataframe tbody tr th {\n",
       "        vertical-align: top;\n",
       "    }\n",
       "\n",
       "    .dataframe thead th {\n",
       "        text-align: right;\n",
       "    }\n",
       "</style>\n",
       "<table border=\"1\" class=\"dataframe\">\n",
       "  <thead>\n",
       "    <tr style=\"text-align: right;\">\n",
       "      <th></th>\n",
       "      <th>client_id</th>\n",
       "      <th>app_date</th>\n",
       "      <th>education</th>\n",
       "      <th>sex</th>\n",
       "      <th>age</th>\n",
       "      <th>car</th>\n",
       "      <th>car_type</th>\n",
       "      <th>decline_app_cnt</th>\n",
       "      <th>good_work</th>\n",
       "    </tr>\n",
       "  </thead>\n",
       "  <tbody>\n",
       "    <tr>\n",
       "      <th>0</th>\n",
       "      <td>25905</td>\n",
       "      <td>01-Feb-14</td>\n",
       "      <td>SCH</td>\n",
       "      <td>M</td>\n",
       "      <td>62</td>\n",
       "      <td>Y</td>\n",
       "      <td>Y</td>\n",
       "      <td>0</td>\n",
       "      <td>0</td>\n",
       "    </tr>\n",
       "    <tr>\n",
       "      <th>1</th>\n",
       "      <td>63161</td>\n",
       "      <td>12-Mar-14</td>\n",
       "      <td>SCH</td>\n",
       "      <td>F</td>\n",
       "      <td>59</td>\n",
       "      <td>N</td>\n",
       "      <td>N</td>\n",
       "      <td>0</td>\n",
       "      <td>0</td>\n",
       "    </tr>\n",
       "    <tr>\n",
       "      <th>2</th>\n",
       "      <td>25887</td>\n",
       "      <td>01-Feb-14</td>\n",
       "      <td>SCH</td>\n",
       "      <td>M</td>\n",
       "      <td>25</td>\n",
       "      <td>Y</td>\n",
       "      <td>N</td>\n",
       "      <td>2</td>\n",
       "      <td>0</td>\n",
       "    </tr>\n",
       "    <tr>\n",
       "      <th>3</th>\n",
       "      <td>16222</td>\n",
       "      <td>23-Jan-14</td>\n",
       "      <td>SCH</td>\n",
       "      <td>F</td>\n",
       "      <td>53</td>\n",
       "      <td>N</td>\n",
       "      <td>N</td>\n",
       "      <td>0</td>\n",
       "      <td>0</td>\n",
       "    </tr>\n",
       "    <tr>\n",
       "      <th>4</th>\n",
       "      <td>101655</td>\n",
       "      <td>18-Apr-14</td>\n",
       "      <td>GRD</td>\n",
       "      <td>M</td>\n",
       "      <td>48</td>\n",
       "      <td>N</td>\n",
       "      <td>N</td>\n",
       "      <td>0</td>\n",
       "      <td>1</td>\n",
       "    </tr>\n",
       "    <tr>\n",
       "      <th>...</th>\n",
       "      <td>...</td>\n",
       "      <td>...</td>\n",
       "      <td>...</td>\n",
       "      <td>...</td>\n",
       "      <td>...</td>\n",
       "      <td>...</td>\n",
       "      <td>...</td>\n",
       "      <td>...</td>\n",
       "      <td>...</td>\n",
       "    </tr>\n",
       "    <tr>\n",
       "      <th>73794</th>\n",
       "      <td>54887</td>\n",
       "      <td>04-Mar-14</td>\n",
       "      <td>GRD</td>\n",
       "      <td>F</td>\n",
       "      <td>45</td>\n",
       "      <td>N</td>\n",
       "      <td>N</td>\n",
       "      <td>0</td>\n",
       "      <td>0</td>\n",
       "    </tr>\n",
       "    <tr>\n",
       "      <th>73795</th>\n",
       "      <td>76821</td>\n",
       "      <td>24-Mar-14</td>\n",
       "      <td>SCH</td>\n",
       "      <td>M</td>\n",
       "      <td>41</td>\n",
       "      <td>Y</td>\n",
       "      <td>Y</td>\n",
       "      <td>0</td>\n",
       "      <td>0</td>\n",
       "    </tr>\n",
       "    <tr>\n",
       "      <th>73796</th>\n",
       "      <td>103695</td>\n",
       "      <td>22-Apr-14</td>\n",
       "      <td>SCH</td>\n",
       "      <td>M</td>\n",
       "      <td>31</td>\n",
       "      <td>N</td>\n",
       "      <td>N</td>\n",
       "      <td>0</td>\n",
       "      <td>0</td>\n",
       "    </tr>\n",
       "    <tr>\n",
       "      <th>73797</th>\n",
       "      <td>861</td>\n",
       "      <td>04-Jan-14</td>\n",
       "      <td>SCH</td>\n",
       "      <td>F</td>\n",
       "      <td>29</td>\n",
       "      <td>N</td>\n",
       "      <td>N</td>\n",
       "      <td>0</td>\n",
       "      <td>1</td>\n",
       "    </tr>\n",
       "    <tr>\n",
       "      <th>73798</th>\n",
       "      <td>15796</td>\n",
       "      <td>23-Jan-14</td>\n",
       "      <td>GRD</td>\n",
       "      <td>M</td>\n",
       "      <td>34</td>\n",
       "      <td>N</td>\n",
       "      <td>N</td>\n",
       "      <td>0</td>\n",
       "      <td>0</td>\n",
       "    </tr>\n",
       "  </tbody>\n",
       "</table>\n",
       "<p>73799 rows × 9 columns</p>\n",
       "</div>"
      ],
      "text/plain": [
       "       client_id   app_date education sex  age car car_type  decline_app_cnt  \\\n",
       "0          25905  01-Feb-14       SCH   M   62   Y        Y                0   \n",
       "1          63161  12-Mar-14       SCH   F   59   N        N                0   \n",
       "2          25887  01-Feb-14       SCH   M   25   Y        N                2   \n",
       "3          16222  23-Jan-14       SCH   F   53   N        N                0   \n",
       "4         101655  18-Apr-14       GRD   M   48   N        N                0   \n",
       "...          ...        ...       ...  ..  ...  ..      ...              ...   \n",
       "73794      54887  04-Mar-14       GRD   F   45   N        N                0   \n",
       "73795      76821  24-Mar-14       SCH   M   41   Y        Y                0   \n",
       "73796     103695  22-Apr-14       SCH   M   31   N        N                0   \n",
       "73797        861  04-Jan-14       SCH   F   29   N        N                0   \n",
       "73798      15796  23-Jan-14       GRD   M   34   N        N                0   \n",
       "\n",
       "       good_work  \n",
       "0              0  \n",
       "1              0  \n",
       "2              0  \n",
       "3              0  \n",
       "4              1  \n",
       "...          ...  \n",
       "73794          0  \n",
       "73795          0  \n",
       "73796          0  \n",
       "73797          1  \n",
       "73798          0  \n",
       "\n",
       "[73799 rows x 9 columns]"
      ]
     },
     "metadata": {},
     "output_type": "display_data"
    },
    {
     "data": {
      "text/html": [
       "<div>\n",
       "<style scoped>\n",
       "    .dataframe tbody tr th:only-of-type {\n",
       "        vertical-align: middle;\n",
       "    }\n",
       "\n",
       "    .dataframe tbody tr th {\n",
       "        vertical-align: top;\n",
       "    }\n",
       "\n",
       "    .dataframe thead th {\n",
       "        text-align: right;\n",
       "    }\n",
       "</style>\n",
       "<table border=\"1\" class=\"dataframe\">\n",
       "  <thead>\n",
       "    <tr style=\"text-align: right;\">\n",
       "      <th></th>\n",
       "      <th>score_bki</th>\n",
       "      <th>bki_request_cnt</th>\n",
       "      <th>region_rating</th>\n",
       "      <th>home_address</th>\n",
       "      <th>work_address</th>\n",
       "      <th>income</th>\n",
       "      <th>sna</th>\n",
       "      <th>first_time</th>\n",
       "      <th>foreign_passport</th>\n",
       "      <th>default</th>\n",
       "    </tr>\n",
       "  </thead>\n",
       "  <tbody>\n",
       "    <tr>\n",
       "      <th>0</th>\n",
       "      <td>-2.008753</td>\n",
       "      <td>1</td>\n",
       "      <td>50</td>\n",
       "      <td>1</td>\n",
       "      <td>2</td>\n",
       "      <td>18000</td>\n",
       "      <td>4</td>\n",
       "      <td>1</td>\n",
       "      <td>N</td>\n",
       "      <td>0</td>\n",
       "    </tr>\n",
       "    <tr>\n",
       "      <th>1</th>\n",
       "      <td>-1.532276</td>\n",
       "      <td>3</td>\n",
       "      <td>50</td>\n",
       "      <td>2</td>\n",
       "      <td>3</td>\n",
       "      <td>19000</td>\n",
       "      <td>4</td>\n",
       "      <td>1</td>\n",
       "      <td>N</td>\n",
       "      <td>0</td>\n",
       "    </tr>\n",
       "    <tr>\n",
       "      <th>2</th>\n",
       "      <td>-1.408142</td>\n",
       "      <td>1</td>\n",
       "      <td>80</td>\n",
       "      <td>1</td>\n",
       "      <td>2</td>\n",
       "      <td>30000</td>\n",
       "      <td>1</td>\n",
       "      <td>4</td>\n",
       "      <td>Y</td>\n",
       "      <td>0</td>\n",
       "    </tr>\n",
       "    <tr>\n",
       "      <th>3</th>\n",
       "      <td>-2.057471</td>\n",
       "      <td>2</td>\n",
       "      <td>50</td>\n",
       "      <td>2</td>\n",
       "      <td>3</td>\n",
       "      <td>10000</td>\n",
       "      <td>1</td>\n",
       "      <td>3</td>\n",
       "      <td>N</td>\n",
       "      <td>0</td>\n",
       "    </tr>\n",
       "    <tr>\n",
       "      <th>4</th>\n",
       "      <td>-1.244723</td>\n",
       "      <td>1</td>\n",
       "      <td>60</td>\n",
       "      <td>2</td>\n",
       "      <td>3</td>\n",
       "      <td>30000</td>\n",
       "      <td>1</td>\n",
       "      <td>4</td>\n",
       "      <td>Y</td>\n",
       "      <td>0</td>\n",
       "    </tr>\n",
       "    <tr>\n",
       "      <th>...</th>\n",
       "      <td>...</td>\n",
       "      <td>...</td>\n",
       "      <td>...</td>\n",
       "      <td>...</td>\n",
       "      <td>...</td>\n",
       "      <td>...</td>\n",
       "      <td>...</td>\n",
       "      <td>...</td>\n",
       "      <td>...</td>\n",
       "      <td>...</td>\n",
       "    </tr>\n",
       "    <tr>\n",
       "      <th>73794</th>\n",
       "      <td>-1.792064</td>\n",
       "      <td>3</td>\n",
       "      <td>50</td>\n",
       "      <td>1</td>\n",
       "      <td>2</td>\n",
       "      <td>17000</td>\n",
       "      <td>4</td>\n",
       "      <td>4</td>\n",
       "      <td>N</td>\n",
       "      <td>0</td>\n",
       "    </tr>\n",
       "    <tr>\n",
       "      <th>73795</th>\n",
       "      <td>-2.058029</td>\n",
       "      <td>1</td>\n",
       "      <td>50</td>\n",
       "      <td>2</td>\n",
       "      <td>2</td>\n",
       "      <td>70000</td>\n",
       "      <td>1</td>\n",
       "      <td>4</td>\n",
       "      <td>N</td>\n",
       "      <td>0</td>\n",
       "    </tr>\n",
       "    <tr>\n",
       "      <th>73796</th>\n",
       "      <td>-1.512635</td>\n",
       "      <td>4</td>\n",
       "      <td>80</td>\n",
       "      <td>2</td>\n",
       "      <td>3</td>\n",
       "      <td>45000</td>\n",
       "      <td>2</td>\n",
       "      <td>2</td>\n",
       "      <td>N</td>\n",
       "      <td>0</td>\n",
       "    </tr>\n",
       "    <tr>\n",
       "      <th>73797</th>\n",
       "      <td>-1.479334</td>\n",
       "      <td>3</td>\n",
       "      <td>50</td>\n",
       "      <td>1</td>\n",
       "      <td>3</td>\n",
       "      <td>13000</td>\n",
       "      <td>2</td>\n",
       "      <td>3</td>\n",
       "      <td>N</td>\n",
       "      <td>1</td>\n",
       "    </tr>\n",
       "    <tr>\n",
       "      <th>73798</th>\n",
       "      <td>-1.764711</td>\n",
       "      <td>2</td>\n",
       "      <td>50</td>\n",
       "      <td>2</td>\n",
       "      <td>3</td>\n",
       "      <td>25000</td>\n",
       "      <td>1</td>\n",
       "      <td>3</td>\n",
       "      <td>N</td>\n",
       "      <td>0</td>\n",
       "    </tr>\n",
       "  </tbody>\n",
       "</table>\n",
       "<p>73799 rows × 10 columns</p>\n",
       "</div>"
      ],
      "text/plain": [
       "       score_bki  bki_request_cnt  region_rating  home_address  work_address  \\\n",
       "0      -2.008753                1             50             1             2   \n",
       "1      -1.532276                3             50             2             3   \n",
       "2      -1.408142                1             80             1             2   \n",
       "3      -2.057471                2             50             2             3   \n",
       "4      -1.244723                1             60             2             3   \n",
       "...          ...              ...            ...           ...           ...   \n",
       "73794  -1.792064                3             50             1             2   \n",
       "73795  -2.058029                1             50             2             2   \n",
       "73796  -1.512635                4             80             2             3   \n",
       "73797  -1.479334                3             50             1             3   \n",
       "73798  -1.764711                2             50             2             3   \n",
       "\n",
       "       income  sna  first_time foreign_passport  default  \n",
       "0       18000    4           1                N        0  \n",
       "1       19000    4           1                N        0  \n",
       "2       30000    1           4                Y        0  \n",
       "3       10000    1           3                N        0  \n",
       "4       30000    1           4                Y        0  \n",
       "...       ...  ...         ...              ...      ...  \n",
       "73794   17000    4           4                N        0  \n",
       "73795   70000    1           4                N        0  \n",
       "73796   45000    2           2                N        0  \n",
       "73797   13000    2           3                N        1  \n",
       "73798   25000    1           3                N        0  \n",
       "\n",
       "[73799 rows x 10 columns]"
      ]
     },
     "metadata": {},
     "output_type": "display_data"
    }
   ],
   "source": [
    "dsp(df.iloc[:, :9])\n",
    "dsp(df.iloc[:, 9:])"
   ]
  },
  {
   "cell_type": "code",
   "execution_count": 6,
   "id": "b61be7e2",
   "metadata": {
    "scrolled": false
   },
   "outputs": [
    {
     "name": "stdout",
     "output_type": "stream",
     "text": [
      "-------------------------------------\n",
      "\u001b[94m\u001b[1mCLIENT_ID\u001b[0m (int64) \n",
      "\n",
      " \u001b[1mMax:\u001b[0m 110147 \u001b[1mMin:\u001b[0m 1 \n",
      " \u001b[1mMean:\u001b[0m 55137.97 \u001b[1mMedian:\u001b[0m 55274.0 \u001b[1mStd:\u001b[0m 31841.92\n",
      " \u001b[1mMore than 2 Modes!\u001b[0m\n",
      "            - - - - - - -            \n",
      "\u001b[1m 73799 Unique values\u001b[0m\n",
      "\u001b[1m 6 Unique value's length (in characters)\u001b[0m\n",
      "5    81.61\n",
      "6     9.28\n",
      "4     8.23\n",
      "3     0.78\n",
      "2     0.09\n",
      "1     0.01\n",
      "            - - - - - - -            \n",
      "\u001b[92m 100.0 % of Non-NaN and Non-Zero values\u001b[0m \n",
      "\n",
      "            - - - - - - -            \n",
      " Only values with letters: 0.0 %\n",
      " Only values with numbers: 100.0 %\n",
      " Only values with letters and numbers: 0.0 %\n",
      "-------------------------------------\n",
      "\n",
      "-------------------------------------\n",
      "\u001b[94m\u001b[1mAPP_DATE\u001b[0m (object) \n",
      "\n",
      " \u001b[1mMode:\u001b[0m 18-Mar-14\n",
      "            - - - - - - -            \n",
      "\u001b[1m 120 Unique values\u001b[0m\n",
      "\u001b[1m 1 Unique value's length (in characters)\u001b[0m\n",
      "9    100.0\n",
      "            - - - - - - -            \n",
      "\u001b[92m 100.0 % of Non-NaN and Non-Zero values\u001b[0m \n",
      "\n",
      "\u001b[91m Contains Duplicates values!\u001b[0m\n",
      "            - - - - - - -            \n",
      " Only values with letters: 0.0 %\n",
      " Only values with numbers: 0.0 %\n",
      " Only values with letters and numbers: 100.0 %\n",
      "-------------------------------------\n",
      "\n",
      "-------------------------------------\n",
      "\u001b[94m\u001b[1mEDUCATION\u001b[0m (object) \n",
      "\n",
      " \u001b[1mMode:\u001b[0m SCH\n",
      "            - - - - - - -            \n",
      "\u001b[1m 5 Unique values\u001b[0m\n",
      "SCH    52.88\n",
      "GRD    31.79\n",
      "UGR    13.36\n",
      "PGR     1.71\n",
      "ACD     0.26\n",
      "\u001b[1m 1 Unique value's length (in characters)\u001b[0m\n",
      "3    100.0\n",
      "            - - - - - - -            \n",
      "\u001b[91m\u001b[1m 0.416 % of NaN values\u001b[0m\n",
      "\u001b[92m 99.584 % of Non-NaN and Non-Zero values\u001b[0m \n",
      "\n",
      "\u001b[91m Contains Duplicates values!\u001b[0m\n",
      "            - - - - - - -            \n",
      " Only values with letters: 99.58 %\n",
      " Only values with numbers: 0.0 %\n",
      " Only values with letters and numbers: 0.0 %\n",
      "-------------------------------------\n",
      "\n",
      "-------------------------------------\n",
      "\u001b[94m\u001b[1mSEX\u001b[0m (object) \n",
      "\n",
      " \u001b[1mMode:\u001b[0m F\n",
      "            - - - - - - -            \n",
      "\u001b[1m 2 Unique values\u001b[0m\n",
      "F    56.32\n",
      "M    43.68\n",
      "\u001b[1m 1 Unique value's length (in characters)\u001b[0m\n",
      "1    100.0\n",
      "            - - - - - - -            \n",
      "\u001b[92m 100.0 % of Non-NaN and Non-Zero values\u001b[0m \n",
      "\n",
      "\u001b[91m Contains Duplicates values!\u001b[0m\n",
      "            - - - - - - -            \n",
      " Only values with letters: 100.0 %\n",
      " Only values with numbers: 0.0 %\n",
      " Only values with letters and numbers: 0.0 %\n",
      "-------------------------------------\n",
      "\n",
      "-------------------------------------\n",
      "\u001b[94m\u001b[1mAGE\u001b[0m (int64) \n",
      "\n",
      " \u001b[1mMax:\u001b[0m 72 \u001b[1mMin:\u001b[0m 21 \n",
      " \u001b[1mMean:\u001b[0m 39.28 \u001b[1mMedian:\u001b[0m 37.0 \u001b[1mStd:\u001b[0m 11.52\n",
      " \u001b[1mMode:\u001b[0m 31\n",
      "            - - - - - - -            \n",
      "\u001b[1m 52 Unique values\u001b[0m\n",
      "\u001b[1m 1 Unique value's length (in characters)\u001b[0m\n",
      "2    100.0\n",
      "            - - - - - - -            \n",
      "\u001b[92m 100.0 % of Non-NaN and Non-Zero values\u001b[0m \n",
      "\n",
      "\u001b[91m Contains Duplicates values!\u001b[0m\n",
      "            - - - - - - -            \n",
      " Only values with letters: 0.0 %\n",
      " Only values with numbers: 100.0 %\n",
      " Only values with letters and numbers: 0.0 %\n",
      "-------------------------------------\n",
      "\n",
      "-------------------------------------\n",
      "\u001b[94m\u001b[1mCAR\u001b[0m (object) \n",
      "\n",
      " \u001b[1mMode:\u001b[0m N\n",
      "            - - - - - - -            \n",
      "\u001b[1m 2 Unique values\u001b[0m\n",
      "N    67.52\n",
      "Y    32.48\n",
      "\u001b[1m 1 Unique value's length (in characters)\u001b[0m\n",
      "1    100.0\n",
      "            - - - - - - -            \n",
      "\u001b[92m 100.0 % of Non-NaN and Non-Zero values\u001b[0m \n",
      "\n",
      "\u001b[91m Contains Duplicates values!\u001b[0m\n",
      "            - - - - - - -            \n",
      " Only values with letters: 32.48 %\n",
      " Only values with numbers: 0.0 %\n",
      " Only values with letters and numbers: 0.0 %\n",
      "-------------------------------------\n",
      "\n",
      "-------------------------------------\n",
      "\u001b[94m\u001b[1mCAR_TYPE\u001b[0m (object) \n",
      "\n",
      " \u001b[1mMode:\u001b[0m N\n",
      "            - - - - - - -            \n",
      "\u001b[1m 2 Unique values\u001b[0m\n",
      "N    81.02\n",
      "Y    18.98\n",
      "\u001b[1m 1 Unique value's length (in characters)\u001b[0m\n",
      "1    100.0\n",
      "            - - - - - - -            \n",
      "\u001b[92m 100.0 % of Non-NaN and Non-Zero values\u001b[0m \n",
      "\n",
      "\u001b[91m Contains Duplicates values!\u001b[0m\n",
      "            - - - - - - -            \n",
      " Only values with letters: 18.98 %\n",
      " Only values with numbers: 0.0 %\n",
      " Only values with letters and numbers: 0.0 %\n",
      "-------------------------------------\n",
      "\n",
      "-------------------------------------\n",
      "\u001b[94m\u001b[1mDECLINE_APP_CNT\u001b[0m (int64) \n",
      "\n",
      " \u001b[1mMax:\u001b[0m 33 \u001b[1mMin:\u001b[0m 0 \n",
      " \u001b[1mMean:\u001b[0m 0.28 \u001b[1mMedian:\u001b[0m 0.0 \u001b[1mStd:\u001b[0m 0.8\n",
      " \u001b[1mMode:\u001b[0m 0\n",
      "            - - - - - - -            \n",
      "\u001b[1m 21 Unique values\u001b[0m\n",
      "\u001b[1m 2 Unique value's length (in characters)\u001b[0m\n",
      "1    99.95\n",
      "2     0.05\n",
      "            - - - - - - -            \n",
      "\u001b[91m\u001b[1m 82.947 % of Zero values\u001b[0m\n",
      "\u001b[92m 17.053 % of Non-NaN and Non-Zero values\u001b[0m \n",
      "\n",
      "\u001b[91m Contains Duplicates values!\u001b[0m\n",
      "            - - - - - - -            \n",
      " Only values with letters: 0.0 %\n",
      " Only values with numbers: 100.0 %\n",
      " Only values with letters and numbers: 0.0 %\n",
      "-------------------------------------\n",
      "\n",
      "-------------------------------------\n",
      "\u001b[94m\u001b[1mGOOD_WORK\u001b[0m (int64) \n",
      "\n",
      " \u001b[1mMax:\u001b[0m 1 \u001b[1mMin:\u001b[0m 0 \n",
      " \u001b[1mMean:\u001b[0m 0.16 \u001b[1mMedian:\u001b[0m 0.0 \u001b[1mStd:\u001b[0m 0.37\n",
      " \u001b[1mMode:\u001b[0m 0\n",
      "            - - - - - - -            \n",
      "\u001b[1m 2 Unique values\u001b[0m\n",
      "0    83.51\n",
      "1    16.49\n",
      "\u001b[1m 1 Unique value's length (in characters)\u001b[0m\n",
      "1    100.0\n",
      "            - - - - - - -            \n",
      "\u001b[91m\u001b[1m 83.511 % of Zero values\u001b[0m\n",
      "\u001b[92m 16.489 % of Non-NaN and Non-Zero values\u001b[0m \n",
      "\n",
      "\u001b[91m Contains Duplicates values!\u001b[0m\n",
      "            - - - - - - -            \n",
      " Only values with letters: 0.0 %\n",
      " Only values with numbers: 100.0 %\n",
      " Only values with letters and numbers: 0.0 %\n",
      "-------------------------------------\n",
      "\n",
      "-------------------------------------\n",
      "\u001b[94m\u001b[1mSCORE_BKI\u001b[0m (float64) \n",
      "\n",
      " \u001b[1mMax:\u001b[0m 0.19977285 \u001b[1mMin:\u001b[0m -3.62458632 \n",
      " \u001b[1mMean:\u001b[0m -1.9 \u001b[1mMedian:\u001b[0m -1.92 \u001b[1mStd:\u001b[0m 0.5\n",
      " \u001b[1mMode:\u001b[0m -1.775263\n",
      "            - - - - - - -            \n",
      "\u001b[1m 69096 Unique values\u001b[0m\n",
      "\u001b[1m 6 Unique value's length (in characters)\u001b[0m\n",
      "10    89.40\n",
      "9      9.60\n",
      "8      0.89\n",
      "7      0.09\n",
      "6      0.01\n",
      "5      0.00\n",
      "            - - - - - - -            \n",
      "\u001b[92m 100.0 % of Non-NaN and Non-Zero values\u001b[0m \n",
      "\n",
      "\u001b[91m Contains Duplicates values!\u001b[0m\n",
      "            - - - - - - -            \n",
      " Only values with letters: 0.0 %\n",
      " Only values with numbers: 100.0 %\n",
      " Only values with letters and numbers: 0.0 %\n",
      "-------------------------------------\n",
      "\n",
      "-------------------------------------\n",
      "\u001b[94m\u001b[1mBKI_REQUEST_CNT\u001b[0m (int64) \n",
      "\n",
      " \u001b[1mMax:\u001b[0m 53 \u001b[1mMin:\u001b[0m 0 \n",
      " \u001b[1mMean:\u001b[0m 2.0 \u001b[1mMedian:\u001b[0m 1.0 \u001b[1mStd:\u001b[0m 2.25\n",
      " \u001b[1mMode:\u001b[0m 0\n",
      "            - - - - - - -            \n",
      "\u001b[1m 38 Unique values\u001b[0m\n",
      "\u001b[1m 2 Unique value's length (in characters)\u001b[0m\n",
      "1    98.72\n",
      "2     1.28\n",
      "            - - - - - - -            \n",
      "\u001b[91m\u001b[1m 26.262 % of Zero values\u001b[0m\n",
      "\u001b[92m 73.738 % of Non-NaN and Non-Zero values\u001b[0m \n",
      "\n",
      "\u001b[91m Contains Duplicates values!\u001b[0m\n",
      "            - - - - - - -            \n",
      " Only values with letters: 0.0 %\n",
      " Only values with numbers: 100.0 %\n",
      " Only values with letters and numbers: 0.0 %\n",
      "-------------------------------------\n",
      "\n",
      "-------------------------------------\n",
      "\u001b[94m\u001b[1mREGION_RATING\u001b[0m (int64) \n",
      "\n",
      " \u001b[1mMax:\u001b[0m 80 \u001b[1mMin:\u001b[0m 20 \n",
      " \u001b[1mMean:\u001b[0m 56.73 \u001b[1mMedian:\u001b[0m 50.0 \u001b[1mStd:\u001b[0m 13.06\n",
      " \u001b[1mMode:\u001b[0m 50\n",
      "            - - - - - - -            \n",
      "\u001b[1m 7 Unique values\u001b[0m\n",
      "50    37.29\n",
      "60    21.78\n",
      "40    16.30\n",
      "80    15.54\n",
      "70     8.40\n",
      "30     0.41\n",
      "20     0.28\n",
      "\u001b[1m 1 Unique value's length (in characters)\u001b[0m\n",
      "2    100.0\n",
      "            - - - - - - -            \n",
      "\u001b[92m 100.0 % of Non-NaN and Non-Zero values\u001b[0m \n",
      "\n",
      "\u001b[91m Contains Duplicates values!\u001b[0m\n",
      "            - - - - - - -            \n",
      " Only values with letters: 0.0 %\n",
      " Only values with numbers: 100.0 %\n",
      " Only values with letters and numbers: 0.0 %\n",
      "-------------------------------------\n",
      "\n",
      "-------------------------------------\n",
      "\u001b[94m\u001b[1mHOME_ADDRESS\u001b[0m (int64) \n",
      "\n",
      " \u001b[1mMax:\u001b[0m 3 \u001b[1mMin:\u001b[0m 1 \n",
      " \u001b[1mMean:\u001b[0m 1.58 \u001b[1mMedian:\u001b[0m 2.0 \u001b[1mStd:\u001b[0m 0.53\n",
      " \u001b[1mMode:\u001b[0m 2\n",
      "            - - - - - - -            \n",
      "\u001b[1m 3 Unique values\u001b[0m\n",
      "2    54.14\n",
      "1    44.15\n",
      "3     1.70\n",
      "\u001b[1m 1 Unique value's length (in characters)\u001b[0m\n",
      "1    100.0\n",
      "            - - - - - - -            \n",
      "\u001b[92m 100.0 % of Non-NaN and Non-Zero values\u001b[0m \n",
      "\n",
      "\u001b[91m Contains Duplicates values!\u001b[0m\n",
      "            - - - - - - -            \n",
      " Only values with letters: 0.0 %\n",
      " Only values with numbers: 100.0 %\n",
      " Only values with letters and numbers: 0.0 %\n",
      "-------------------------------------\n",
      "\n",
      "-------------------------------------\n",
      "\u001b[94m\u001b[1mWORK_ADDRESS\u001b[0m (int64) \n",
      "\n",
      " \u001b[1mMax:\u001b[0m 3 \u001b[1mMin:\u001b[0m 1 \n",
      " \u001b[1mMean:\u001b[0m 2.5 \u001b[1mMedian:\u001b[0m 3.0 \u001b[1mStd:\u001b[0m 0.69\n",
      " \u001b[1mMode:\u001b[0m 3\n",
      "            - - - - - - -            \n",
      "\u001b[1m 3 Unique values\u001b[0m\n",
      "3    60.92\n",
      "2    27.79\n",
      "1    11.29\n",
      "\u001b[1m 1 Unique value's length (in characters)\u001b[0m\n",
      "1    100.0\n",
      "            - - - - - - -            \n"
     ]
    },
    {
     "name": "stdout",
     "output_type": "stream",
     "text": [
      "\u001b[92m 100.0 % of Non-NaN and Non-Zero values\u001b[0m \n",
      "\n",
      "\u001b[91m Contains Duplicates values!\u001b[0m\n",
      "            - - - - - - -            \n",
      " Only values with letters: 0.0 %\n",
      " Only values with numbers: 100.0 %\n",
      " Only values with letters and numbers: 0.0 %\n",
      "-------------------------------------\n",
      "\n",
      "-------------------------------------\n",
      "\u001b[94m\u001b[1mINCOME\u001b[0m (int64) \n",
      "\n",
      " \u001b[1mMax:\u001b[0m 1000000 \u001b[1mMin:\u001b[0m 1000 \n",
      " \u001b[1mMean:\u001b[0m 41099.78 \u001b[1mMedian:\u001b[0m 30000.0 \u001b[1mStd:\u001b[0m 46166.32\n",
      " \u001b[1mMode:\u001b[0m 30000\n",
      "            - - - - - - -            \n",
      "\u001b[1m 966 Unique values\u001b[0m\n",
      "\u001b[1m 4 Unique value's length (in characters)\u001b[0m\n",
      "5    90.20\n",
      "6     6.11\n",
      "4     3.67\n",
      "7     0.01\n",
      "            - - - - - - -            \n",
      "\u001b[92m 100.0 % of Non-NaN and Non-Zero values\u001b[0m \n",
      "\n",
      "\u001b[91m Contains Duplicates values!\u001b[0m\n",
      "            - - - - - - -            \n",
      " Only values with letters: 0.0 %\n",
      " Only values with numbers: 100.0 %\n",
      " Only values with letters and numbers: 0.0 %\n",
      "-------------------------------------\n",
      "\n",
      "-------------------------------------\n",
      "\u001b[94m\u001b[1mSNA\u001b[0m (int64) \n",
      "\n",
      " \u001b[1mMax:\u001b[0m 4 \u001b[1mMin:\u001b[0m 1 \n",
      " \u001b[1mMean:\u001b[0m 1.73 \u001b[1mMedian:\u001b[0m 1.0 \u001b[1mStd:\u001b[0m 1.12\n",
      " \u001b[1mMode:\u001b[0m 1\n",
      "            - - - - - - -            \n",
      "\u001b[1m 4 Unique values\u001b[0m\n",
      "1    64.09\n",
      "4    15.92\n",
      "2    14.40\n",
      "3     5.59\n",
      "\u001b[1m 1 Unique value's length (in characters)\u001b[0m\n",
      "1    100.0\n",
      "            - - - - - - -            \n",
      "\u001b[92m 100.0 % of Non-NaN and Non-Zero values\u001b[0m \n",
      "\n",
      "\u001b[91m Contains Duplicates values!\u001b[0m\n",
      "            - - - - - - -            \n",
      " Only values with letters: 0.0 %\n",
      " Only values with numbers: 100.0 %\n",
      " Only values with letters and numbers: 0.0 %\n",
      "-------------------------------------\n",
      "\n",
      "-------------------------------------\n",
      "\u001b[94m\u001b[1mFIRST_TIME\u001b[0m (int64) \n",
      "\n",
      " \u001b[1mMax:\u001b[0m 4 \u001b[1mMin:\u001b[0m 1 \n",
      " \u001b[1mMean:\u001b[0m 2.77 \u001b[1mMedian:\u001b[0m 3.0 \u001b[1mStd:\u001b[0m 1.01\n",
      " \u001b[1mMode:\u001b[0m 3\n",
      "            - - - - - - -            \n",
      "\u001b[1m 4 Unique values\u001b[0m\n",
      "3    42.35\n",
      "4    25.39\n",
      "1    16.58\n",
      "2    15.68\n",
      "\u001b[1m 1 Unique value's length (in characters)\u001b[0m\n",
      "1    100.0\n",
      "            - - - - - - -            \n",
      "\u001b[92m 100.0 % of Non-NaN and Non-Zero values\u001b[0m \n",
      "\n",
      "\u001b[91m Contains Duplicates values!\u001b[0m\n",
      "            - - - - - - -            \n",
      " Only values with letters: 0.0 %\n",
      " Only values with numbers: 100.0 %\n",
      " Only values with letters and numbers: 0.0 %\n",
      "-------------------------------------\n",
      "\n",
      "-------------------------------------\n",
      "\u001b[94m\u001b[1mFOREIGN_PASSPORT\u001b[0m (object) \n",
      "\n",
      " \u001b[1mMode:\u001b[0m N\n",
      "            - - - - - - -            \n",
      "\u001b[1m 2 Unique values\u001b[0m\n",
      "N    85.01\n",
      "Y    14.99\n",
      "\u001b[1m 1 Unique value's length (in characters)\u001b[0m\n",
      "1    100.0\n",
      "            - - - - - - -            \n",
      "\u001b[92m 100.0 % of Non-NaN and Non-Zero values\u001b[0m \n",
      "\n",
      "\u001b[91m Contains Duplicates values!\u001b[0m\n",
      "            - - - - - - -            \n",
      " Only values with letters: 14.99 %\n",
      " Only values with numbers: 0.0 %\n",
      " Only values with letters and numbers: 0.0 %\n",
      "-------------------------------------\n",
      "\n",
      "-------------------------------------\n",
      "\u001b[94m\u001b[1mDEFAULT\u001b[0m (int64) \n",
      "\n",
      " \u001b[1mMax:\u001b[0m 1 \u001b[1mMin:\u001b[0m 0 \n",
      " \u001b[1mMean:\u001b[0m 0.13 \u001b[1mMedian:\u001b[0m 0.0 \u001b[1mStd:\u001b[0m 0.33\n",
      " \u001b[1mMode:\u001b[0m 0\n",
      "            - - - - - - -            \n",
      "\u001b[1m 2 Unique values\u001b[0m\n",
      "0    87.3\n",
      "1    12.7\n",
      "\u001b[1m 1 Unique value's length (in characters)\u001b[0m\n",
      "1    100.0\n",
      "            - - - - - - -            \n",
      "\u001b[91m\u001b[1m 87.301 % of Zero values\u001b[0m\n",
      "\u001b[92m 12.699 % of Non-NaN and Non-Zero values\u001b[0m \n",
      "\n",
      "\u001b[91m Contains Duplicates values!\u001b[0m\n",
      "            - - - - - - -            \n",
      " Only values with letters: 0.0 %\n",
      " Only values with numbers: 100.0 %\n",
      " Only values with letters and numbers: 0.0 %\n",
      "-------------------------------------\n",
      "\n"
     ]
    }
   ],
   "source": [
    "overview(df)"
   ]
  },
  {
   "cell_type": "markdown",
   "id": "a04c0693",
   "metadata": {},
   "source": [
    "<h3> Making some quick, small adjustments to the data"
   ]
  },
  {
   "cell_type": "code",
   "execution_count": 7,
   "id": "ce52408a",
   "metadata": {},
   "outputs": [],
   "source": [
    "# Replacing missing values with a mode\n",
    "ed_mode = df.education.mode()[0]\n",
    "df.education = df.education.fillna(ed_mode)"
   ]
  },
  {
   "cell_type": "code",
   "execution_count": 8,
   "id": "649981d3",
   "metadata": {},
   "outputs": [],
   "source": [
    "# Changing the type of the columns\n",
    "df[['home_address', 'work_address']] = df[['home_address', 'work_address']].astype(object)"
   ]
  },
  {
   "cell_type": "markdown",
   "id": "5d79ccd8",
   "metadata": {},
   "source": [
    "* [Return to the Table of Contents](#main-bullet)"
   ]
  },
  {
   "cell_type": "markdown",
   "id": "304cc9d4",
   "metadata": {},
   "source": [
    "<h1> <div style = \"text-align: center\"> <font color = \"brown\"> 4. Exploratory data analysis </font> </div>  <a class=\"anchor\" id=\"fourth-bullet\"></a>"
   ]
  },
  {
   "cell_type": "markdown",
   "id": "c8ea160d",
   "metadata": {},
   "source": [
    "<h2> Hypothesis:"
   ]
  },
  {
   "cell_type": "markdown",
   "id": "b98dc164",
   "metadata": {},
   "source": [
    "* The age of 'good' borrowers vs 'bad' (The older the borrower, the less the chance of him/her being defaulted)\n",
    "* The level of education has an influence on whether the borrower is 'good' or 'bad', with more educated borrowers having less chance of being defaulted vs less educated.\n",
    "* With <b> good_work = 0 </b> the risk of <b> defaulted = 1 </b> increases.\n",
    "* The <b> income </b> of 'good' borrowers is higher than 'bad' borrowers.\n",
    "* <b> score_bki </b> is directly correlated with default, the less it is, the higher is the chance of a client to pay his loan back."
   ]
  },
  {
   "cell_type": "markdown",
   "id": "94b8903a",
   "metadata": {},
   "source": [
    "<h2> Target"
   ]
  },
  {
   "cell_type": "code",
   "execution_count": 9,
   "id": "a422ce94",
   "metadata": {},
   "outputs": [
    {
     "data": {
      "image/png": "[encoded data removed]",
      "text/plain": [
       "<Figure size 1080x504 with 1 Axes>"
      ]
     },
     "metadata": {
      "needs_background": "light"
     },
     "output_type": "display_data"
    },
    {
     "name": "stdout",
     "output_type": "stream",
     "text": [
      "We have the disbalance of classes in this dataset, when building a model, we need to take it into the account.\n"
     ]
    }
   ],
   "source": [
    "norm_target = (df\n",
    "               .default\n",
    "               .value_counts(normalize=True)\n",
    "               .mul(100)\n",
    "               .rename('percent')\n",
    "               .reset_index())\n",
    "\n",
    "plt.figure(figsize=(15, 7))\n",
    "ax = sns.barplot(x='index', y='percent', data=norm_target)\n",
    "\n",
    "for p in ax.patches:\n",
    "    percentage = '{:.1f}%'.format(p.get_height())\n",
    "    ax.annotate(percentage,  \n",
    "                (p.get_x() + p.get_width() / 2., p.get_height()),  # координата xy\n",
    "                ha='center', \n",
    "                va='center',\n",
    "                xytext=(0, 10),\n",
    "                textcoords='offset points',\n",
    "                fontsize=14)\n",
    "\n",
    "plt.title('Distribution of Default', y = 1.01, fontsize=20)\n",
    "\n",
    "plt.xlabel('Default', fontsize=14)\n",
    "plt.ylabel('Percentage', fontsize=14)\n",
    "\n",
    "plt.xticks(fontsize=14)\n",
    "plt.yticks(fontsize=14);\n",
    "\n",
    "plt.show()\n",
    "print(\"We have the disbalance of classes in this dataset, when building a model, we need to take it into the account.\")"
   ]
  },
  {
   "cell_type": "markdown",
   "id": "874d656a",
   "metadata": {},
   "source": [
    "<h2> Age"
   ]
  },
  {
   "cell_type": "code",
   "execution_count": 10,
   "id": "ecb9d6ed",
   "metadata": {},
   "outputs": [
    {
     "data": {
      "image/png": "[encoded data removed]",
      "text/plain": [
       "<Figure size 1080x864 with 3 Axes>"
      ]
     },
     "metadata": {
      "needs_background": "light"
     },
     "output_type": "display_data"
    }
   ],
   "source": [
    "plot_density_overview(df[\"age\"])"
   ]
  },
  {
   "cell_type": "code",
   "execution_count": 11,
   "id": "9e7ccdbe",
   "metadata": {},
   "outputs": [
    {
     "data": {
      "image/png": "[encoded data removed]",
      "text/plain": [
       "<Figure size 1200x640 with 2 Axes>"
      ]
     },
     "metadata": {
      "needs_background": "light"
     },
     "output_type": "display_data"
    }
   ],
   "source": [
    "plot_hist_bins_overview(df[\"age\"])"
   ]
  },
  {
   "cell_type": "code",
   "execution_count": 12,
   "id": "c5e8dba8",
   "metadata": {},
   "outputs": [
    {
     "data": {
      "image/png": "[encoded data removed]",
      "text/plain": [
       "<Figure size 440.875x360 with 1 Axes>"
      ]
     },
     "metadata": {
      "needs_background": "light"
     },
     "output_type": "display_data"
    }
   ],
   "source": [
    "sns.displot(\n",
    "    {\n",
    "        \"default 0\": df[df.default == 0].age,\n",
    "        \"default 1\": df[df.default == 1].age\n",
    "    },\n",
    "    kind=\"kde\",\n",
    "    common_norm=False\n",
    ")\n",
    "\n",
    "plt.title('Age', fontsize=20)\n",
    "plt.xlabel('Age', fontsize=14)\n",
    "plt.ylabel('Dentsity', fontsize=14)\n",
    "\n",
    "plt.xticks(fontsize=14)\n",
    "plt.yticks(fontsize=14);"
   ]
  },
  {
   "cell_type": "code",
   "execution_count": 13,
   "id": "cf142aab",
   "metadata": {},
   "outputs": [
    {
     "data": {
      "text/html": [
       "<div>\n",
       "<style scoped>\n",
       "    .dataframe tbody tr th:only-of-type {\n",
       "        vertical-align: middle;\n",
       "    }\n",
       "\n",
       "    .dataframe tbody tr th {\n",
       "        vertical-align: top;\n",
       "    }\n",
       "\n",
       "    .dataframe thead th {\n",
       "        text-align: right;\n",
       "    }\n",
       "</style>\n",
       "<table border=\"1\" class=\"dataframe\">\n",
       "  <thead>\n",
       "    <tr style=\"text-align: right;\">\n",
       "      <th></th>\n",
       "      <th>default</th>\n",
       "      <th>mean_age</th>\n",
       "      <th>median_age</th>\n",
       "      <th>mode_age</th>\n",
       "    </tr>\n",
       "  </thead>\n",
       "  <tbody>\n",
       "    <tr>\n",
       "      <th>0</th>\n",
       "      <td>0</td>\n",
       "      <td>39.4</td>\n",
       "      <td>38</td>\n",
       "      <td>31</td>\n",
       "    </tr>\n",
       "    <tr>\n",
       "      <th>1</th>\n",
       "      <td>1</td>\n",
       "      <td>38.5</td>\n",
       "      <td>36</td>\n",
       "      <td>26</td>\n",
       "    </tr>\n",
       "  </tbody>\n",
       "</table>\n",
       "</div>"
      ],
      "text/plain": [
       "   default  mean_age  median_age  mode_age\n",
       "0        0      39.4          38        31\n",
       "1        1      38.5          36        26"
      ]
     },
     "execution_count": 13,
     "metadata": {},
     "output_type": "execute_result"
    }
   ],
   "source": [
    "proxy = df.groupby('default').agg({\"age\": [\"mean\", \"median\", lambda x: x.value_counts().index[0]]}).reset_index()\n",
    "proxy.columns = [\"default\", \"mean_age\", \"median_age\", \"mode_age\"]\n",
    "proxy.round(1)"
   ]
  },
  {
   "cell_type": "markdown",
   "id": "5e17b878",
   "metadata": {},
   "source": [
    "There is a difference between the age of borrowers in accordance to default status,our previous hypothesis has been confirmed."
   ]
  },
  {
   "cell_type": "markdown",
   "id": "b0db6589",
   "metadata": {},
   "source": [
    "<h2> Education"
   ]
  },
  {
   "cell_type": "code",
   "execution_count": 14,
   "id": "29017362",
   "metadata": {},
   "outputs": [
    {
     "data": {
      "image/png": "[encoded data removed]",
      "text/plain": [
       "<Figure size 471.125x360 with 1 Axes>"
      ]
     },
     "metadata": {
      "needs_background": "light"
     },
     "output_type": "display_data"
    }
   ],
   "source": [
    "sns.displot(\n",
    "    {\n",
    "        \"education SCH\": df[df.education == 'SCH'].age,\n",
    "        \"education GRD\": df[df.education == 'GRD'].age,\n",
    "        \"education UGR\": df[df.education == 'UGR'].age,\n",
    "        \"education PGR\": df[df.education == 'PGR'].age,\n",
    "        \"education ACD\": df[df.education == 'ACD'].age,\n",
    "    },\n",
    "    kind=\"kde\",\n",
    "    common_norm=False\n",
    ")\n",
    "\n",
    "plt.title('Age-Education', fontsize=20)\n",
    "plt.xlabel('Age', fontsize=14)\n",
    "plt.ylabel('Dentsity', fontsize=14)\n",
    "\n",
    "plt.xticks(fontsize=14)\n",
    "plt.yticks(fontsize=14);"
   ]
  },
  {
   "cell_type": "markdown",
   "id": "0b5a48f8",
   "metadata": {},
   "source": [
    "If we take ACD education, it is leaned towards right, which is self-explanotary in itself. UGR education is leaned towards left, which implies that the population there is the youngest one, which could lead us to assume that they should be the 'bad' borrowers, based on the previous graph."
   ]
  },
  {
   "cell_type": "code",
   "execution_count": 15,
   "id": "4389811e",
   "metadata": {},
   "outputs": [
    {
     "data": {
      "image/png": "[encoded data removed]",
      "text/plain": [
       "<Figure size 1080x504 with 1 Axes>"
      ]
     },
     "metadata": {
      "needs_background": "light"
     },
     "output_type": "display_data"
    }
   ],
   "source": [
    "plt.figure(figsize=(15, 7))\n",
    "\n",
    "sns.boxplot(x='education', y='age', data=df)\n",
    "\n",
    "plt.title('Age-Education', fontsize=20)\n",
    "plt.ylabel('Age', fontsize=14)\n",
    "plt.xlabel('Education', fontsize=14)\n",
    "\n",
    "plt.xticks(fontsize=14)\n",
    "plt.yticks(fontsize=14);"
   ]
  },
  {
   "cell_type": "code",
   "execution_count": 16,
   "id": "677b0c89",
   "metadata": {},
   "outputs": [
    {
     "data": {
      "image/png": "[encoded data removed]",
      "text/plain": [
       "<Figure size 1080x504 with 1 Axes>"
      ]
     },
     "metadata": {
      "needs_background": "light"
     },
     "output_type": "display_data"
    }
   ],
   "source": [
    "plt.figure(figsize=(15, 7))\n",
    "\n",
    "sns.boxplot(x='education', y='age', hue='default', data=df)\n",
    "\n",
    "plt.title('Age-Education-Default', fontsize=20)\n",
    "plt.ylabel('Age', fontsize=14)\n",
    "plt.xlabel('Education', fontsize=14)\n",
    "\n",
    "plt.xticks(fontsize=14)\n",
    "plt.yticks(fontsize=14);"
   ]
  },
  {
   "cell_type": "markdown",
   "id": "cb152b53",
   "metadata": {},
   "source": [
    "Interesting, that if we take the level of education PGR and ACD, the mean age of 'bad' borrowers is higher, than the 'good' ones, but the dispersion in both cases is high. Perhaps, if we take some age interval of 30 to 50 years old, within this group, the influence would not really be significant on the ability to pay back."
   ]
  },
  {
   "cell_type": "code",
   "execution_count": 17,
   "id": "3c16d0f8",
   "metadata": {},
   "outputs": [
    {
     "data": {
      "image/png": "[encoded data removed]",
      "text/plain": [
       "<Figure size 1080x504 with 1 Axes>"
      ]
     },
     "metadata": {
      "needs_background": "light"
     },
     "output_type": "display_data"
    }
   ],
   "source": [
    "plt.figure(figsize=(15, 7))\n",
    "\n",
    "educ_def = (df.groupby(['default'])['education']\n",
    "            .value_counts(normalize=True)\n",
    "            .rename('percentage')\n",
    "            .mul(100)\n",
    "            .reset_index()\n",
    "            .sort_values('education'))\n",
    "\n",
    "ax = sns.barplot(x=\"education\", y=\"percentage\", hue=\"default\", data=educ_def)\n",
    "\n",
    "for p in ax.patches:\n",
    "    percentage = '{:.1f}%'.format(p.get_height())\n",
    "    ax.annotate(percentage,  # текст\n",
    "                (p.get_x() + p.get_width() / 2., p.get_height()),  # координата xy\n",
    "                ha='center',  # центрирование\n",
    "                va='center',\n",
    "                xytext=(0, 10),\n",
    "                textcoords='offset points',  # точка смещения относительно координаты\n",
    "                fontsize=14)\n",
    "\n",
    "plt.title('Education-Default', fontsize=20)\n",
    "plt.ylabel('Count', fontsize=14)\n",
    "plt.xlabel('default', fontsize=14)\n",
    "\n",
    "plt.xticks(fontsize=14)\n",
    "plt.yticks(fontsize=14);"
   ]
  },
  {
   "cell_type": "markdown",
   "id": "63de579f",
   "metadata": {},
   "source": [
    "We observe, that the percentage of 'bad' borrowers is higher with the SCH education, for UGR the difference is insignificant. Most likely, in this case, the influence is not caused by the age, but by the education. Also, could be noticed, that GRD is more stable when it comes to paying the loan back."
   ]
  },
  {
   "cell_type": "code",
   "execution_count": 18,
   "id": "91d9a604",
   "metadata": {},
   "outputs": [
    {
     "data": {
      "text/html": [
       "<div>\n",
       "<style scoped>\n",
       "    .dataframe tbody tr th:only-of-type {\n",
       "        vertical-align: middle;\n",
       "    }\n",
       "\n",
       "    .dataframe tbody tr th {\n",
       "        vertical-align: top;\n",
       "    }\n",
       "\n",
       "    .dataframe thead th {\n",
       "        text-align: right;\n",
       "    }\n",
       "</style>\n",
       "<table border=\"1\" class=\"dataframe\">\n",
       "  <thead>\n",
       "    <tr style=\"text-align: right;\">\n",
       "      <th></th>\n",
       "      <th>education</th>\n",
       "      <th>mean_education</th>\n",
       "      <th>median_education</th>\n",
       "      <th>mode_education</th>\n",
       "    </tr>\n",
       "  </thead>\n",
       "  <tbody>\n",
       "    <tr>\n",
       "      <th>0</th>\n",
       "      <td>ACD</td>\n",
       "      <td>40.1</td>\n",
       "      <td>38</td>\n",
       "      <td>36</td>\n",
       "    </tr>\n",
       "    <tr>\n",
       "      <th>1</th>\n",
       "      <td>GRD</td>\n",
       "      <td>38.1</td>\n",
       "      <td>35</td>\n",
       "      <td>28</td>\n",
       "    </tr>\n",
       "    <tr>\n",
       "      <th>2</th>\n",
       "      <td>PGR</td>\n",
       "      <td>38.3</td>\n",
       "      <td>36</td>\n",
       "      <td>28</td>\n",
       "    </tr>\n",
       "    <tr>\n",
       "      <th>3</th>\n",
       "      <td>SCH</td>\n",
       "      <td>41.1</td>\n",
       "      <td>40</td>\n",
       "      <td>42</td>\n",
       "    </tr>\n",
       "    <tr>\n",
       "      <th>4</th>\n",
       "      <td>UGR</td>\n",
       "      <td>34.9</td>\n",
       "      <td>32</td>\n",
       "      <td>27</td>\n",
       "    </tr>\n",
       "  </tbody>\n",
       "</table>\n",
       "</div>"
      ],
      "text/plain": [
       "  education  mean_education  median_education  mode_education\n",
       "0       ACD            40.1                38              36\n",
       "1       GRD            38.1                35              28\n",
       "2       PGR            38.3                36              28\n",
       "3       SCH            41.1                40              42\n",
       "4       UGR            34.9                32              27"
      ]
     },
     "execution_count": 18,
     "metadata": {},
     "output_type": "execute_result"
    }
   ],
   "source": [
    "proxy = df.groupby('education').agg({\"age\": [\"mean\", \"median\", lambda x: x.value_counts().index[0]]}).reset_index()\n",
    "proxy.columns = [\"education\", \"mean_education\", \"median_education\", \"mode_education\"]\n",
    "proxy.round(1)"
   ]
  },
  {
   "cell_type": "markdown",
   "id": "6c849768",
   "metadata": {},
   "source": [
    "<h2> Correlation"
   ]
  },
  {
   "cell_type": "code",
   "execution_count": 19,
   "id": "700f1a98",
   "metadata": {},
   "outputs": [
    {
     "data": {
      "image/png": "[encoded data removed]",
      "text/plain": [
       "<Figure size 720x576 with 2 Axes>"
      ]
     },
     "metadata": {
      "needs_background": "light"
     },
     "output_type": "display_data"
    }
   ],
   "source": [
    "num_cols = ['age', 'decline_app_cnt', 'good_work', 'bki_request_cnt',\n",
    "       'region_rating', 'income', 'sna', 'first_time', 'score_bki']\n",
    "\n",
    "plt.figure(figsize=(10, 8))\n",
    "\n",
    "sns.heatmap(df[num_cols].corr(method='spearman'), annot=True, fmt=\".1f\");"
   ]
  },
  {
   "cell_type": "markdown",
   "id": "03a8bdcf",
   "metadata": {},
   "source": [
    "<h2> Income"
   ]
  },
  {
   "cell_type": "code",
   "execution_count": 20,
   "id": "7e4e286d",
   "metadata": {},
   "outputs": [
    {
     "data": {
      "image/png": "[encoded data removed]",
      "text/plain": [
       "<Figure size 1080x864 with 3 Axes>"
      ]
     },
     "metadata": {
      "needs_background": "light"
     },
     "output_type": "display_data"
    }
   ],
   "source": [
    "plot_density_overview(df[\"income\"])"
   ]
  },
  {
   "cell_type": "code",
   "execution_count": 21,
   "id": "6afe4c61",
   "metadata": {},
   "outputs": [
    {
     "data": {
      "image/png": "[encoded data removed]",
      "text/plain": [
       "<Figure size 403.375x360 with 1 Axes>"
      ]
     },
     "metadata": {
      "needs_background": "light"
     },
     "output_type": "display_data"
    }
   ],
   "source": [
    "sns.displot(df, x='income', hue='default', kind=\"kde\", common_norm=False)\n",
    "\n",
    "plt.xlabel('Income', fontsize=14)\n",
    "plt.ylabel('Dentsity', fontsize=14)\n",
    "\n",
    "plt.xticks(fontsize=14)\n",
    "plt.yticks(fontsize=14);"
   ]
  },
  {
   "cell_type": "code",
   "execution_count": 22,
   "id": "7e4721b8",
   "metadata": {},
   "outputs": [
    {
     "data": {
      "image/png": "[encoded data removed]",
      "text/plain": [
       "<Figure size 1080x432 with 1 Axes>"
      ]
     },
     "metadata": {
      "needs_background": "light"
     },
     "output_type": "display_data"
    }
   ],
   "source": [
    "plt.figure(figsize=(15, 6))\n",
    "\n",
    "sns.boxplot(x='default', y='income', data=df)\n",
    "\n",
    "plt.ylabel('Income', fontsize=14)\n",
    "plt.xlabel('Default', fontsize=14)\n",
    "\n",
    "plt.xticks(fontsize=14)\n",
    "plt.yticks(fontsize=14);"
   ]
  },
  {
   "cell_type": "code",
   "execution_count": 23,
   "id": "01653433",
   "metadata": {},
   "outputs": [
    {
     "data": {
      "text/html": [
       "<div>\n",
       "<style scoped>\n",
       "    .dataframe tbody tr th:only-of-type {\n",
       "        vertical-align: middle;\n",
       "    }\n",
       "\n",
       "    .dataframe tbody tr th {\n",
       "        vertical-align: top;\n",
       "    }\n",
       "\n",
       "    .dataframe thead th {\n",
       "        text-align: right;\n",
       "    }\n",
       "</style>\n",
       "<table border=\"1\" class=\"dataframe\">\n",
       "  <thead>\n",
       "    <tr style=\"text-align: right;\">\n",
       "      <th></th>\n",
       "      <th>default</th>\n",
       "      <th>mean_income</th>\n",
       "      <th>median_income</th>\n",
       "      <th>mode_income</th>\n",
       "    </tr>\n",
       "  </thead>\n",
       "  <tbody>\n",
       "    <tr>\n",
       "      <th>0</th>\n",
       "      <td>0</td>\n",
       "      <td>41799.7</td>\n",
       "      <td>30000</td>\n",
       "      <td>30000</td>\n",
       "    </tr>\n",
       "    <tr>\n",
       "      <th>1</th>\n",
       "      <td>1</td>\n",
       "      <td>36288.1</td>\n",
       "      <td>28000</td>\n",
       "      <td>30000</td>\n",
       "    </tr>\n",
       "  </tbody>\n",
       "</table>\n",
       "</div>"
      ],
      "text/plain": [
       "   default  mean_income  median_income  mode_income\n",
       "0        0      41799.7          30000        30000\n",
       "1        1      36288.1          28000        30000"
      ]
     },
     "execution_count": 23,
     "metadata": {},
     "output_type": "execute_result"
    }
   ],
   "source": [
    "proxy = df.groupby('default').agg({\"income\": [\"mean\", \"median\", lambda x: x.value_counts().index[0]]}).reset_index()\n",
    "proxy.columns = [\"default\", \"mean_income\", \"median_income\", \"mode_income\"]\n",
    "proxy.round(1)"
   ]
  },
  {
   "cell_type": "code",
   "execution_count": 24,
   "id": "3ae8b7d9",
   "metadata": {},
   "outputs": [],
   "source": [
    "df_income = df.copy()\n",
    "df_income.income = np.log(df.income+1)"
   ]
  },
  {
   "cell_type": "code",
   "execution_count": 25,
   "id": "b2a488cd",
   "metadata": {},
   "outputs": [
    {
     "data": {
      "image/png": "[encoded data removed]",
      "text/plain": [
       "<Figure size 471.125x360 with 1 Axes>"
      ]
     },
     "metadata": {
      "needs_background": "light"
     },
     "output_type": "display_data"
    }
   ],
   "source": [
    "sns.displot(\n",
    "    {\n",
    "        \"education SCH\": df_income[df_income.education == 'SCH'].income,\n",
    "        \"education GRD\": df_income[df_income.education == 'GRD'].income,\n",
    "        \"education UGR\": df_income[df_income.education == 'UGR'].income,\n",
    "        \"education PGR\": df_income[df_income.education == 'PGR'].income,\n",
    "        \"education ACD\": df_income[df_income.education == 'ACD'].income,\n",
    "    },\n",
    "    kind=\"kde\",\n",
    "    common_norm=False\n",
    ")\n",
    "\n",
    "plt.title('Income-Education', fontsize=20)\n",
    "plt.xlabel('Income', fontsize=14)\n",
    "plt.ylabel('Dentsity', fontsize=14)\n",
    "\n",
    "plt.xticks(fontsize=14)\n",
    "plt.yticks(fontsize=14);"
   ]
  },
  {
   "cell_type": "markdown",
   "id": "bd36c9e8",
   "metadata": {},
   "source": [
    "The graph above shows; with regard to the education, what kind of income is distributed within each group."
   ]
  },
  {
   "cell_type": "markdown",
   "id": "580fc41c",
   "metadata": {},
   "source": [
    "* [Return to the Table of Contents](#main-bullet)"
   ]
  },
  {
   "cell_type": "markdown",
   "id": "d7a83e7f",
   "metadata": {},
   "source": [
    "<h1> <div style = \"text-align: center\"> <font color = \"brown\"> 5. Feature engineering </font> </div> <a class=\"anchor\" id=\"fifth-bullet\"></a>"
   ]
  },
  {
   "cell_type": "code",
   "execution_count": 26,
   "id": "4326ef7b",
   "metadata": {},
   "outputs": [
    {
     "data": {
      "text/plain": [
       "Index(['client_id', 'app_date', 'education', 'sex', 'age', 'car', 'car_type',\n",
       "       'decline_app_cnt', 'good_work', 'score_bki', 'bki_request_cnt',\n",
       "       'region_rating', 'home_address', 'work_address', 'income', 'sna',\n",
       "       'first_time', 'foreign_passport', 'default'],\n",
       "      dtype='object')"
      ]
     },
     "execution_count": 26,
     "metadata": {},
     "output_type": "execute_result"
    }
   ],
   "source": [
    "df.columns"
   ]
  },
  {
   "cell_type": "code",
   "execution_count": 27,
   "id": "e34455bc",
   "metadata": {},
   "outputs": [],
   "source": [
    "num_cols = ['age', 'decline_app_cnt', 'score_bki',\n",
    "            'bki_request_cnt', 'income', 'first_time','region_rating']"
   ]
  },
  {
   "cell_type": "code",
   "execution_count": 28,
   "id": "f816e022",
   "metadata": {},
   "outputs": [
    {
     "data": {
      "image/png": "[encoded data removed]",
      "text/plain": [
       "<Figure size 648x648 with 7 Axes>"
      ]
     },
     "metadata": {
      "needs_background": "light"
     },
     "output_type": "display_data"
    }
   ],
   "source": [
    "numeric_features = df[num_cols]\n",
    "\n",
    "numeric_features = numeric_features.stack().reset_index().rename(\n",
    "    columns={\"level_1\": \"Features\", 0: \"Value\"})\n",
    "\n",
    "ax = sns.FacetGrid(data=numeric_features, col=\"Features\",\n",
    "                  col_wrap=3, sharex=False, sharey=False)\n",
    "ax = ax.map(sns.distplot, \"Value\")\n",
    "\n",
    "plt.subplots_adjust(top=0.9)\n",
    "plt.suptitle(\"Histograms of various features\");"
   ]
  },
  {
   "cell_type": "code",
   "execution_count": 29,
   "id": "d77359fd",
   "metadata": {},
   "outputs": [],
   "source": [
    "for i in ['age', 'decline_app_cnt', 'bki_request_cnt', 'income']:\n",
    "    df[i] = np.log(df[i]+1)"
   ]
  },
  {
   "cell_type": "code",
   "execution_count": 30,
   "id": "07552e4c",
   "metadata": {},
   "outputs": [
    {
     "data": {
      "image/png": "[encoded data removed]",
      "text/plain": [
       "<Figure size 648x648 with 7 Axes>"
      ]
     },
     "metadata": {
      "needs_background": "light"
     },
     "output_type": "display_data"
    }
   ],
   "source": [
    "numeric_features = df[num_cols]\n",
    "\n",
    "numeric_features = numeric_features.stack().reset_index().rename(\n",
    "    columns={\"level_1\": \"Features\", 0: \"Value\"})\n",
    "\n",
    "ax = sns.FacetGrid(data=numeric_features, col=\"Features\",\n",
    "                  col_wrap=3, sharex=False, sharey=False)\n",
    "ax = ax.map(sns.distplot, \"Value\")\n",
    "\n",
    "plt.subplots_adjust(top=0.9)\n",
    "plt.suptitle(\"Histograms of various features\");"
   ]
  },
  {
   "cell_type": "code",
   "execution_count": 31,
   "id": "55401be5",
   "metadata": {},
   "outputs": [],
   "source": [
    "# New Feature - Month\n",
    "df['month'] = df['app_date'].str[3:6]\n",
    "df.drop(['app_date'],  axis=1, inplace=True)"
   ]
  },
  {
   "cell_type": "code",
   "execution_count": 32,
   "id": "090be795",
   "metadata": {},
   "outputs": [],
   "source": [
    "# Average income with regard to region\n",
    "\n",
    "mean_inc_reg = df.groupby('region_rating')['income'].median().to_dict()\n",
    "df['mean_income_region'] = df['region_rating'].map(mean_inc_reg)"
   ]
  },
  {
   "cell_type": "code",
   "execution_count": 33,
   "id": "85a8162b",
   "metadata": {},
   "outputs": [],
   "source": [
    "# Average income with regard to age\n",
    "\n",
    "mean_inc_age = df.groupby('age')['income'].median().to_dict()\n",
    "df['mean_income_age'] = df['age'].map(mean_inc_age)"
   ]
  },
  {
   "cell_type": "code",
   "execution_count": 34,
   "id": "1c6ef9cd",
   "metadata": {},
   "outputs": [],
   "source": [
    "# Average score bki with regard to age\n",
    "\n",
    "mean_bki_age = df.groupby('age')['score_bki'].median().to_dict()\n",
    "df['mean_bki_age'] = df['age'].map(mean_bki_age)"
   ]
  },
  {
   "cell_type": "code",
   "execution_count": 35,
   "id": "505ca3b8",
   "metadata": {
    "scrolled": true
   },
   "outputs": [
    {
     "data": {
      "text/html": [
       "<div>\n",
       "<style scoped>\n",
       "    .dataframe tbody tr th:only-of-type {\n",
       "        vertical-align: middle;\n",
       "    }\n",
       "\n",
       "    .dataframe tbody tr th {\n",
       "        vertical-align: top;\n",
       "    }\n",
       "\n",
       "    .dataframe thead th {\n",
       "        text-align: right;\n",
       "    }\n",
       "</style>\n",
       "<table border=\"1\" class=\"dataframe\">\n",
       "  <thead>\n",
       "    <tr style=\"text-align: right;\">\n",
       "      <th></th>\n",
       "      <th>client_id</th>\n",
       "      <th>education</th>\n",
       "      <th>sex</th>\n",
       "      <th>age</th>\n",
       "      <th>car</th>\n",
       "      <th>car_type</th>\n",
       "      <th>decline_app_cnt</th>\n",
       "      <th>good_work</th>\n",
       "      <th>score_bki</th>\n",
       "      <th>bki_request_cnt</th>\n",
       "      <th>region_rating</th>\n",
       "      <th>home_address</th>\n",
       "    </tr>\n",
       "  </thead>\n",
       "  <tbody>\n",
       "    <tr>\n",
       "      <th>0</th>\n",
       "      <td>25905</td>\n",
       "      <td>SCH</td>\n",
       "      <td>M</td>\n",
       "      <td>4.143135</td>\n",
       "      <td>Y</td>\n",
       "      <td>Y</td>\n",
       "      <td>0.000000</td>\n",
       "      <td>0</td>\n",
       "      <td>-2.008753</td>\n",
       "      <td>0.693147</td>\n",
       "      <td>50</td>\n",
       "      <td>1</td>\n",
       "    </tr>\n",
       "    <tr>\n",
       "      <th>1</th>\n",
       "      <td>63161</td>\n",
       "      <td>SCH</td>\n",
       "      <td>F</td>\n",
       "      <td>4.094345</td>\n",
       "      <td>N</td>\n",
       "      <td>N</td>\n",
       "      <td>0.000000</td>\n",
       "      <td>0</td>\n",
       "      <td>-1.532276</td>\n",
       "      <td>1.386294</td>\n",
       "      <td>50</td>\n",
       "      <td>2</td>\n",
       "    </tr>\n",
       "    <tr>\n",
       "      <th>2</th>\n",
       "      <td>25887</td>\n",
       "      <td>SCH</td>\n",
       "      <td>M</td>\n",
       "      <td>3.258097</td>\n",
       "      <td>Y</td>\n",
       "      <td>N</td>\n",
       "      <td>1.098612</td>\n",
       "      <td>0</td>\n",
       "      <td>-1.408142</td>\n",
       "      <td>0.693147</td>\n",
       "      <td>80</td>\n",
       "      <td>1</td>\n",
       "    </tr>\n",
       "    <tr>\n",
       "      <th>3</th>\n",
       "      <td>16222</td>\n",
       "      <td>SCH</td>\n",
       "      <td>F</td>\n",
       "      <td>3.988984</td>\n",
       "      <td>N</td>\n",
       "      <td>N</td>\n",
       "      <td>0.000000</td>\n",
       "      <td>0</td>\n",
       "      <td>-2.057471</td>\n",
       "      <td>1.098612</td>\n",
       "      <td>50</td>\n",
       "      <td>2</td>\n",
       "    </tr>\n",
       "    <tr>\n",
       "      <th>4</th>\n",
       "      <td>101655</td>\n",
       "      <td>GRD</td>\n",
       "      <td>M</td>\n",
       "      <td>3.891820</td>\n",
       "      <td>N</td>\n",
       "      <td>N</td>\n",
       "      <td>0.000000</td>\n",
       "      <td>1</td>\n",
       "      <td>-1.244723</td>\n",
       "      <td>0.693147</td>\n",
       "      <td>60</td>\n",
       "      <td>2</td>\n",
       "    </tr>\n",
       "  </tbody>\n",
       "</table>\n",
       "</div>"
      ],
      "text/plain": [
       "   client_id education sex       age car car_type  decline_app_cnt  good_work  \\\n",
       "0      25905       SCH   M  4.143135   Y        Y         0.000000          0   \n",
       "1      63161       SCH   F  4.094345   N        N         0.000000          0   \n",
       "2      25887       SCH   M  3.258097   Y        N         1.098612          0   \n",
       "3      16222       SCH   F  3.988984   N        N         0.000000          0   \n",
       "4     101655       GRD   M  3.891820   N        N         0.000000          1   \n",
       "\n",
       "   score_bki  bki_request_cnt  region_rating home_address  \n",
       "0  -2.008753         0.693147             50            1  \n",
       "1  -1.532276         1.386294             50            2  \n",
       "2  -1.408142         0.693147             80            1  \n",
       "3  -2.057471         1.098612             50            2  \n",
       "4  -1.244723         0.693147             60            2  "
      ]
     },
     "metadata": {},
     "output_type": "display_data"
    },
    {
     "data": {
      "text/html": [
       "<div>\n",
       "<style scoped>\n",
       "    .dataframe tbody tr th:only-of-type {\n",
       "        vertical-align: middle;\n",
       "    }\n",
       "\n",
       "    .dataframe tbody tr th {\n",
       "        vertical-align: top;\n",
       "    }\n",
       "\n",
       "    .dataframe thead th {\n",
       "        text-align: right;\n",
       "    }\n",
       "</style>\n",
       "<table border=\"1\" class=\"dataframe\">\n",
       "  <thead>\n",
       "    <tr style=\"text-align: right;\">\n",
       "      <th></th>\n",
       "      <th>work_address</th>\n",
       "      <th>income</th>\n",
       "      <th>sna</th>\n",
       "      <th>first_time</th>\n",
       "      <th>foreign_passport</th>\n",
       "      <th>default</th>\n",
       "      <th>month</th>\n",
       "      <th>mean_income_region</th>\n",
       "      <th>mean_income_age</th>\n",
       "      <th>mean_bki_age</th>\n",
       "    </tr>\n",
       "  </thead>\n",
       "  <tbody>\n",
       "    <tr>\n",
       "      <th>0</th>\n",
       "      <td>2</td>\n",
       "      <td>9.798183</td>\n",
       "      <td>4</td>\n",
       "      <td>1</td>\n",
       "      <td>N</td>\n",
       "      <td>0</td>\n",
       "      <td>Feb</td>\n",
       "      <td>10.126671</td>\n",
       "      <td>9.903538</td>\n",
       "      <td>-1.981476</td>\n",
       "    </tr>\n",
       "    <tr>\n",
       "      <th>1</th>\n",
       "      <td>3</td>\n",
       "      <td>9.852247</td>\n",
       "      <td>4</td>\n",
       "      <td>1</td>\n",
       "      <td>N</td>\n",
       "      <td>0</td>\n",
       "      <td>Mar</td>\n",
       "      <td>10.126671</td>\n",
       "      <td>9.998843</td>\n",
       "      <td>-1.994864</td>\n",
       "    </tr>\n",
       "    <tr>\n",
       "      <th>2</th>\n",
       "      <td>2</td>\n",
       "      <td>10.308986</td>\n",
       "      <td>1</td>\n",
       "      <td>4</td>\n",
       "      <td>Y</td>\n",
       "      <td>0</td>\n",
       "      <td>Feb</td>\n",
       "      <td>10.757924</td>\n",
       "      <td>10.308986</td>\n",
       "      <td>-1.814637</td>\n",
       "    </tr>\n",
       "    <tr>\n",
       "      <th>3</th>\n",
       "      <td>3</td>\n",
       "      <td>9.210440</td>\n",
       "      <td>1</td>\n",
       "      <td>3</td>\n",
       "      <td>N</td>\n",
       "      <td>0</td>\n",
       "      <td>Jan</td>\n",
       "      <td>10.126671</td>\n",
       "      <td>10.212803</td>\n",
       "      <td>-1.993905</td>\n",
       "    </tr>\n",
       "    <tr>\n",
       "      <th>4</th>\n",
       "      <td>3</td>\n",
       "      <td>10.308986</td>\n",
       "      <td>1</td>\n",
       "      <td>4</td>\n",
       "      <td>Y</td>\n",
       "      <td>0</td>\n",
       "      <td>Apr</td>\n",
       "      <td>10.308986</td>\n",
       "      <td>10.308986</td>\n",
       "      <td>-1.988764</td>\n",
       "    </tr>\n",
       "  </tbody>\n",
       "</table>\n",
       "</div>"
      ],
      "text/plain": [
       "  work_address     income  sna  first_time foreign_passport  default month  \\\n",
       "0            2   9.798183    4           1                N        0   Feb   \n",
       "1            3   9.852247    4           1                N        0   Mar   \n",
       "2            2  10.308986    1           4                Y        0   Feb   \n",
       "3            3   9.210440    1           3                N        0   Jan   \n",
       "4            3  10.308986    1           4                Y        0   Apr   \n",
       "\n",
       "   mean_income_region  mean_income_age  mean_bki_age  \n",
       "0           10.126671         9.903538     -1.981476  \n",
       "1           10.126671         9.998843     -1.994864  \n",
       "2           10.757924        10.308986     -1.814637  \n",
       "3           10.126671        10.212803     -1.993905  \n",
       "4           10.308986        10.308986     -1.988764  "
      ]
     },
     "metadata": {},
     "output_type": "display_data"
    }
   ],
   "source": [
    "dsp(df.iloc[:5, :12])\n",
    "dsp(df.iloc[:5, 12:])"
   ]
  },
  {
   "cell_type": "code",
   "execution_count": 36,
   "id": "4af38176",
   "metadata": {},
   "outputs": [],
   "source": [
    "cat_cols = ['education', 'sex', 'car', 'car_type', 'good_work', 'home_address', 'work_address',\n",
    "       'foreign_passport', 'sna', 'month']"
   ]
  },
  {
   "cell_type": "code",
   "execution_count": 37,
   "id": "349bd5cd",
   "metadata": {},
   "outputs": [
    {
     "name": "stdout",
     "output_type": "stream",
     "text": [
      "<class 'pandas.core.frame.DataFrame'>\n",
      "RangeIndex: 73799 entries, 0 to 73798\n",
      "Data columns (total 22 columns):\n",
      " #   Column              Non-Null Count  Dtype  \n",
      "---  ------              --------------  -----  \n",
      " 0   client_id           73799 non-null  int64  \n",
      " 1   education           73799 non-null  object \n",
      " 2   sex                 73799 non-null  object \n",
      " 3   age                 73799 non-null  float64\n",
      " 4   car                 73799 non-null  object \n",
      " 5   car_type            73799 non-null  object \n",
      " 6   decline_app_cnt     73799 non-null  float64\n",
      " 7   good_work           73799 non-null  int64  \n",
      " 8   score_bki           73799 non-null  float64\n",
      " 9   bki_request_cnt     73799 non-null  float64\n",
      " 10  region_rating       73799 non-null  int64  \n",
      " 11  home_address        73799 non-null  object \n",
      " 12  work_address        73799 non-null  object \n",
      " 13  income              73799 non-null  float64\n",
      " 14  sna                 73799 non-null  int64  \n",
      " 15  first_time          73799 non-null  int64  \n",
      " 16  foreign_passport    73799 non-null  object \n",
      " 17  default             73799 non-null  int64  \n",
      " 18  month               73799 non-null  object \n",
      " 19  mean_income_region  73799 non-null  float64\n",
      " 20  mean_income_age     73799 non-null  float64\n",
      " 21  mean_bki_age        73799 non-null  float64\n",
      "dtypes: float64(8), int64(6), object(8)\n",
      "memory usage: 12.4+ MB\n"
     ]
    }
   ],
   "source": [
    "df.info()"
   ]
  },
  {
   "cell_type": "code",
   "execution_count": 38,
   "id": "9f2f5d2a",
   "metadata": {},
   "outputs": [],
   "source": [
    "df[\"good_work\"] = df[\"good_work\"].astype(int)\n",
    "df[\"region_rating\"] = df[\"region_rating\"].astype(int)\n",
    "df[\"sna\"] = df[\"sna\"].astype(int)\n",
    "df[\"first_time\"] = df[\"first_time\"].astype(int)"
   ]
  },
  {
   "cell_type": "code",
   "execution_count": 39,
   "id": "87491ffc",
   "metadata": {},
   "outputs": [
    {
     "data": {
      "text/plain": [
       "['age',\n",
       " 'decline_app_cnt',\n",
       " 'score_bki',\n",
       " 'bki_request_cnt',\n",
       " 'income',\n",
       " 'mean_income_region',\n",
       " 'mean_income_age',\n",
       " 'mean_bki_age',\n",
       " 'good_work',\n",
       " 'region_rating',\n",
       " 'sna',\n",
       " 'first_time']"
      ]
     },
     "execution_count": 39,
     "metadata": {},
     "output_type": "execute_result"
    }
   ],
   "source": [
    "num_cols = list(df.dtypes[df.dtypes == float].index) + list(df.dtypes[df.dtypes == int].index)[:]\n",
    "num_cols"
   ]
  },
  {
   "cell_type": "markdown",
   "id": "e75c4bd8",
   "metadata": {},
   "source": [
    "* [Return to the Table of Contents](#main-bullet)"
   ]
  },
  {
   "cell_type": "markdown",
   "id": "591f63e7",
   "metadata": {},
   "source": [
    "<h1> <div style = \"text-align: center\"> <font color = \"brown\"> 6. Building a Model </font> </div> <a class=\"anchor\" id=\"sixth-bullet\"></a>"
   ]
  },
  {
   "cell_type": "code",
   "execution_count": 40,
   "id": "e70ac547",
   "metadata": {},
   "outputs": [],
   "source": [
    "df_label = pd.get_dummies(df, columns=cat_cols,\n",
    "                          drop_first=True).drop('client_id', axis=1)"
   ]
  },
  {
   "cell_type": "code",
   "execution_count": 41,
   "id": "5b5a14cf",
   "metadata": {},
   "outputs": [
    {
     "data": {
      "text/html": [
       "<div>\n",
       "<style scoped>\n",
       "    .dataframe tbody tr th:only-of-type {\n",
       "        vertical-align: middle;\n",
       "    }\n",
       "\n",
       "    .dataframe tbody tr th {\n",
       "        vertical-align: top;\n",
       "    }\n",
       "\n",
       "    .dataframe thead th {\n",
       "        text-align: right;\n",
       "    }\n",
       "</style>\n",
       "<table border=\"1\" class=\"dataframe\">\n",
       "  <thead>\n",
       "    <tr style=\"text-align: right;\">\n",
       "      <th></th>\n",
       "      <th>age</th>\n",
       "      <th>decline_app_cnt</th>\n",
       "      <th>score_bki</th>\n",
       "      <th>bki_request_cnt</th>\n",
       "      <th>region_rating</th>\n",
       "      <th>income</th>\n",
       "      <th>first_time</th>\n",
       "      <th>default</th>\n",
       "      <th>mean_income_region</th>\n",
       "      <th>mean_income_age</th>\n",
       "    </tr>\n",
       "  </thead>\n",
       "  <tbody>\n",
       "    <tr>\n",
       "      <th>0</th>\n",
       "      <td>4.143135</td>\n",
       "      <td>0.000000</td>\n",
       "      <td>-2.008753</td>\n",
       "      <td>0.693147</td>\n",
       "      <td>50</td>\n",
       "      <td>9.798183</td>\n",
       "      <td>1</td>\n",
       "      <td>0</td>\n",
       "      <td>10.126671</td>\n",
       "      <td>9.903538</td>\n",
       "    </tr>\n",
       "    <tr>\n",
       "      <th>1</th>\n",
       "      <td>4.094345</td>\n",
       "      <td>0.000000</td>\n",
       "      <td>-1.532276</td>\n",
       "      <td>1.386294</td>\n",
       "      <td>50</td>\n",
       "      <td>9.852247</td>\n",
       "      <td>1</td>\n",
       "      <td>0</td>\n",
       "      <td>10.126671</td>\n",
       "      <td>9.998843</td>\n",
       "    </tr>\n",
       "    <tr>\n",
       "      <th>2</th>\n",
       "      <td>3.258097</td>\n",
       "      <td>1.098612</td>\n",
       "      <td>-1.408142</td>\n",
       "      <td>0.693147</td>\n",
       "      <td>80</td>\n",
       "      <td>10.308986</td>\n",
       "      <td>4</td>\n",
       "      <td>0</td>\n",
       "      <td>10.757924</td>\n",
       "      <td>10.308986</td>\n",
       "    </tr>\n",
       "    <tr>\n",
       "      <th>3</th>\n",
       "      <td>3.988984</td>\n",
       "      <td>0.000000</td>\n",
       "      <td>-2.057471</td>\n",
       "      <td>1.098612</td>\n",
       "      <td>50</td>\n",
       "      <td>9.210440</td>\n",
       "      <td>3</td>\n",
       "      <td>0</td>\n",
       "      <td>10.126671</td>\n",
       "      <td>10.212803</td>\n",
       "    </tr>\n",
       "    <tr>\n",
       "      <th>4</th>\n",
       "      <td>3.891820</td>\n",
       "      <td>0.000000</td>\n",
       "      <td>-1.244723</td>\n",
       "      <td>0.693147</td>\n",
       "      <td>60</td>\n",
       "      <td>10.308986</td>\n",
       "      <td>4</td>\n",
       "      <td>0</td>\n",
       "      <td>10.308986</td>\n",
       "      <td>10.308986</td>\n",
       "    </tr>\n",
       "  </tbody>\n",
       "</table>\n",
       "</div>"
      ],
      "text/plain": [
       "        age  decline_app_cnt  score_bki  bki_request_cnt  region_rating  \\\n",
       "0  4.143135         0.000000  -2.008753         0.693147             50   \n",
       "1  4.094345         0.000000  -1.532276         1.386294             50   \n",
       "2  3.258097         1.098612  -1.408142         0.693147             80   \n",
       "3  3.988984         0.000000  -2.057471         1.098612             50   \n",
       "4  3.891820         0.000000  -1.244723         0.693147             60   \n",
       "\n",
       "      income  first_time  default  mean_income_region  mean_income_age  \n",
       "0   9.798183           1        0           10.126671         9.903538  \n",
       "1   9.852247           1        0           10.126671         9.998843  \n",
       "2  10.308986           4        0           10.757924        10.308986  \n",
       "3   9.210440           3        0           10.126671        10.212803  \n",
       "4  10.308986           4        0           10.308986        10.308986  "
      ]
     },
     "metadata": {},
     "output_type": "display_data"
    },
    {
     "data": {
      "text/html": [
       "<div>\n",
       "<style scoped>\n",
       "    .dataframe tbody tr th:only-of-type {\n",
       "        vertical-align: middle;\n",
       "    }\n",
       "\n",
       "    .dataframe tbody tr th {\n",
       "        vertical-align: top;\n",
       "    }\n",
       "\n",
       "    .dataframe thead th {\n",
       "        text-align: right;\n",
       "    }\n",
       "</style>\n",
       "<table border=\"1\" class=\"dataframe\">\n",
       "  <thead>\n",
       "    <tr style=\"text-align: right;\">\n",
       "      <th></th>\n",
       "      <th>mean_bki_age</th>\n",
       "      <th>education_GRD</th>\n",
       "      <th>education_PGR</th>\n",
       "      <th>education_SCH</th>\n",
       "      <th>education_UGR</th>\n",
       "      <th>sex_M</th>\n",
       "      <th>car_Y</th>\n",
       "      <th>car_type_Y</th>\n",
       "      <th>good_work_1</th>\n",
       "      <th>home_address_2</th>\n",
       "    </tr>\n",
       "  </thead>\n",
       "  <tbody>\n",
       "    <tr>\n",
       "      <th>0</th>\n",
       "      <td>-1.981476</td>\n",
       "      <td>0</td>\n",
       "      <td>0</td>\n",
       "      <td>1</td>\n",
       "      <td>0</td>\n",
       "      <td>1</td>\n",
       "      <td>1</td>\n",
       "      <td>1</td>\n",
       "      <td>0</td>\n",
       "      <td>0</td>\n",
       "    </tr>\n",
       "    <tr>\n",
       "      <th>1</th>\n",
       "      <td>-1.994864</td>\n",
       "      <td>0</td>\n",
       "      <td>0</td>\n",
       "      <td>1</td>\n",
       "      <td>0</td>\n",
       "      <td>0</td>\n",
       "      <td>0</td>\n",
       "      <td>0</td>\n",
       "      <td>0</td>\n",
       "      <td>1</td>\n",
       "    </tr>\n",
       "    <tr>\n",
       "      <th>2</th>\n",
       "      <td>-1.814637</td>\n",
       "      <td>0</td>\n",
       "      <td>0</td>\n",
       "      <td>1</td>\n",
       "      <td>0</td>\n",
       "      <td>1</td>\n",
       "      <td>1</td>\n",
       "      <td>0</td>\n",
       "      <td>0</td>\n",
       "      <td>0</td>\n",
       "    </tr>\n",
       "    <tr>\n",
       "      <th>3</th>\n",
       "      <td>-1.993905</td>\n",
       "      <td>0</td>\n",
       "      <td>0</td>\n",
       "      <td>1</td>\n",
       "      <td>0</td>\n",
       "      <td>0</td>\n",
       "      <td>0</td>\n",
       "      <td>0</td>\n",
       "      <td>0</td>\n",
       "      <td>1</td>\n",
       "    </tr>\n",
       "    <tr>\n",
       "      <th>4</th>\n",
       "      <td>-1.988764</td>\n",
       "      <td>1</td>\n",
       "      <td>0</td>\n",
       "      <td>0</td>\n",
       "      <td>0</td>\n",
       "      <td>1</td>\n",
       "      <td>0</td>\n",
       "      <td>0</td>\n",
       "      <td>1</td>\n",
       "      <td>1</td>\n",
       "    </tr>\n",
       "  </tbody>\n",
       "</table>\n",
       "</div>"
      ],
      "text/plain": [
       "   mean_bki_age  education_GRD  education_PGR  education_SCH  education_UGR  \\\n",
       "0     -1.981476              0              0              1              0   \n",
       "1     -1.994864              0              0              1              0   \n",
       "2     -1.814637              0              0              1              0   \n",
       "3     -1.993905              0              0              1              0   \n",
       "4     -1.988764              1              0              0              0   \n",
       "\n",
       "   sex_M  car_Y  car_type_Y  good_work_1  home_address_2  \n",
       "0      1      1           1            0               0  \n",
       "1      0      0           0            0               1  \n",
       "2      1      1           0            0               0  \n",
       "3      0      0           0            0               1  \n",
       "4      1      0           0            1               1  "
      ]
     },
     "metadata": {},
     "output_type": "display_data"
    },
    {
     "data": {
      "text/html": [
       "<div>\n",
       "<style scoped>\n",
       "    .dataframe tbody tr th:only-of-type {\n",
       "        vertical-align: middle;\n",
       "    }\n",
       "\n",
       "    .dataframe tbody tr th {\n",
       "        vertical-align: top;\n",
       "    }\n",
       "\n",
       "    .dataframe thead th {\n",
       "        text-align: right;\n",
       "    }\n",
       "</style>\n",
       "<table border=\"1\" class=\"dataframe\">\n",
       "  <thead>\n",
       "    <tr style=\"text-align: right;\">\n",
       "      <th></th>\n",
       "      <th>home_address_3</th>\n",
       "      <th>work_address_2</th>\n",
       "      <th>work_address_3</th>\n",
       "      <th>foreign_passport_Y</th>\n",
       "      <th>sna_2</th>\n",
       "      <th>sna_3</th>\n",
       "      <th>sna_4</th>\n",
       "      <th>month_Feb</th>\n",
       "      <th>month_Jan</th>\n",
       "      <th>month_Mar</th>\n",
       "    </tr>\n",
       "  </thead>\n",
       "  <tbody>\n",
       "    <tr>\n",
       "      <th>0</th>\n",
       "      <td>0</td>\n",
       "      <td>1</td>\n",
       "      <td>0</td>\n",
       "      <td>0</td>\n",
       "      <td>0</td>\n",
       "      <td>0</td>\n",
       "      <td>1</td>\n",
       "      <td>1</td>\n",
       "      <td>0</td>\n",
       "      <td>0</td>\n",
       "    </tr>\n",
       "    <tr>\n",
       "      <th>1</th>\n",
       "      <td>0</td>\n",
       "      <td>0</td>\n",
       "      <td>1</td>\n",
       "      <td>0</td>\n",
       "      <td>0</td>\n",
       "      <td>0</td>\n",
       "      <td>1</td>\n",
       "      <td>0</td>\n",
       "      <td>0</td>\n",
       "      <td>1</td>\n",
       "    </tr>\n",
       "    <tr>\n",
       "      <th>2</th>\n",
       "      <td>0</td>\n",
       "      <td>1</td>\n",
       "      <td>0</td>\n",
       "      <td>1</td>\n",
       "      <td>0</td>\n",
       "      <td>0</td>\n",
       "      <td>0</td>\n",
       "      <td>1</td>\n",
       "      <td>0</td>\n",
       "      <td>0</td>\n",
       "    </tr>\n",
       "    <tr>\n",
       "      <th>3</th>\n",
       "      <td>0</td>\n",
       "      <td>0</td>\n",
       "      <td>1</td>\n",
       "      <td>0</td>\n",
       "      <td>0</td>\n",
       "      <td>0</td>\n",
       "      <td>0</td>\n",
       "      <td>0</td>\n",
       "      <td>1</td>\n",
       "      <td>0</td>\n",
       "    </tr>\n",
       "    <tr>\n",
       "      <th>4</th>\n",
       "      <td>0</td>\n",
       "      <td>0</td>\n",
       "      <td>1</td>\n",
       "      <td>1</td>\n",
       "      <td>0</td>\n",
       "      <td>0</td>\n",
       "      <td>0</td>\n",
       "      <td>0</td>\n",
       "      <td>0</td>\n",
       "      <td>0</td>\n",
       "    </tr>\n",
       "  </tbody>\n",
       "</table>\n",
       "</div>"
      ],
      "text/plain": [
       "   home_address_3  work_address_2  work_address_3  foreign_passport_Y  sna_2  \\\n",
       "0               0               1               0                   0      0   \n",
       "1               0               0               1                   0      0   \n",
       "2               0               1               0                   1      0   \n",
       "3               0               0               1                   0      0   \n",
       "4               0               0               1                   1      0   \n",
       "\n",
       "   sna_3  sna_4  month_Feb  month_Jan  month_Mar  \n",
       "0      0      1          1          0          0  \n",
       "1      0      1          0          0          1  \n",
       "2      0      0          1          0          0  \n",
       "3      0      0          0          1          0  \n",
       "4      0      0          0          0          0  "
      ]
     },
     "metadata": {},
     "output_type": "display_data"
    }
   ],
   "source": [
    "dsp(df_label.iloc[:5, :10])\n",
    "dsp(df_label.iloc[:5, 10:20])\n",
    "dsp(df_label.iloc[:5, 20:])"
   ]
  },
  {
   "cell_type": "code",
   "execution_count": 42,
   "id": "5d4e453a",
   "metadata": {},
   "outputs": [],
   "source": [
    "X = df_label.drop('default', axis=1)\n",
    "y = df_label['default']\n",
    "\n",
    "X_train, X_test, y_train, y_test = train_test_split(\n",
    "    X, y, test_size=0.25, stratify=y, shuffle=True, random_state=RAND)"
   ]
  },
  {
   "cell_type": "markdown",
   "id": "3b1a2829",
   "metadata": {},
   "source": [
    "<h2> Baseline"
   ]
  },
  {
   "cell_type": "code",
   "execution_count": 43,
   "id": "ac986913",
   "metadata": {},
   "outputs": [],
   "source": [
    "lr = LogisticRegression(class_weight = 'balanced')\n",
    "lr.fit(X_train, y_train)\n",
    "\n",
    "y_pred = lr.predict(X_test)\n",
    "y_score = lr.predict_proba(X_test)[:,1]"
   ]
  },
  {
   "cell_type": "code",
   "execution_count": 44,
   "id": "32947b01",
   "metadata": {},
   "outputs": [
    {
     "name": "stdout",
     "output_type": "stream",
     "text": [
      "roc-auc: 0.7293699377728979\n",
      "precision: 0.23074613421408197\n",
      "recall: 0.6559965855740504\n",
      "f1: 0.3414038205242115\n",
      "logloss: 11.101303043851093\n"
     ]
    }
   ],
   "source": [
    "print('roc-auc:', roc_auc_score(y_test, y_score))\n",
    "print('precision:', precision_score(y_test, y_pred))\n",
    "print('recall:', recall_score(y_test, y_pred))\n",
    "print('f1:', f1_score(y_test, y_pred))\n",
    "print('logloss:', log_loss(y_test, y_pred))"
   ]
  },
  {
   "cell_type": "markdown",
   "id": "d814d6ce",
   "metadata": {},
   "source": [
    "If bank, prefers to predict more 'bad' clients, in order to avoid big losses, we need to be guided by recall metric, if we compare with baseline and other algorithms, otherwise precision."
   ]
  },
  {
   "cell_type": "code",
   "execution_count": 45,
   "id": "1e154a3e",
   "metadata": {},
   "outputs": [],
   "source": [
    "metrics = pd.DataFrame(\n",
    "    index=['roc-auc', 'precision', 'recall', 'f1', 'logloss'])\n",
    "\n",
    "metrics['Baseline_LR'] = [roc_auc_score(y_test, y_score),\n",
    "                          precision_score(y_test, y_pred),\n",
    "                          recall_score(y_test, y_pred),\n",
    "                          f1_score(y_test, y_pred),\n",
    "                          log_loss(y_test, y_pred)]"
   ]
  },
  {
   "cell_type": "code",
   "execution_count": 46,
   "id": "e93523fb",
   "metadata": {},
   "outputs": [
    {
     "data": {
      "text/html": [
       "<div>\n",
       "<style scoped>\n",
       "    .dataframe tbody tr th:only-of-type {\n",
       "        vertical-align: middle;\n",
       "    }\n",
       "\n",
       "    .dataframe tbody tr th {\n",
       "        vertical-align: top;\n",
       "    }\n",
       "\n",
       "    .dataframe thead th {\n",
       "        text-align: right;\n",
       "    }\n",
       "</style>\n",
       "<table border=\"1\" class=\"dataframe\">\n",
       "  <thead>\n",
       "    <tr style=\"text-align: right;\">\n",
       "      <th></th>\n",
       "      <th>Baseline_LR</th>\n",
       "    </tr>\n",
       "  </thead>\n",
       "  <tbody>\n",
       "    <tr>\n",
       "      <th>roc-auc</th>\n",
       "      <td>0.729370</td>\n",
       "    </tr>\n",
       "    <tr>\n",
       "      <th>precision</th>\n",
       "      <td>0.230746</td>\n",
       "    </tr>\n",
       "    <tr>\n",
       "      <th>recall</th>\n",
       "      <td>0.655997</td>\n",
       "    </tr>\n",
       "    <tr>\n",
       "      <th>f1</th>\n",
       "      <td>0.341404</td>\n",
       "    </tr>\n",
       "    <tr>\n",
       "      <th>logloss</th>\n",
       "      <td>11.101303</td>\n",
       "    </tr>\n",
       "  </tbody>\n",
       "</table>\n",
       "</div>"
      ],
      "text/plain": [
       "           Baseline_LR\n",
       "roc-auc       0.729370\n",
       "precision     0.230746\n",
       "recall        0.655997\n",
       "f1            0.341404\n",
       "logloss      11.101303"
      ]
     },
     "execution_count": 46,
     "metadata": {},
     "output_type": "execute_result"
    }
   ],
   "source": [
    "metrics"
   ]
  },
  {
   "cell_type": "code",
   "execution_count": 47,
   "id": "5557c119",
   "metadata": {},
   "outputs": [
    {
     "data": {
      "image/png": "[encoded data removed]",
      "text/plain": [
       "<Figure size 432x288 with 1 Axes>"
      ]
     },
     "metadata": {
      "needs_background": "light"
     },
     "output_type": "display_data"
    }
   ],
   "source": [
    "fpr, tpr, thresholds = roc_curve(y_test, y_score)\n",
    "\n",
    "roc_auc = auc(fpr, tpr)\n",
    "\n",
    "plt.plot(fpr, tpr, color='darkorange', label='ROC curve (area = %0.2f)' % roc_auc)\n",
    "plt.plot([0, 1], [0, 1], color='navy', lw=2, linestyle='--')\n",
    "plt.xlim([0.0, 1.0])\n",
    "plt.ylim([0.0, 1.05])\n",
    "\n",
    "plt.xlabel('False Positive Rate')\n",
    "plt.ylabel('True Positive Rate')\n",
    "\n",
    "plt.title('Logistic Regression ROC AUC = %0.3f' % roc_auc)\n",
    "plt.legend(loc=\"lower right\")\n",
    "plt.show()"
   ]
  },
  {
   "cell_type": "markdown",
   "id": "8aaa5e75",
   "metadata": {},
   "source": [
    "* [Return to the Table of Contents](#main-bullet)"
   ]
  },
  {
   "cell_type": "markdown",
   "id": "418d2a53",
   "metadata": {},
   "source": [
    "<h1> <div style = \"text-align: center\"> <font color = \"brown\"> 7. Tuning the Model </font> </div> <a class=\"anchor\" id=\"seventh-bullet\"></a>"
   ]
  },
  {
   "cell_type": "code",
   "execution_count": 48,
   "id": "7c7f7df0",
   "metadata": {},
   "outputs": [],
   "source": [
    "parameters_grid = {\n",
    "    'penalty': ['l1', 'l2', 'elasticnet'],\n",
    "    'C': np.linspace(1, 1000, num=5),\n",
    "    'solver': ['sag', 'saga', 'lbfgs'],\n",
    "    'l1_ratio': [0.25, 0.5, 0.75],\n",
    "    'max_iter': np.arange(100, 500, 100)\n",
    "}\n",
    "\n",
    "lr = LogisticRegression(class_weight='balanced')\n",
    "cv = StratifiedKFold(n_splits=3, shuffle=True)\n",
    "grid_cv = GridSearchCV(lr, parameters_grid,\n",
    "                       scoring='roc_auc', cv=cv, verbose=2)"
   ]
  },
  {
   "cell_type": "code",
   "execution_count": 49,
   "id": "b0a31f87",
   "metadata": {},
   "outputs": [
    {
     "name": "stdout",
     "output_type": "stream",
     "text": [
      "Wall time: 0 ns\n"
     ]
    }
   ],
   "source": [
    "%%time\n",
    "#grid_cv.fit(X_train, y_train)"
   ]
  },
  {
   "cell_type": "code",
   "execution_count": 50,
   "id": "015b9bf0",
   "metadata": {},
   "outputs": [],
   "source": [
    "# print(grid_cv.best_score_)\n",
    "# print(grid_cv.best_params_)"
   ]
  },
  {
   "cell_type": "code",
   "execution_count": 51,
   "id": "a494f209",
   "metadata": {},
   "outputs": [],
   "source": [
    "best_params = {'C': 500.5, \n",
    "               'l1_ratio': 0.25,\n",
    "               'max_iter': 400, \n",
    "               'penalty': 'l2', \n",
    "               'solver': 'lbfgs'}"
   ]
  },
  {
   "cell_type": "code",
   "execution_count": 52,
   "id": "5d3aebbe",
   "metadata": {},
   "outputs": [],
   "source": [
    "lr_gr = LogisticRegression(**best_params, class_weight='balanced')\n",
    "lr_gr.fit(X_train, y_train)\n",
    "\n",
    "y_pred_gr = lr_gr.predict(X_test)\n",
    "y_score_gr = lr_gr.predict_proba(X_test)[:,1]"
   ]
  },
  {
   "cell_type": "code",
   "execution_count": 53,
   "id": "c69db739",
   "metadata": {},
   "outputs": [
    {
     "name": "stdout",
     "output_type": "stream",
     "text": [
      "roc-auc: 0.729796343546642\n",
      "precision: 0.23192544716669172\n",
      "recall: 0.6585574050362782\n",
      "f1: 0.34304135171187194\n",
      "logloss: 11.06386202909433\n"
     ]
    }
   ],
   "source": [
    "print('roc-auc:', roc_auc_score(y_test, y_score_gr))\n",
    "print('precision:', precision_score(y_test, y_pred_gr))\n",
    "print('recall:', recall_score(y_test, y_pred_gr))\n",
    "print('f1:', f1_score(y_test, y_pred_gr))\n",
    "print('logloss:', log_loss(y_test, y_pred_gr))"
   ]
  },
  {
   "cell_type": "code",
   "execution_count": 54,
   "id": "9448c815",
   "metadata": {},
   "outputs": [
    {
     "data": {
      "image/png": "[encoded data removed]",
      "text/plain": [
       "<Figure size 432x288 with 1 Axes>"
      ]
     },
     "metadata": {
      "needs_background": "light"
     },
     "output_type": "display_data"
    }
   ],
   "source": [
    "fpr_2, tpr_2, thresholds_2 = roc_curve(y_test, y_score_gr)\n",
    "\n",
    "roc_auc_2 = auc(fpr_2, tpr_2)\n",
    "\n",
    "plt.plot(fpr, tpr, color='darkorange', label='ROC curve (area = %0.2f)' % roc_auc)\n",
    "plt.plot(fpr_2, tpr_2, color='green', label='ROC curve (area = %0.2f)' % roc_auc_2)\n",
    "plt.plot([0, 1], [0, 1], color='navy', lw=2, linestyle='--')\n",
    "plt.xlim([0.0, 1.0])\n",
    "plt.ylim([0.0, 1.05])\n",
    "\n",
    "plt.xlabel('False Positive Rate')\n",
    "plt.ylabel('True Positive Rate')\n",
    "\n",
    "plt.title('Logistic Regression ROC AUC = %0.3f' % roc_auc)\n",
    "plt.legend(loc=\"lower right\")\n",
    "plt.show()"
   ]
  },
  {
   "cell_type": "code",
   "execution_count": 55,
   "id": "cae089cc",
   "metadata": {},
   "outputs": [],
   "source": [
    "metrics['Grid_LR'] = [roc_auc_score(y_test, y_score_gr),\n",
    "                      precision_score(y_test, y_pred_gr),\n",
    "                      recall_score(y_test, y_pred_gr),\n",
    "                      f1_score(y_test, y_pred_gr),\n",
    "                      log_loss(y_test, y_pred_gr)]"
   ]
  },
  {
   "cell_type": "code",
   "execution_count": 56,
   "id": "7bbecf3d",
   "metadata": {},
   "outputs": [
    {
     "data": {
      "text/html": [
       "<style  type=\"text/css\" >\n",
       "#T_85fba_row0_col1,#T_85fba_row1_col1,#T_85fba_row2_col1,#T_85fba_row3_col1{\n",
       "            background-color:  lightblue;\n",
       "        }</style><table id=\"T_85fba_\" ><thead>    <tr>        <th class=\"blank level0\" ></th>        <th class=\"col_heading level0 col0\" >Baseline_LR</th>        <th class=\"col_heading level0 col1\" >Grid_LR</th>    </tr></thead><tbody>\n",
       "                <tr>\n",
       "                        <th id=\"T_85fba_level0_row0\" class=\"row_heading level0 row0\" >roc-auc</th>\n",
       "                        <td id=\"T_85fba_row0_col0\" class=\"data row0 col0\" >0.729370</td>\n",
       "                        <td id=\"T_85fba_row0_col1\" class=\"data row0 col1\" >0.729796</td>\n",
       "            </tr>\n",
       "            <tr>\n",
       "                        <th id=\"T_85fba_level0_row1\" class=\"row_heading level0 row1\" >precision</th>\n",
       "                        <td id=\"T_85fba_row1_col0\" class=\"data row1 col0\" >0.230746</td>\n",
       "                        <td id=\"T_85fba_row1_col1\" class=\"data row1 col1\" >0.231925</td>\n",
       "            </tr>\n",
       "            <tr>\n",
       "                        <th id=\"T_85fba_level0_row2\" class=\"row_heading level0 row2\" >recall</th>\n",
       "                        <td id=\"T_85fba_row2_col0\" class=\"data row2 col0\" >0.655997</td>\n",
       "                        <td id=\"T_85fba_row2_col1\" class=\"data row2 col1\" >0.658557</td>\n",
       "            </tr>\n",
       "            <tr>\n",
       "                        <th id=\"T_85fba_level0_row3\" class=\"row_heading level0 row3\" >f1</th>\n",
       "                        <td id=\"T_85fba_row3_col0\" class=\"data row3 col0\" >0.341404</td>\n",
       "                        <td id=\"T_85fba_row3_col1\" class=\"data row3 col1\" >0.343041</td>\n",
       "            </tr>\n",
       "    </tbody></table>"
      ],
      "text/plain": [
       "<pandas.io.formats.style.Styler at 0x1daf4fecf70>"
      ]
     },
     "execution_count": 56,
     "metadata": {},
     "output_type": "execute_result"
    }
   ],
   "source": [
    "metrics[:-1].style.highlight_max(axis=1, color='lightblue')"
   ]
  },
  {
   "cell_type": "markdown",
   "id": "259ca9f2",
   "metadata": {},
   "source": [
    "* [Return to the Table of Contents](#main-bullet)"
   ]
  },
  {
   "cell_type": "markdown",
   "id": "b2177454",
   "metadata": {},
   "source": [
    "<h1> <div style = \"text-align: center\"> <font color = \"brown\"> 8. Analyzing the most important features </font> </div> <a class=\"anchor\" id=\"eighth-bullet\"></a>"
   ]
  },
  {
   "cell_type": "code",
   "execution_count": 57,
   "id": "c5ff51e1",
   "metadata": {},
   "outputs": [],
   "source": [
    "explainer = shap.LinearExplainer(lr_gr, X_train, feature_dependence=\"independent\")\n",
    "shap_values = explainer(X_test)"
   ]
  },
  {
   "cell_type": "code",
   "execution_count": 58,
   "id": "394618b9",
   "metadata": {},
   "outputs": [
    {
     "data": {
      "image/png": "[encoded data removed]",
      "text/plain": [
       "<Figure size 576x684 with 2 Axes>"
      ]
     },
     "metadata": {
      "needs_background": "light"
     },
     "output_type": "display_data"
    }
   ],
   "source": [
    "# summary plot\n",
    "shap.summary_plot(shap_values, X_test)"
   ]
  },
  {
   "cell_type": "markdown",
   "id": "2fdbe843",
   "metadata": {},
   "source": [
    "Features located in accordance to how significant are they at Y axis, at the X axis the shap values are located. \n",
    "\n",
    "Colour corresponds to the relevant feature: red - high, blue - low.\n",
    "    \n",
    "Example:\n",
    "* The more is <b> score_bki </b>, the higher the probability of <b> default </b>.\n",
    "* The higher the <b> age</b>, the lower the probability of <b> default </b>."
   ]
  },
  {
   "cell_type": "code",
   "execution_count": 59,
   "id": "5be9af7d",
   "metadata": {},
   "outputs": [
    {
     "data": {
      "text/plain": [
       "array([[-0.29824348,  0.42042535,  1.01283136,  0.2836687 , -0.02331461,\n",
       "        -0.03567887, -0.10479793, -0.26023373,  0.29409574, -1.2290124 ,\n",
       "         0.21703797,  0.10775166,  0.5831931 ,  0.46918406,  0.29090382,\n",
       "         0.00306316, -0.30229378, -0.21703857,  0.60265679,  0.09907026,\n",
       "         0.34034517,  0.47073483, -0.23021468,  0.26007416,  0.16627888,\n",
       "         0.43077994,  0.36051066,  0.39921691,  0.32272105]])"
      ]
     },
     "execution_count": 59,
     "metadata": {},
     "output_type": "execute_result"
    }
   ],
   "source": [
    "lr_gr.coef_"
   ]
  },
  {
   "cell_type": "code",
   "execution_count": 60,
   "id": "fb915681",
   "metadata": {},
   "outputs": [],
   "source": [
    "feature_imp = pd.DataFrame()\n",
    "feature_imp['feature'] = X.columns\n",
    "feature_imp['imp'] = lr_gr.coef_[0]\n",
    "feature_imp = feature_imp.sort_values(by='imp', ascending=False)"
   ]
  },
  {
   "cell_type": "code",
   "execution_count": 61,
   "id": "62451d1e",
   "metadata": {
    "scrolled": false
   },
   "outputs": [
    {
     "data": {
      "text/html": [
       "<div>\n",
       "<style scoped>\n",
       "    .dataframe tbody tr th:only-of-type {\n",
       "        vertical-align: middle;\n",
       "    }\n",
       "\n",
       "    .dataframe tbody tr th {\n",
       "        vertical-align: top;\n",
       "    }\n",
       "\n",
       "    .dataframe thead th {\n",
       "        text-align: right;\n",
       "    }\n",
       "</style>\n",
       "<table border=\"1\" class=\"dataframe\">\n",
       "  <thead>\n",
       "    <tr style=\"text-align: right;\">\n",
       "      <th></th>\n",
       "      <th>feature</th>\n",
       "      <th>imp</th>\n",
       "    </tr>\n",
       "  </thead>\n",
       "  <tbody>\n",
       "    <tr>\n",
       "      <th>2</th>\n",
       "      <td>score_bki</td>\n",
       "      <td>1.012831</td>\n",
       "    </tr>\n",
       "    <tr>\n",
       "      <th>18</th>\n",
       "      <td>home_address_2</td>\n",
       "      <td>0.602657</td>\n",
       "    </tr>\n",
       "    <tr>\n",
       "      <th>12</th>\n",
       "      <td>education_SCH</td>\n",
       "      <td>0.583193</td>\n",
       "    </tr>\n",
       "    <tr>\n",
       "      <th>21</th>\n",
       "      <td>work_address_3</td>\n",
       "      <td>0.470735</td>\n",
       "    </tr>\n",
       "    <tr>\n",
       "      <th>13</th>\n",
       "      <td>education_UGR</td>\n",
       "      <td>0.469184</td>\n",
       "    </tr>\n",
       "    <tr>\n",
       "      <th>25</th>\n",
       "      <td>sna_4</td>\n",
       "      <td>0.430780</td>\n",
       "    </tr>\n",
       "    <tr>\n",
       "      <th>1</th>\n",
       "      <td>decline_app_cnt</td>\n",
       "      <td>0.420425</td>\n",
       "    </tr>\n",
       "    <tr>\n",
       "      <th>27</th>\n",
       "      <td>month_Jan</td>\n",
       "      <td>0.399217</td>\n",
       "    </tr>\n",
       "    <tr>\n",
       "      <th>26</th>\n",
       "      <td>month_Feb</td>\n",
       "      <td>0.360511</td>\n",
       "    </tr>\n",
       "    <tr>\n",
       "      <th>20</th>\n",
       "      <td>work_address_2</td>\n",
       "      <td>0.340345</td>\n",
       "    </tr>\n",
       "    <tr>\n",
       "      <th>28</th>\n",
       "      <td>month_Mar</td>\n",
       "      <td>0.322721</td>\n",
       "    </tr>\n",
       "    <tr>\n",
       "      <th>8</th>\n",
       "      <td>mean_income_age</td>\n",
       "      <td>0.294096</td>\n",
       "    </tr>\n",
       "    <tr>\n",
       "      <th>14</th>\n",
       "      <td>sex_M</td>\n",
       "      <td>0.290904</td>\n",
       "    </tr>\n",
       "    <tr>\n",
       "      <th>3</th>\n",
       "      <td>bki_request_cnt</td>\n",
       "      <td>0.283669</td>\n",
       "    </tr>\n",
       "    <tr>\n",
       "      <th>23</th>\n",
       "      <td>sna_2</td>\n",
       "      <td>0.260074</td>\n",
       "    </tr>\n",
       "    <tr>\n",
       "      <th>10</th>\n",
       "      <td>education_GRD</td>\n",
       "      <td>0.217038</td>\n",
       "    </tr>\n",
       "    <tr>\n",
       "      <th>24</th>\n",
       "      <td>sna_3</td>\n",
       "      <td>0.166279</td>\n",
       "    </tr>\n",
       "    <tr>\n",
       "      <th>11</th>\n",
       "      <td>education_PGR</td>\n",
       "      <td>0.107752</td>\n",
       "    </tr>\n",
       "    <tr>\n",
       "      <th>19</th>\n",
       "      <td>home_address_3</td>\n",
       "      <td>0.099070</td>\n",
       "    </tr>\n",
       "    <tr>\n",
       "      <th>15</th>\n",
       "      <td>car_Y</td>\n",
       "      <td>0.003063</td>\n",
       "    </tr>\n",
       "    <tr>\n",
       "      <th>4</th>\n",
       "      <td>region_rating</td>\n",
       "      <td>-0.023315</td>\n",
       "    </tr>\n",
       "    <tr>\n",
       "      <th>5</th>\n",
       "      <td>income</td>\n",
       "      <td>-0.035679</td>\n",
       "    </tr>\n",
       "    <tr>\n",
       "      <th>6</th>\n",
       "      <td>first_time</td>\n",
       "      <td>-0.104798</td>\n",
       "    </tr>\n",
       "    <tr>\n",
       "      <th>17</th>\n",
       "      <td>good_work_1</td>\n",
       "      <td>-0.217039</td>\n",
       "    </tr>\n",
       "    <tr>\n",
       "      <th>22</th>\n",
       "      <td>foreign_passport_Y</td>\n",
       "      <td>-0.230215</td>\n",
       "    </tr>\n",
       "    <tr>\n",
       "      <th>7</th>\n",
       "      <td>mean_income_region</td>\n",
       "      <td>-0.260234</td>\n",
       "    </tr>\n",
       "    <tr>\n",
       "      <th>0</th>\n",
       "      <td>age</td>\n",
       "      <td>-0.298243</td>\n",
       "    </tr>\n",
       "    <tr>\n",
       "      <th>16</th>\n",
       "      <td>car_type_Y</td>\n",
       "      <td>-0.302294</td>\n",
       "    </tr>\n",
       "    <tr>\n",
       "      <th>9</th>\n",
       "      <td>mean_bki_age</td>\n",
       "      <td>-1.229012</td>\n",
       "    </tr>\n",
       "  </tbody>\n",
       "</table>\n",
       "</div>"
      ],
      "text/plain": [
       "               feature       imp\n",
       "2            score_bki  1.012831\n",
       "18      home_address_2  0.602657\n",
       "12       education_SCH  0.583193\n",
       "21      work_address_3  0.470735\n",
       "13       education_UGR  0.469184\n",
       "25               sna_4  0.430780\n",
       "1      decline_app_cnt  0.420425\n",
       "27           month_Jan  0.399217\n",
       "26           month_Feb  0.360511\n",
       "20      work_address_2  0.340345\n",
       "28           month_Mar  0.322721\n",
       "8      mean_income_age  0.294096\n",
       "14               sex_M  0.290904\n",
       "3      bki_request_cnt  0.283669\n",
       "23               sna_2  0.260074\n",
       "10       education_GRD  0.217038\n",
       "24               sna_3  0.166279\n",
       "11       education_PGR  0.107752\n",
       "19      home_address_3  0.099070\n",
       "15               car_Y  0.003063\n",
       "4        region_rating -0.023315\n",
       "5               income -0.035679\n",
       "6           first_time -0.104798\n",
       "17         good_work_1 -0.217039\n",
       "22  foreign_passport_Y -0.230215\n",
       "7   mean_income_region -0.260234\n",
       "0                  age -0.298243\n",
       "16          car_type_Y -0.302294\n",
       "9         mean_bki_age -1.229012"
      ]
     },
     "execution_count": 61,
     "metadata": {},
     "output_type": "execute_result"
    }
   ],
   "source": [
    "feature_imp"
   ]
  },
  {
   "cell_type": "code",
   "execution_count": 62,
   "id": "35708920",
   "metadata": {},
   "outputs": [
    {
     "data": {
      "text/html": [
       "<div>\n",
       "<style scoped>\n",
       "    .dataframe tbody tr th:only-of-type {\n",
       "        vertical-align: middle;\n",
       "    }\n",
       "\n",
       "    .dataframe tbody tr th {\n",
       "        vertical-align: top;\n",
       "    }\n",
       "\n",
       "    .dataframe thead th {\n",
       "        text-align: right;\n",
       "    }\n",
       "</style>\n",
       "<table border=\"1\" class=\"dataframe\">\n",
       "  <thead>\n",
       "    <tr style=\"text-align: right;\">\n",
       "      <th></th>\n",
       "      <th>score_bki</th>\n",
       "    </tr>\n",
       "    <tr>\n",
       "      <th>default</th>\n",
       "      <th></th>\n",
       "    </tr>\n",
       "  </thead>\n",
       "  <tbody>\n",
       "    <tr>\n",
       "      <th>0</th>\n",
       "      <td>-1.956982</td>\n",
       "    </tr>\n",
       "    <tr>\n",
       "      <th>1</th>\n",
       "      <td>-1.683857</td>\n",
       "    </tr>\n",
       "  </tbody>\n",
       "</table>\n",
       "</div>"
      ],
      "text/plain": [
       "         score_bki\n",
       "default           \n",
       "0        -1.956982\n",
       "1        -1.683857"
      ]
     },
     "execution_count": 62,
     "metadata": {},
     "output_type": "execute_result"
    }
   ],
   "source": [
    "df_label.groupby('default')[['score_bki']].median()"
   ]
  },
  {
   "cell_type": "code",
   "execution_count": 63,
   "id": "938c839d",
   "metadata": {},
   "outputs": [],
   "source": [
    "vals = np.abs(shap_values.values).mean(0)\n",
    "feature_names = X_train\n",
    "\n",
    "feature_importance = pd.DataFrame(list(zip(feature_names, vals)),\n",
    "                                  columns=['col_name', 'feature_importance_vals'])\n",
    "feature_importance.sort_values(by=['feature_importance_vals'],\n",
    "                               ascending=False, inplace=True)"
   ]
  },
  {
   "cell_type": "code",
   "execution_count": 64,
   "id": "3029633f",
   "metadata": {},
   "outputs": [
    {
     "data": {
      "text/plain": [
       "['region_rating', 'score_bki', 'bki_request_cnt', 'decline_app_cnt']"
      ]
     },
     "execution_count": 64,
     "metadata": {},
     "output_type": "execute_result"
    }
   ],
   "source": [
    "cols_show = list(set(feature_importance.col_name[:15]) & set(num_cols))\n",
    "cols_show"
   ]
  },
  {
   "cell_type": "code",
   "execution_count": 65,
   "id": "00910576",
   "metadata": {},
   "outputs": [
    {
     "data": {
      "text/html": [
       "<div>\n",
       "<style scoped>\n",
       "    .dataframe tbody tr th:only-of-type {\n",
       "        vertical-align: middle;\n",
       "    }\n",
       "\n",
       "    .dataframe tbody tr th {\n",
       "        vertical-align: top;\n",
       "    }\n",
       "\n",
       "    .dataframe thead th {\n",
       "        text-align: right;\n",
       "    }\n",
       "</style>\n",
       "<table border=\"1\" class=\"dataframe\">\n",
       "  <thead>\n",
       "    <tr style=\"text-align: right;\">\n",
       "      <th>default</th>\n",
       "      <th>0</th>\n",
       "      <th>1</th>\n",
       "    </tr>\n",
       "  </thead>\n",
       "  <tbody>\n",
       "    <tr>\n",
       "      <th>region_rating</th>\n",
       "      <td>57.169044</td>\n",
       "      <td>53.677977</td>\n",
       "    </tr>\n",
       "    <tr>\n",
       "      <th>score_bki</th>\n",
       "      <td>-1.938048</td>\n",
       "      <td>-1.675637</td>\n",
       "    </tr>\n",
       "    <tr>\n",
       "      <th>bki_request_cnt</th>\n",
       "      <td>0.858317</td>\n",
       "      <td>1.013421</td>\n",
       "    </tr>\n",
       "    <tr>\n",
       "      <th>decline_app_cnt</th>\n",
       "      <td>0.135281</td>\n",
       "      <td>0.270484</td>\n",
       "    </tr>\n",
       "  </tbody>\n",
       "</table>\n",
       "</div>"
      ],
      "text/plain": [
       "default                  0          1\n",
       "region_rating    57.169044  53.677977\n",
       "score_bki        -1.938048  -1.675637\n",
       "bki_request_cnt   0.858317   1.013421\n",
       "decline_app_cnt   0.135281   0.270484"
      ]
     },
     "execution_count": 65,
     "metadata": {},
     "output_type": "execute_result"
    }
   ],
   "source": [
    "df_label[cols_show + ['default']].groupby('default')[cols_show].mean().T"
   ]
  },
  {
   "cell_type": "markdown",
   "id": "f00c66f7",
   "metadata": {},
   "source": [
    "* [Return to the Table of Contents](#main-bullet)"
   ]
  }
 ],
 "metadata": {
  "kernelspec": {
   "display_name": "Python 3",
   "language": "python",
   "name": "python3"
  },
  "language_info": {
   "codemirror_mode": {
    "name": "ipython",
    "version": 3
   },
   "file_extension": ".py",
   "mimetype": "text/x-python",
   "name": "python",
   "nbconvert_exporter": "python",
   "pygments_lexer": "ipython3",
   "version": "3.8.8"
  }
 },
 "nbformat": 4,
 "nbformat_minor": 5
}
